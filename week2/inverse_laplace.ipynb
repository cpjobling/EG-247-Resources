{
 "cells": [
  {
   "cell_type": "code",
   "execution_count": null,
   "metadata": {},
   "outputs": [],
   "source": [
    "cd matlab\n",
    "pwd\n",
    "clear all"
   ]
  },
  {
   "cell_type": "markdown",
   "metadata": {
    "slideshow": {
     "slide_type": "slide"
    }
   },
   "source": [
    "# The Inverse Laplace Transform"
   ]
  },
  {
   "cell_type": "markdown",
   "metadata": {
    "slideshow": {
     "slide_type": "slide"
    }
   },
   "source": [
    "## Definition\n",
    "\n",
    "The formal definition of the Inverse Laplace Transform is\n",
    "\n",
    "$$\\mathcal{L}^{-1}\\left\\{ F(s) \\right\\} = \\frac{1}{2\\pi j}\\int_{\\sigma-j\\omega}^{\\sigma+j\\omega} f(t)e^{st}ds$$\n",
    "\n",
    "but this is difficult to use in practice because it requires contour integration using complex variable theory."
   ]
  },
  {
   "cell_type": "markdown",
   "metadata": {
    "slideshow": {
     "slide_type": "subslide"
    }
   },
   "source": [
    "For most engineering problems we can instead refer to **Tables of Properties** and **Common Transform Pairs** to look up the *Inverse Laplace Transform*"
   ]
  },
  {
   "cell_type": "markdown",
   "metadata": {
    "slideshow": {
     "slide_type": "subslide"
    }
   },
   "source": [
    "(Or, if we are not taking an exam, we can use a computer or mobile device.)"
   ]
  },
  {
   "cell_type": "markdown",
   "metadata": {
    "slideshow": {
     "slide_type": "slide"
    }
   },
   "source": [
    "## Partial Fraction Expansion\n",
    "\n",
    "Quite often the Laplace Transform we start off with is a *rational polynomial* in $s$.\n",
    "\n",
    "$$F(s) = \\frac{N(s)}{D(s)} = \\frac{b_ms^m + b_{m-1}s^{m-1}+b_{m-2}s^{m-2}+ \\cdots +b_{1}s+b_{0}}{a_ns^n + a_{n-1}s^{n-1}+a_{n-2}s^{n-2}+ \\cdots +a_{1}s+a_{0}}$$\n",
    "\n",
    "The coefficients $a_k$ and $b_k$ are real for $k = 1, 2, 3, \\ldots$"
   ]
  },
  {
   "cell_type": "markdown",
   "metadata": {
    "slideshow": {
     "slide_type": "subslide"
    }
   },
   "source": [
    "### Proper and Improper Rational Functions\n",
    "\n",
    "* If $m < n$ $F(s)$ is said to be a *proper rational function*. \n",
    "* If $m \\ge n$ $F(s)$ is said to be an *improper rational function* \n",
    "\n",
    "(Think [proper fractions](http://www.mathsisfun.com/proper-fractions.html) and [improper fractions](http://www.mathsisfun.com/improper-fractions.html).)"
   ]
  },
  {
   "cell_type": "markdown",
   "metadata": {
    "slideshow": {
     "slide_type": "subslide"
    }
   },
   "source": [
    "### Zeros\n",
    "\n",
    "* The *roots* of the numerator polymonial $N(s)$ are found by setting $N(s)=0$\n",
    "* When $s$ equals one of the $m$ roots of $N(s)$ then $F(s)$ will be zero.\n",
    "* Thus the roots of $N(s)$ are the **zeros** of $F(s)$."
   ]
  },
  {
   "cell_type": "markdown",
   "metadata": {
    "slideshow": {
     "slide_type": "subslide"
    }
   },
   "source": [
    "### Poles\n",
    "\n",
    "* The *roots* (*zeros*) of the denominator polynomial are found by setting $D(s) = 0$. \n",
    "* When $s$ equals one of the $n$ roots of $D(s)$ then $F(s)$ will be infinite $F(s_r) = N(s_r)/0=\\infty$).\n",
    "* These are called the **poles** of $F(s)$.\n",
    "\n",
    "(Imagine telegraph poles planted at the points on the $s$-plane where $D(s)$ is zero.)"
   ]
  },
  {
   "cell_type": "markdown",
   "metadata": {
    "slideshow": {
     "slide_type": "subslide"
    }
   },
   "source": [
    "### A Further Simplifying Assumption\n",
    "\n",
    "If $F(s)$ is proper then it is conventional to make the coefficient $s_n$ unity thus:\n",
    "\n",
    "$$F(s) = \\frac{{N(s)}}{{D(s)}} = \\frac{{1/{a_n}\\left( {{b_m}{s^m} + {b_{m - 1}}{s^{m - 1}} + {b_{m - 2}}{s^{m - 2}} +  \\cdots  + {b_1}s + {b_0}} \\right)}}{{{s^n} + \\frac{{{a_{n - 1}}}}{{{a_n}}}{s^{n - 1}} + \\frac{{{a_{n - 2}}}}{{{a_n}}}{s^{n - 2}} +  \\cdots  + \\frac{{{a_1}}}{{{a_n}}}s + \\frac{{{a_0}}}{{{a_n}}}}}$$\n",
    "\n",
    "(I know it doesn't look simpler, but remember that the $a$s and $b$s are numbers in practice!)\n",
    "    "
   ]
  },
  {
   "cell_type": "markdown",
   "metadata": {
    "slideshow": {
     "slide_type": "slide"
    }
   },
   "source": [
    "## Inverse Laplace Transform by Partial Fraction Expansion (PFE)\n",
    "\n",
    "The poles of $F(s)$ can be real and distinct, real and repeated, complex conjugate pairs, or a combination. "
   ]
  },
  {
   "cell_type": "markdown",
   "metadata": {
    "slideshow": {
     "slide_type": "subslide"
    }
   },
   "source": [
    "### Defining the problem\n",
    "\n",
    "The nature of the poles governs the best way to tackle the PFE that leads to the solution of the Inverse Laplace Transform. Thus, we need to structure our presentation to cover one of the following cases:\n",
    "\n",
    "* The case where $F(s)$ has distinct poles\n",
    "* The case where $F(s)$ has complex poles\n",
    "* The case where $F(s)$ has repeated poles\n",
    "* The case where $F(s)$ is an improper rational polynomial\n",
    "\n",
    "We will examine each case by means of a worked example. Please refer to Chapter 3 of Karris for full details."
   ]
  },
  {
   "cell_type": "markdown",
   "metadata": {
    "slideshow": {
     "slide_type": "slide"
    }
   },
   "source": [
    "## The case of the distinct poles"
   ]
  },
  {
   "cell_type": "markdown",
   "metadata": {
    "slideshow": {
     "slide_type": "fragment"
    }
   },
   "source": [
    "If the poles $p_1,\\,p_2,\\,p_3,\\,\\ldots,\\, p_n$ are *distinct* we can factor the denominator of F(s) in the form \n",
    "\n",
    "$$F(s) = \\frac{N(s)}{(s-p_1)(s-p_2)(s-p_3)\\ldots(s-p_n)}$$"
   ]
  },
  {
   "cell_type": "markdown",
   "metadata": {
    "slideshow": {
     "slide_type": "subslide"
    }
   },
   "source": [
    "Next, using *partial fraction expansion*\n",
    "\n",
    "$$F(s)=\\frac{r_1}{s-p_1}+\\frac{r_2}{s-p_2}+\\frac{r_3}{s-p_3}+\\cdots + \\frac{r_n}{s-p_n}$$"
   ]
  },
  {
   "cell_type": "markdown",
   "metadata": {
    "slideshow": {
     "slide_type": "subslide"
    }
   },
   "source": [
    "To evaluate the *residue* $r_k$, we multiply both sides by $(s-p_k)$ then let $s \\to p_k$\n",
    "\n",
    "$$r_k = \\lim_{s\\to p_k}(s-p_k)F(s) = \\left.(s-p_k)F(s)\\right|_{s=p_k}$$"
   ]
  },
  {
   "cell_type": "markdown",
   "metadata": {
    "slideshow": {
     "slide_type": "subslide"
    }
   },
   "source": [
    "### Example 1\n",
    "\n",
    "Use the PFE method to simplify $F_1(s)$ below and find the time domain function $f_1(t)$ corresponding to $F_1(s)$\n",
    "\n",
    "$$F_1(s) = \\frac{2s+5}{s^2 + 5s + 6}$$\n",
    "\n",
    "(Quick solution: [Wolfram|Alpha](http://www.wolframalpha.com/input/?i=inverse+laplace+transform+%282s+%2B+5%29%2F%28s%5E2+%2B+5s+%2B+6%29))"
   ]
  },
  {
   "cell_type": "markdown",
   "metadata": {
    "slideshow": {
     "slide_type": "notes"
    }
   },
   "source": [
    "<pre style=\"border: 2px solid blue\">\n",
    "\n",
    "\n",
    "\n",
    "\n",
    "\n",
    "\n",
    "\n",
    "\n",
    "\n",
    "\n",
    "\n",
    "\n",
    "\n",
    "\n",
    "\n",
    "\n",
    "\n",
    "\n",
    "</pre>\n",
    "\n",
    "Worked solution: [example1.pdf](worked%20solutions/example1.pdf)."
   ]
  },
  {
   "cell_type": "markdown",
   "metadata": {
    "slideshow": {
     "slide_type": "subslide"
    }
   },
   "source": [
    "### Matlab Solution - Numerical"
   ]
  },
  {
   "cell_type": "code",
   "execution_count": 2,
   "metadata": {
    "slideshow": {
     "slide_type": "subslide"
    }
   },
   "outputs": [
    {
     "name": "stdout",
     "output_type": "stream",
     "text": [
      "\n",
      "r =\n",
      "\n",
      "    1.0000\n",
      "    1.0000\n",
      "\n",
      "\n",
      "p =\n",
      "\n",
      "   -3.0000\n",
      "   -2.0000\n",
      "\n",
      "\n",
      "k =\n",
      "\n",
      "     []\n",
      "\n"
     ]
    }
   ],
   "source": [
    "Ns = [2, 5]; Ds = [1, 5, 6];\n",
    "[r,p,k] = residue(Ns, Ds)"
   ]
  },
  {
   "cell_type": "markdown",
   "metadata": {
    "slideshow": {
     "slide_type": "subslide"
    }
   },
   "source": [
    "Interpreted as:\n",
    "\n",
    "$$F_1(s) = \\frac{1}{s + 3} + \\frac{1}{s + 2}$$\n",
    "\n",
    "which because of the linearity property of the Laplace Transform and using tables results in the *Inverse Laplace Transform*\n",
    "\n",
    "$$f_1(t) = e^{-3t} + e^{-2t}$$"
   ]
  },
  {
   "cell_type": "markdown",
   "metadata": {
    "slideshow": {
     "slide_type": "subslide"
    }
   },
   "source": [
    "### Matlab solution - symbolic"
   ]
  },
  {
   "cell_type": "code",
   "execution_count": 3,
   "metadata": {
    "slideshow": {
     "slide_type": "subslide"
    }
   },
   "outputs": [
    {
     "name": "stdout",
     "output_type": "stream",
     "text": [
      "exp(-2 t) + exp(-3 t)\n",
      "\n"
     ]
    }
   ],
   "source": [
    "syms s t;\n",
    "Fs = (2*s + 5)/(s^2 + 5*s + 6);\n",
    "ft = ilaplace(Fs);\n",
    "pretty(ft)"
   ]
  },
  {
   "cell_type": "markdown",
   "metadata": {
    "slideshow": {
     "slide_type": "subslide"
    }
   },
   "source": [
    "### Example 2\n",
    "\n",
    "Determine the Inverse Laplace Transform of\n",
    "\n",
    "$$F_2(s) = \\frac{3s^2+2s+5}{s^3 + 9s^2 + 23s + 15}$$\n",
    "\n",
    "(Quick solution: [Wolfram|Alpha](http://www.wolframalpha.com/input/?i=inverse+laplace+transform+%283s%5E2+%2B+2s+%2B+5%29%2F%28s%5E3+%2B+9s%5E2+%2B+23s+%2B+15%29))"
   ]
  },
  {
   "cell_type": "markdown",
   "metadata": {
    "slideshow": {
     "slide_type": "subslide"
    }
   },
   "source": [
    "### Solution 2"
   ]
  },
  {
   "cell_type": "markdown",
   "metadata": {
    "slideshow": {
     "slide_type": "fragment"
    }
   },
   "source": [
    "Because the denominator of $F_2(s)$ is a cubic, it will be difficult to factorise without computer assistance so we use Matlab to factorise $D(s)$"
   ]
  },
  {
   "cell_type": "code",
   "execution_count": 4,
   "metadata": {
    "slideshow": {
     "slide_type": "subslide"
    }
   },
   "outputs": [
    {
     "name": "stdout",
     "output_type": "stream",
     "text": [
      " \n",
      "ans =\n",
      " \n",
      "[ s + 3, s + 5, s + 1]\n",
      " \n"
     ]
    }
   ],
   "source": [
    "syms s;\n",
    "factor(s^3 + 9*s^2 + 23*s + 15)"
   ]
  },
  {
   "cell_type": "markdown",
   "metadata": {
    "slideshow": {
     "slide_type": "notes"
    }
   },
   "source": [
    "In an exam you'd be given the factors"
   ]
  },
  {
   "cell_type": "markdown",
   "metadata": {
    "slideshow": {
     "slide_type": "notes"
    }
   },
   "source": [
    "<pre style=\"border: 2px solid blue\">\n",
    "\n",
    "\n",
    "\n",
    "\n",
    "\n",
    "\n",
    "\n",
    "\n",
    "\n",
    "\n",
    "\n",
    "\n",
    "\n",
    "\n",
    "\n",
    "\n",
    "\n",
    "\n",
    "</pre>"
   ]
  },
  {
   "cell_type": "markdown",
   "metadata": {
    "slideshow": {
     "slide_type": "subslide"
    }
   },
   "source": [
    "We can now use the previous technique to find the solution which according to Matlab should be\n",
    "\n",
    "$$f_1(t) = \\frac{3}{4}e^{-t} - \\frac{13}{2}e^{-3t} + \\frac{35}{4}e^{-5t}$$"
   ]
  },
  {
   "cell_type": "markdown",
   "metadata": {
    "slideshow": {
     "slide_type": "slide"
    }
   },
   "source": [
    "## The case of the complex poles\n",
    "\n",
    "Quite often the poles of $F(s)$ are complex and because the complex poles occur as complex conjugate pairs, the number of complex poles is even. Thus if $p_k$ is a complex root of $D(s)$ then its complex conjugate $p_k^*$ is also a root of $D(s)$."
   ]
  },
  {
   "cell_type": "markdown",
   "metadata": {
    "slideshow": {
     "slide_type": "subslide"
    }
   },
   "source": [
    "You can still use the PFE with complex poles, as demonstrated in Pages 3-5&mdash;3-7 in the textbook. However it is easier to use the fact that complex poles will appear as quadratic factors of the form $s^2 + as + b$ and then call on the two transforms in the PFE\n",
    "\n",
    "\n",
    "$$\\frac{\\omega}{(s - a)^2 + \\omega^2} \\Leftrightarrow e^{at}\\sin\\;\\omega t$$\n",
    "\n",
    "$$\\frac{s + a}{(s - a)^2 + \\omega^2} \\Leftrightarrow e^{at}\\cos\\;\\omega t$$"
   ]
  },
  {
   "cell_type": "markdown",
   "metadata": {
    "slideshow": {
     "slide_type": "subslide"
    }
   },
   "source": [
    "### Example 3\n",
    "\n",
    "Rework Example 3-2 from the text book using quadratic factors.\n",
    "\n",
    "Find the Inverse Laplace Transform of \n",
    "\n",
    "$$F_3(s) = \\frac{s + 3}{(s+1)(s^2 + 4s + 8)}$$\n",
    "\n",
    "(Quick solution: [Wolfram|Alpha](http://www.wolframalpha.com/input/?i=inverse+laplace+transform+%28s%2B3%29%2F%28%28s+%2B+1%29%28s%5E2+%2B+4s+%2B+8%29%29) &ndash; Shows that the computer is not always best!)"
   ]
  },
  {
   "cell_type": "markdown",
   "metadata": {
    "slideshow": {
     "slide_type": "subslide"
    }
   },
   "source": [
    "### Solution\n",
    "\n",
    "We complete the square \n",
    "\n",
    "$$s^2 + 4s + 8 = (s + 2)^2 + 4$$\n",
    "\n",
    "Then comparing this with the desired form $(s - a)^2 + \\omega^2$, we have $a = -2$ and $\\omega^2 = 4 \\to \\omega = \\sqrt{4} = 2$.\n",
    "\n",
    "To solve this, we need to find the PFE for the assumed solution:\n",
    "\n",
    "$$F_3(s) = \\frac{r_1}{s+1} + \\frac{r_2(s+2)}{(s + 2)^2 + 2^2} \\frac{2 r_3}{(s + 2)^2 + 2^2}  $$\n",
    "\n",
    "expecting the solution\n",
    "\n",
    "$$f_3(t) = \\frac{2}{5}e^{-t} - \\frac{2}{5} e^{-2t}\\cos 2t + \\frac{3}{10} e^{-2t}\\sin 2t$$\n",
    "\n",
    "You can use trig. identities to simplify this further if you wish.\n",
    "\n"
   ]
  },
  {
   "cell_type": "markdown",
   "metadata": {
    "slideshow": {
     "slide_type": "slide"
    }
   },
   "source": [
    "## The case of the repeated poles\n",
    "\n",
    "When a rational polynomial has repeated poles \n",
    "\n",
    "$$F(s) = \\frac{N(s)}{(s - p_1)^m(s - p_2)\\cdots(s - p_{n-1})(s-p_0)}$$\n",
    "\n",
    "and the PFE will have the form:\n",
    "\n",
    "$$\\begin{array}{c}\n",
    "F(s) = \\frac{{{r_{11}}}}{{{{(s - {p_1})}^m}}} + \\frac{{{r_{12}}}}{{{{(s - {p_1})}^{m - 1}}}} + \\frac{{{r_{13}}}}{{{{(s - {p_1})}^{m - 2}}}} +  \\cdots  + \\frac{{{r_{1m}}}}{{(s - {p_1})}}\\\\\n",
    " + \\frac{{{r_2}}}{{(s - {p_2})}} + \\frac{{{r_3}}}{{(s - {p_3})}} +  \\cdots  + \\frac{{{r_n}}}{{(s - {p_n})}}\n",
    "\\end{array}$$"
   ]
  },
  {
   "cell_type": "markdown",
   "metadata": {
    "slideshow": {
     "slide_type": "subslide"
    }
   },
   "source": [
    "The ordinary residues $r_k$ can be found using the rule used for distinct roots.\n",
    "\n",
    "To find the residuals for the repeated term $r_{1k}$ we need to multiply both sides of the expression by $(s+p_1)^m$ and take repeated derivatives as described in detail in Pages 3-7&mdash;3-9 of the text book. This yields the general formula\n",
    "\n",
    "$$r_{1k}=\\lim_{s\\to p_1}\\frac{1}{(k-1)!}\\frac{d^{k-1}}{ds^{k-1}}\\left[(s-p_1)^mF(s)\\right]$$\n",
    "\n",
    "which in the age of computers is rarely needed."
   ]
  },
  {
   "cell_type": "markdown",
   "metadata": {
    "slideshow": {
     "slide_type": "subslide"
    }
   },
   "source": [
    "### Example 4\n",
    "\n",
    "Find the inverse Laplace Transform of \n",
    "\n",
    "$$F_4(s) = \\frac{s+3}{(s+2)(s+1)^2}$$\n",
    "\n",
    "Note that the transform\n",
    "\n",
    "$$te^{at} \\Leftrightarrow \\frac{1}{(s - a)^2}$$\n",
    "\n",
    "will be useful.\n",
    "\n",
    "(Quick solution: [Wolfram|Alpha](http://www.wolframalpha.com/input/?i=inverse+laplace+transform+%28s%2B3%29%2F%28%28s%2B2%29%28s+%2B+1%29%5E2%29))"
   ]
  },
  {
   "cell_type": "markdown",
   "metadata": {
    "slideshow": {
     "slide_type": "subslide"
    }
   },
   "source": [
    "## Solution\n",
    "\n",
    "We will leave the solution that makes use of the residude of repeated poles formula for you to study from the text book. In class we will illustrate the slightly simpler approach also presented in the text. \n",
    "\n",
    "For exam preparation, I would recommend that you use whatever method you find most comfortable."
   ]
  },
  {
   "cell_type": "markdown",
   "metadata": {
    "slideshow": {
     "slide_type": "notes"
    }
   },
   "source": [
    "<pre style=\"border: 2px solid blue\">\n",
    "\n",
    "\n",
    "\n",
    "\n",
    "\n",
    "\n",
    "\n",
    "\n",
    "\n",
    "\n",
    "\n",
    "\n",
    "\n",
    "\n",
    "\n",
    "\n",
    "\n",
    "\n",
    "</pre>"
   ]
  },
  {
   "cell_type": "markdown",
   "metadata": {
    "slideshow": {
     "slide_type": "subslide"
    }
   },
   "source": [
    "## The case of the improper rational polynomial\n",
    "\n",
    "If $F(s)$ is an improper rational polynomial, that is $m \\ge n$, we must first divide the numerator $N(s)$ by the denomonator $D(s)$ to derive an expression of the form\n",
    "\n",
    "$$F(s) = k_0 + k_1s + k_2s^2 + \\cdots + k_{m-n}s^{m-n} + \\frac{N(s)}{D(s)}$$\n",
    "\n",
    "and then $N(s)/D(s)$ will be a proper rational polynomial."
   ]
  },
  {
   "cell_type": "markdown",
   "metadata": {
    "slideshow": {
     "slide_type": "subslide"
    }
   },
   "source": [
    "### Example 5 - and some new transform pairs.\n",
    "\n",
    "$$F_6(s)= \\frac{s^2 + 2s + 2}{s+1}$$\n",
    "\n",
    "(Quick solution: [Wolfram|Alpha](http://www.wolframalpha.com/input/?i=inverse+laplace+transform+%28s%5E2+%2B+2s+%2B+2%29%2F%28s+%2B+1%29))"
   ]
  },
  {
   "cell_type": "markdown",
   "metadata": {
    "slideshow": {
     "slide_type": "subslide"
    }
   },
   "source": [
    "Dividing $s^2 + 2s + 2$ by $s + 1$ gives\n",
    "\n",
    "$$F_6(s) = s + 1 + \\frac{1}{s+1}$$"
   ]
  },
  {
   "cell_type": "markdown",
   "metadata": {
    "slideshow": {
     "slide_type": "fragment"
    }
   },
   "source": [
    "$$\\frac{1}{s+1} \\Leftrightarrow e^{-t}$$"
   ]
  },
  {
   "cell_type": "markdown",
   "metadata": {
    "slideshow": {
     "slide_type": "fragment"
    }
   },
   "source": [
    "$$1 \\Leftrightarrow \\delta(t)$$"
   ]
  },
  {
   "cell_type": "markdown",
   "metadata": {
    "slideshow": {
     "slide_type": "fragment"
    }
   },
   "source": [
    "$$s \\Leftrightarrow ?$$"
   ]
  },
  {
   "cell_type": "markdown",
   "metadata": {
    "slideshow": {
     "slide_type": "subslide"
    }
   },
   "source": [
    "### What function of *t* has Laplace transform *s*?"
   ]
  },
  {
   "cell_type": "markdown",
   "metadata": {
    "slideshow": {
     "slide_type": "subslide"
    }
   },
   "source": [
    "Recall from Session 2:\n",
    "    \n",
    "$$\\frac{d}{dt}u_0(t)=u_0'(t)=\\delta(t)$$"
   ]
  },
  {
   "cell_type": "markdown",
   "metadata": {
    "slideshow": {
     "slide_type": "fragment"
    }
   },
   "source": [
    "and\n",
    "\n",
    "$$\\frac{d^2}{dt^2}u_0(t)=u_0''(t)=\\delta'(t)$$"
   ]
  },
  {
   "cell_type": "markdown",
   "metadata": {
    "slideshow": {
     "slide_type": "subslide"
    }
   },
   "source": [
    "Also, by the time differentiation property\n",
    "\n",
    "$$u_0''(t)=\\delta'(t)\\Leftrightarrow s^2\\mathcal{L}u_0(t) - su_0(0) - \\left.\\frac{d}{dt}u_0(t)\\right|_{t=0} =  s^2\\frac{1}{s} = s$$"
   ]
  },
  {
   "cell_type": "markdown",
   "metadata": {
    "slideshow": {
     "slide_type": "subslide"
    }
   },
   "source": [
    "### New Transform Pairs"
   ]
  },
  {
   "cell_type": "markdown",
   "metadata": {
    "slideshow": {
     "slide_type": "fragment"
    }
   },
   "source": [
    "$$s\\Leftrightarrow \\delta'(t)$$"
   ]
  },
  {
   "cell_type": "markdown",
   "metadata": {
    "slideshow": {
     "slide_type": "fragment"
    }
   },
   "source": [
    "$$\\frac{d^n}{dt^n}\\delta(t)\\Leftrightarrow s^n$$"
   ]
  },
  {
   "cell_type": "markdown",
   "metadata": {
    "slideshow": {
     "slide_type": "subslide"
    }
   },
   "source": [
    "$$f_6(t) = e^{-t}+\\delta(t)+\\delta'(t)$$"
   ]
  },
  {
   "cell_type": "markdown",
   "metadata": {
    "slideshow": {
     "slide_type": "subslide"
    }
   },
   "source": [
    "### Matlab verification"
   ]
  },
  {
   "cell_type": "code",
   "execution_count": 5,
   "metadata": {},
   "outputs": [
    {
     "name": "stdout",
     "output_type": "stream",
     "text": [
      "\n",
      "r =\n",
      "\n",
      "     1\n",
      "\n",
      "\n",
      "p =\n",
      "\n",
      "    -1\n",
      "\n",
      "\n",
      "k =\n",
      "\n",
      "     1     1\n",
      "\n"
     ]
    }
   ],
   "source": [
    "Ns = [1, 2, 2]; Ds = [1 1];\n",
    "[r, p, k] = residue(Ns, Ds)"
   ]
  },
  {
   "cell_type": "code",
   "execution_count": 6,
   "metadata": {
    "slideshow": {
     "slide_type": "subslide"
    }
   },
   "outputs": [
    {
     "name": "stdout",
     "output_type": "stream",
     "text": [
      " \n",
      "f6 =\n",
      " \n",
      "exp(-t) + dirac(t) + dirac(1, t)\n",
      " \n"
     ]
    }
   ],
   "source": [
    "syms s;\n",
    "F6 = (s^2 + 2*s + 2)/(s + 1);\n",
    "f6 = ilaplace(F6)"
   ]
  },
  {
   "cell_type": "markdown",
   "metadata": {
    "slideshow": {
     "slide_type": "slide"
    }
   },
   "source": [
    "## Homework\n",
    "\n",
    "Do the end of the chapter exercises (Section 3.67) from the textbook. Don't look at the answers until you have attempted the problems."
   ]
  },
  {
   "cell_type": "markdown",
   "metadata": {
    "slideshow": {
     "slide_type": "slide"
    }
   },
   "source": [
    "## Lab Work\n",
    "\n",
    "In the lab, next Monday, we will explore the tools provided by Matlab for taking Laplace transforms, representing polynomials, finding roots and factorizing polynomials and solution of inverse Laplace transform problems."
   ]
  }
 ],
 "metadata": {
  "anaconda-cloud": {},
  "celltoolbar": "Slideshow",
  "kernelspec": {
   "display_name": "Matlab",
   "language": "matlab",
   "name": "matlab"
  },
  "language_info": {
   "codemirror_mode": "octave",
   "file_extension": ".m",
   "help_links": [
    {
     "text": "MetaKernel Magics",
     "url": "https://github.com/calysto/metakernel/blob/master/metakernel/magics/README.md"
    }
   ],
   "mimetype": "text/x-octave",
   "name": "matlab",
   "version": "0.15.0"
  }
 },
 "nbformat": 4,
 "nbformat_minor": 1
}
