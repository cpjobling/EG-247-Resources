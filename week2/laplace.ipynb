{
 "cells": [
  {
   "cell_type": "markdown",
   "metadata": {
    "nbpresent": {
     "id": "539c1885-618d-4389-ad93-1a4243797f8c"
    },
    "slideshow": {
     "slide_type": "slide"
    }
   },
   "source": [
    "# The Laplace Transformation"
   ]
  },
  {
   "cell_type": "markdown",
   "metadata": {
    "nbpresent": {
     "id": "cb909ce3-d98d-49c9-8c0f-2b539762bb6a"
    },
    "slideshow": {
     "slide_type": "slide"
    }
   },
   "source": [
    "## About the Laplace Transformation\n",
    "\n",
    "The Laplace Transformation (named after [Pierre-Simon Laplace](http://en.wikipedia.org/wiki/Pierre-Simon_Laplace)) is a useful mathematical tool that is used in many branches of engineering including signals and systems theory, control theory, communications, mechanical engineering, etc. "
   ]
  },
  {
   "cell_type": "markdown",
   "metadata": {
    "nbpresent": {
     "id": "cb909ce3-d98d-49c9-8c0f-2b539762bb6a"
    },
    "slideshow": {
     "slide_type": "subslide"
    }
   },
   "source": [
    "Its principle benefits are: "
   ]
  },
  {
   "cell_type": "markdown",
   "metadata": {
    "nbpresent": {
     "id": "cb909ce3-d98d-49c9-8c0f-2b539762bb6a"
    },
    "slideshow": {
     "slide_type": "fragment"
    }
   },
   "source": [
    "* it enables us to represent differential equations that model the behaviour of systems in the time domain as polynomials in $s$ which facilitates their solution"
   ]
  },
  {
   "cell_type": "markdown",
   "metadata": {
    "nbpresent": {
     "id": "cb909ce3-d98d-49c9-8c0f-2b539762bb6a"
    },
    "slideshow": {
     "slide_type": "fragment"
    }
   },
   "source": [
    "* it converts time convolution (which is how we determine the time-response of a system to a given signal) into a simple multiplication in the $s$ domain."
   ]
  },
  {
   "cell_type": "markdown",
   "metadata": {
    "nbpresent": {
     "id": "cb909ce3-d98d-49c9-8c0f-2b539762bb6a"
    },
    "slideshow": {
     "slide_type": "subslide"
    }
   },
   "source": [
    "The only downside is that time $t$ is a real value whereas the Laplace transformation operator $s$ is a complex exponential $s = \\sigma + j\\omega$."
   ]
  },
  {
   "cell_type": "markdown",
   "metadata": {
    "nbpresent": {
     "id": "90f3c07d-3646-44b0-a549-7020fc10d16f"
    },
    "slideshow": {
     "slide_type": "slide"
    }
   },
   "source": [
    "## About this Session\n",
    "\n",
    "The preparatory reading for this session is Chapter 2 of Karris which\n",
    "\n",
    "* defines the Laplace transformation \n",
    "* gives the most useful properties of the Laplace transform with proofs \n",
    "* presents the Laplace transforms of the elementary signals discussed in the last session\n",
    "* presents the transforms of the more common system response types that are found in basic signals and systems."
   ]
  },
  {
   "cell_type": "markdown",
   "metadata": {
    "nbpresent": {
     "id": "90f3c07d-3646-44b0-a549-7020fc10d16f"
    },
    "slideshow": {
     "slide_type": "notes"
    }
   },
   "source": [
    "There is some intellectual benefit to being aware of the properties of the Laplace transformation and their proofs but being a pragmatic breed, we engineers typically prefer to make use of quick references of these properties and transforms, relying on Mathematics only when facing a problem not before encountered.\n",
    "\n",
    "In our practice, we want to encourage you to use of the properties and transform tables to solve problems so I will present only the properties and not the proofs."
   ]
  },
  {
   "cell_type": "markdown",
   "metadata": {
    "nbpresent": {
     "id": "f651cafb-8c2b-4d27-aec9-3491dbcce1aa"
    },
    "slideshow": {
     "slide_type": "slide"
    }
   },
   "source": [
    "## Agenda"
   ]
  },
  {
   "cell_type": "markdown",
   "metadata": {
    "nbpresent": {
     "id": "cdff914d-604d-4ae8-a8e6-8e5caf8bd41e"
    },
    "slideshow": {
     "slide_type": "fragment"
    }
   },
   "source": [
    "* Definition of the Laplace Transform"
   ]
  },
  {
   "cell_type": "markdown",
   "metadata": {
    "nbpresent": {
     "id": "74c922da-bfb7-4f82-808d-a89b61bd1ab6"
    },
    "slideshow": {
     "slide_type": "fragment"
    }
   },
   "source": [
    "* Some Selected Properties"
   ]
  },
  {
   "cell_type": "markdown",
   "metadata": {
    "nbpresent": {
     "id": "e7e4ac91-07af-41a4-98e4-6027ac34b41e"
    },
    "slideshow": {
     "slide_type": "fragment"
    }
   },
   "source": [
    "* Transforms of Elementary Signals"
   ]
  },
  {
   "cell_type": "markdown",
   "metadata": {
    "nbpresent": {
     "id": "11a99664-2fdb-4eff-8389-043965b5a6a5"
    },
    "slideshow": {
     "slide_type": "subslide"
    }
   },
   "source": [
    "* Common system responses"
   ]
  },
  {
   "cell_type": "markdown",
   "metadata": {
    "nbpresent": {
     "id": "a2796ec3-fd12-49d3-99b8-fdc640f0af04"
    },
    "slideshow": {
     "slide_type": "fragment"
    }
   },
   "source": [
    "* Transform tables"
   ]
  },
  {
   "cell_type": "markdown",
   "metadata": {
    "nbpresent": {
     "id": "b90e7c7c-1096-4140-81b3-53a0b7e12f6d"
    },
    "slideshow": {
     "slide_type": "fragment"
    }
   },
   "source": [
    "* Examples"
   ]
  },
  {
   "cell_type": "markdown",
   "metadata": {
    "nbpresent": {
     "id": "b8f02dd9-8876-4679-89fd-038772c205b9"
    },
    "slideshow": {
     "slide_type": "slide"
    }
   },
   "source": [
    "## Definition of the Laplace Transform"
   ]
  },
  {
   "cell_type": "markdown",
   "metadata": {
    "nbpresent": {
     "id": "b8f02dd9-8876-4679-89fd-038772c205b9"
    },
    "slideshow": {
     "slide_type": "subslide"
    }
   },
   "source": [
    "### Laplace transform\n",
    "\n",
    "$$\\mathcal{L}\\{f(t)\\}=F(s) = \\int_{0}^{\\infty}f(t)e^{-st}dt$$"
   ]
  },
  {
   "cell_type": "markdown",
   "metadata": {
    "nbpresent": {
     "id": "13b40116-d2dd-4b2a-acaa-0988c1ad16b0"
    },
    "slideshow": {
     "slide_type": "subslide"
    }
   },
   "source": [
    "### Inverse Laplace Transform\n",
    "\n",
    "$$\\mathcal{L}^{-1}\\{F(s)\\}=f(t)=\\frac{1}{2\\pi j}\\int_{\\sigma-j\\omega}^{\\sigma+j\\omega}F(s)e^{st} ds$$"
   ]
  },
  {
   "cell_type": "markdown",
   "metadata": {
    "nbpresent": {
     "id": "4ad52fcd-e2e8-4d41-8827-511753bd1148"
    },
    "slideshow": {
     "slide_type": "notes"
    }
   },
   "source": [
    "### Region of convergence\n",
    "\n",
    "For a Laplace transfomation to exist, the integral must be bounded. That is\n",
    "$$\\left| {\\int_0^\\infty  {f(t){e^{ - st}}dt} } \\right| < \\infty $$\n",
    "\n",
    "For most signals and systems of interest in this module it will be.\n",
    "\n",
    "(See discussion of exponential order on Page 2-2 of Karris)."
   ]
  },
  {
   "cell_type": "markdown",
   "metadata": {
    "nbpresent": {
     "id": "0dcb6800-1c02-4e86-a189-f1875ee1f083"
    },
    "slideshow": {
     "slide_type": "subslide"
    }
   },
   "source": [
    "### Informal transform notation\n",
    "\n",
    "The Laplace transform and its inverse come in pairs which are tabulated for ease of reference. For any given function of time $f(t)$ we only need to know the transform\n",
    "\n",
    "$$f(t)\\Leftrightarrow F(s)$$ \n",
    "\n",
    "to be able to get to the Laplace transform and *vice versa*."
   ]
  },
  {
   "cell_type": "markdown",
   "metadata": {
    "nbpresent": {
     "id": "352d0877-b48f-4b8d-9082-371f06fef621"
    },
    "slideshow": {
     "slide_type": "slide"
    }
   },
   "source": [
    "## Some Selected Properties"
   ]
  },
  {
   "cell_type": "markdown",
   "metadata": {
    "nbpresent": {
     "id": "1c9ba9ad-1952-4838-966c-f5c382aed98d"
    },
    "slideshow": {
     "slide_type": "subslide"
    }
   },
   "source": [
    "### Linearity\n",
    "\n",
    "$$c_1f_1(t) + c_2f_2(t) + \\ldots + c_nf_n(t) \\Leftrightarrow c_1F_1(s) + c_2F_2(s) + \\ldots + c_nF_n(s)$$"
   ]
  },
  {
   "cell_type": "markdown",
   "metadata": {
    "nbpresent": {
     "id": "30dac3b5-90de-4b96-870a-762a98a9ec14"
    },
    "slideshow": {
     "slide_type": "subslide"
    }
   },
   "source": [
    "### Time shift\n",
    "\n",
    "$$f(t-a)u_0(t-a)\\Leftrightarrow e^{-as}F(s)$$"
   ]
  },
  {
   "cell_type": "markdown",
   "metadata": {
    "nbpresent": {
     "id": "ba9b31a1-0629-4a44-a66d-396a7db21360"
    },
    "slideshow": {
     "slide_type": "subslide"
    }
   },
   "source": [
    "### Frequency shift\n",
    "\n",
    "$$e^{-at}f(t)\\Leftrightarrow F(s+a)$$"
   ]
  },
  {
   "cell_type": "markdown",
   "metadata": {
    "nbpresent": {
     "id": "54b6a552-29a2-4907-a318-57a92c793a7e"
    },
    "slideshow": {
     "slide_type": "subslide"
    }
   },
   "source": [
    "### Scaling\n",
    "\n",
    "$$f(at)\\Leftrightarrow \\frac{1}{a}F\\left(\\frac{s}{a}\\right)$$"
   ]
  },
  {
   "cell_type": "markdown",
   "metadata": {
    "nbpresent": {
     "id": "9385975e-7004-4c81-b8f7-1e59b6c578bb"
    },
    "slideshow": {
     "slide_type": "subslide"
    }
   },
   "source": [
    "### Differentiation in the time domain\n",
    "\n",
    "$$f'(t) = \\frac{d}{dt} f(t) \\Leftrightarrow sF(s) - f(0^-)$$\n",
    "\n",
    "This property facilitates the solution of differential equations"
   ]
  },
  {
   "cell_type": "markdown",
   "metadata": {
    "nbpresent": {
     "id": "94a596bc-4117-4098-8b78-5776baa85cd2"
    },
    "slideshow": {
     "slide_type": "notes"
    }
   },
   "source": [
    "The differentiation property can be extended to higher-orders as follows\n",
    "$$f''(t) = \\frac{d^2}{dt^2}f(t) \\Leftrightarrow s^2F(s) - sf(0^-) - f'(0^-)$$\n",
    "\n",
    "$$f''(t) = \\frac{d^3}{dt^3}f(t) \\Leftrightarrow s^3F(s) - s^2f(0) - sf'(0^-) - f''(0^-)$$\n",
    "\n",
    "and in general\n",
    "\n",
    "$$f^{(n)}(t) = \\frac{d^n}{dt^n}f(t) \\Leftrightarrow s^nF(s) - s^{n-1}f(0^-) - s^{n-2}f'(0^-) - \\cdots - f^{(n-1)}(0^-)$$"
   ]
  },
  {
   "cell_type": "markdown",
   "metadata": {
    "nbpresent": {
     "id": "bc0e0601-4390-4fa4-861b-87554a960643"
    },
    "slideshow": {
     "slide_type": "subslide"
    }
   },
   "source": [
    "### Differentiation in the complex frequency domain\n",
    "\n",
    "$$tf(t) \\Leftrightarrow -\\frac{d}{ds}F(s)$$\n",
    "\n",
    "and in general\n",
    "\n",
    "$$t^nf(t) \\Leftrightarrow (-1)^n\\frac{d^n}{ds^n}F(s)$$"
   ]
  },
  {
   "cell_type": "markdown",
   "metadata": {
    "nbpresent": {
     "id": "f93fd2fa-8072-4953-abbc-6e950b92352a"
    },
    "slideshow": {
     "slide_type": "subslide"
    }
   },
   "source": [
    "### Integration in the time domain\n",
    "\n",
    "$$\\int_{-\\infty}^tf(\\tau)d\\tau \\Leftrightarrow \\frac{F(s)}{s}+\\frac{f(0^-)}{s}$$"
   ]
  },
  {
   "cell_type": "markdown",
   "metadata": {
    "nbpresent": {
     "id": "f93fd2fa-8072-4953-abbc-6e950b92352a"
    },
    "slideshow": {
     "slide_type": "notes"
    }
   },
   "source": [
    "This property is important because it provides a way to model the solution of a differential equation using op-amp integrators in so-called [Analogue Computers](http://en.wikipedia.org/wiki/Analog_computer) and is now the basis for numerical integration systems like Simulink."
   ]
  },
  {
   "cell_type": "markdown",
   "metadata": {
    "nbpresent": {
     "id": "6abec7fb-dc16-4dee-a4e6-78bc0a4ef4f8"
    },
    "slideshow": {
     "slide_type": "subslide"
    }
   },
   "source": [
    "### Integration in the complex frequency domain\n",
    "\n",
    "Providing that \n",
    "\n",
    "$$\\lim_{t\\to 0} \\frac{f(t)}{t}$$\n",
    "\n",
    "exists\n",
    "\n",
    "$$\\frac{f(t)}{t}\\Leftrightarrow \\int_s^\\infty F(s)ds$$\n",
    "\n"
   ]
  },
  {
   "cell_type": "markdown",
   "metadata": {
    "nbpresent": {
     "id": "9c3efaa7-edf9-42e1-b35d-302a88719f7b"
    },
    "slideshow": {
     "slide_type": "subslide"
    }
   },
   "source": [
    "### Time periodicity property\n",
    "\n",
    "If $f(t)$ is a periodic function with period $T$ such that $f(t) = f(t+nT)$ for $n=1,2,3,\\ldots$ then\n",
    "\n",
    "$$f(t+nT) \\Leftrightarrow \\frac{\\int_0^T f(t)e^{-st}dt}{1-e^{-sT}}$$"
   ]
  },
  {
   "cell_type": "markdown",
   "metadata": {
    "nbpresent": {
     "id": "2d3c3350-228e-4b8f-8a2f-8244033a00af"
    },
    "slideshow": {
     "slide_type": "subslide"
    }
   },
   "source": [
    "### Initial value theorem\n",
    "\n",
    "$$\\lim_{t\\to 0}f(t) \\Leftrightarrow \\lim_{s\\to \\infty} sF(s) = f(0^-)$$"
   ]
  },
  {
   "cell_type": "markdown",
   "metadata": {
    "nbpresent": {
     "id": "9b6d70ca-bf5a-4366-8701-b5ec61b24e93"
    },
    "slideshow": {
     "slide_type": "subslide"
    }
   },
   "source": [
    "### Final value theorem\n",
    "\n",
    "$$\\lim_{t\\to \\infty}f(t) \\Leftrightarrow \\lim_{s\\to 0} sF(s) = f(\\infty)$$"
   ]
  },
  {
   "cell_type": "markdown",
   "metadata": {
    "nbpresent": {
     "id": "509b27f0-eef5-446b-b7be-6be1757afd6a"
    },
    "slideshow": {
     "slide_type": "subslide"
    }
   },
   "source": [
    "### Convolution in the time domain\n",
    "\n",
    "$$f_1(t)*f_2(t) = \\int_{0}^{t}f_1(\\tau)f_2(t-\\tau) d\\tau \\Leftrightarrow F_1(s) F_2(s)$$"
   ]
  },
  {
   "cell_type": "markdown",
   "metadata": {
    "nbpresent": {
     "id": "509b27f0-eef5-446b-b7be-6be1757afd6a"
    },
    "slideshow": {
     "slide_type": "notes"
    }
   },
   "source": [
    "This is another important result as it allows us to compute the response of a system by simply multiplying the Laplace transforms of the system and the signal and then inverse Laplace transforming the result. \n",
    "\n",
    "This is usually much simpler than computing the convolution integral in the time domain &ndash; an operation we we see later!"
   ]
  },
  {
   "cell_type": "markdown",
   "metadata": {
    "nbpresent": {
     "id": "c9bee9cc-fcec-4bbf-922d-74d59842e5b7"
    },
    "slideshow": {
     "slide_type": "subslide"
    }
   },
   "source": [
    "### Convolution in the complex frequency domain\n",
    "\n",
    "Multiplying two signals together in the time domain is the same as performing convolution in the complex frequency domain. \n",
    "\n",
    "$$f_1(t)f_2(t) \\Leftrightarrow \\frac{1}{2\\pi j}F_1(s) * F_2(s) = \\frac{1}{2\\pi j}\\lim_{T\\to \\infty}\\int_{c-jT}^{c+jT}F_1(\\sigma)F_2(s-\\sigma)d\\sigma$$\n",
    "\n",
    "Convolution in the complex frequency domain is nasty &ndash; multiplication in the time domain is relatively painless."
   ]
  },
  {
   "cell_type": "markdown",
   "metadata": {
    "nbpresent": {
     "id": "e58f747d-f0a8-464d-b62f-f7bb9ce8b605"
    },
    "slideshow": {
     "slide_type": "slide"
    }
   },
   "source": [
    "## Transform tables\n",
    "\n",
    "Every textbook that covers Laplace transforms will provide a tables of properties and the most commonly encountered transforms. Karris is no exception and you will find a table of transforms in Tables 2.1 and 2.2. \n",
    "\n",
    "Here are a couple that are on the net for your reference\n",
    "\n",
    "* Laplace transform [(Wikipedia)](http://en.wikipedia.org/wiki/Laplace_transform)\n",
    "* Laplace Transform [(Wolfram|Alpha)](http://mathworld.wolfram.com/LaplaceTransform.html)"
   ]
  },
  {
   "cell_type": "markdown",
   "metadata": {
    "nbpresent": {
     "id": "0deac4e0-df0c-4513-a0ae-81ed56e94aec"
    },
    "slideshow": {
     "slide_type": "subslide"
    }
   },
   "source": [
    "### Don't panic\n",
    "\n",
    "Tables of Laplace transform properties and transforms will be included with the exam paper."
   ]
  },
  {
   "cell_type": "markdown",
   "metadata": {
    "nbpresent": {
     "id": "2a56e188-1891-420a-a66b-be808a1a11e2"
    },
    "slideshow": {
     "slide_type": "slide"
    }
   },
   "source": [
    "## Transforms of Elementary Signals\n",
    "\n",
    "<table width=\"60%\">\n",
    "<thead>\n",
    "<tr><td width=\"10%\">&nbsp;</td><th width=\"40%\">f(t)</th><th width=\"40%\">F(s)</th></tr>\n",
    "</thead>\n",
    "<tbody>\n",
    "<tr><td>1</td><td>$$\\delta(t)$$</td><td>$$1$$</td></tr>\n",
    "<tr><td>2</td><td>$$\\delta(t-a)$$</td><td>$$e^{-as}$$</td></tr>\n",
    "<tr><td>3</td><td>$$u_0(t)$$</td><td>$$\\frac{1}{s}$$</td></tr>\n",
    "<tr><td>4</td><td>$$t u_0(t)$$</td><td>$$\\frac{1}{s^2}$$</td></tr>\n",
    "<tr><td>5</td><td>$$t^n u_0(t)$$</td><td>$$\\frac{n!}{s^{n+1}}$$</td></tr>\n",
    "<tr><td>6</td><td>$$e^{-at}u_0(t)$$</td><td>$$\\frac{1}{s+a}$$</td></tr>\n",
    "<tr><td>7</td><td>$$t^n e^{-at} u_0(t)$$</td><td>$$\\frac{n!}{(s+a)^{n+1}}$$</td></tr>\n",
    "<tr><td>8</td><td>$$\\sin (\\omega t) u_0(t)$$</td><td>$$\\frac{\\omega}{s^2 + \\omega^2}$$</td></tr>\n",
    "<tr><td>9</td><td>$$\\cos (\\omega t) u_0(t)$$</td><td>$$\\frac{s}{s^2 + \\omega^2}$$</td></tr>\n",
    "<tr><td>10</td><td>$$e^{-at} \\sin (\\omega t) u_0(t)$$</td><td>$$\\frac{\\omega}{(s + a)^2 + \\omega^2}$$</td></tr>\n",
    "<tr><td>11</td><td>$$e^{-at}\\cos (\\omega t) u_0(t)$$</td><td>$$\\frac{s+a}{(s+a)^2 + \\omega^2}$$</td></tr>\n",
    "</tbody>\n",
    "</table>\n",
    "\n",
    "\n",
    "Refer to the textbook if you want to see the proof of these transforms."
   ]
  },
  {
   "cell_type": "markdown",
   "metadata": {
    "nbpresent": {
     "id": "f49c045e-0507-4c62-8cb2-9389df04b6b9"
    },
    "slideshow": {
     "slide_type": "slide"
    }
   },
   "source": [
    "## Laplace transforms of common waveforms\n",
    "\n",
    "We will work through a few of the following on the board in class\n",
    "\n",
    "* Pulse\n",
    "* Linear segment\n",
    "* Triangular waveform\n",
    "* Rectangular periodic waveform (square wave)\n",
    "* Half rectified sine wave"
   ]
  },
  {
   "cell_type": "markdown",
   "metadata": {
    "nbpresent": {
     "id": "027ac91d-b792-4ffb-a0b4-72a4a144638b"
    },
    "slideshow": {
     "slide_type": "slide"
    }
   },
   "source": [
    "## Using Matlab to Find Laplace Transforms\n",
    "\n",
    "The Matlab function `laplace` can be used to find laplace transforms of time functions. The lab exercises will illustrate this."
   ]
  },
  {
   "cell_type": "markdown",
   "metadata": {
    "nbpresent": {
     "id": "4f9f0fa3-84d5-45c3-a6fd-78f84f94388c"
    },
    "slideshow": {
     "slide_type": "slide"
    }
   },
   "source": [
    "## Homework\n",
    "\n",
    "Attempt at least one of the end-of-chapter exercises from each question 1-7 of Section 2.7 from the textbook. Don't look at the answers until you have attempted the problems.\n",
    "\n",
    "If we have time, I will work through one or two of these in class."
   ]
  }
 ],
 "metadata": {
  "anaconda-cloud": {},
  "celltoolbar": "Slideshow",
  "kernelspec": {
   "display_name": "Matlab",
   "language": "matlab",
   "name": "matlab"
  },
  "language_info": {
   "codemirror_mode": "octave",
   "file_extension": ".m",
   "help_links": [
    {
     "text": "MetaKernel Magics",
     "url": "https://github.com/calysto/metakernel/blob/master/metakernel/magics/README.md"
    }
   ],
   "mimetype": "text/x-octave",
   "name": "matlab",
   "version": "0.15.0"
  },
  "nbpresent": {
   "slides": {
    "01708ab6-160a-4960-b405-dc7d261f34cb": {
     "id": "01708ab6-160a-4960-b405-dc7d261f34cb",
     "prev": "59f635c7-1663-4d1f-894b-46fe3c3ae367",
     "regions": {
      "10686621-f753-40e6-b4c2-3db07109e520": {
       "attrs": {
        "height": 0.8,
        "width": 0.8,
        "x": 0.1,
        "y": 0.1
       },
       "content": {
        "cell": "2a56e188-1891-420a-a66b-be808a1a11e2",
        "part": "whole"
       },
       "id": "10686621-f753-40e6-b4c2-3db07109e520"
      }
     }
    },
    "06f5b78a-cd48-436f-814c-403149aa1eab": {
     "id": "06f5b78a-cd48-436f-814c-403149aa1eab",
     "prev": "819d1642-72d1-4803-99f0-885a046f7f9e",
     "regions": {
      "846c8129-55ba-47a9-90d0-c4094355c65d": {
       "attrs": {
        "height": 0.8,
        "width": 0.8,
        "x": 0.1,
        "y": 0.1
       },
       "content": {
        "cell": "90f3c07d-3646-44b0-a549-7020fc10d16f",
        "part": "whole"
       },
       "id": "846c8129-55ba-47a9-90d0-c4094355c65d"
      }
     }
    },
    "28ae0d71-532e-449f-84ec-f4b0bf32bfb2": {
     "id": "28ae0d71-532e-449f-84ec-f4b0bf32bfb2",
     "prev": "01708ab6-160a-4960-b405-dc7d261f34cb",
     "regions": {
      "02b8cc20-150a-45fb-ab4b-3be90badf946": {
       "attrs": {
        "height": 0.8,
        "width": 0.8,
        "x": 0.1,
        "y": 0.1
       },
       "content": {
        "cell": "f49c045e-0507-4c62-8cb2-9389df04b6b9",
        "part": "whole"
       },
       "id": "02b8cc20-150a-45fb-ab4b-3be90badf946"
      }
     }
    },
    "2ceefd04-f7e7-488f-bce6-9b42552f667e": {
     "id": "2ceefd04-f7e7-488f-bce6-9b42552f667e",
     "prev": "b1364eb0-1100-4cc2-af8c-09e4fab0f5c2",
     "regions": {
      "d1744b69-ebb9-4022-ac94-f1dc1d7189a8": {
       "attrs": {
        "height": 0.8,
        "width": 0.8,
        "x": 0.1,
        "y": 0.1
       },
       "content": {
        "cell": "352d0877-b48f-4b8d-9082-371f06fef621",
        "part": "whole"
       },
       "id": "d1744b69-ebb9-4022-ac94-f1dc1d7189a8"
      }
     }
    },
    "32343ec9-10a5-44ca-b5a7-241983261110": {
     "id": "32343ec9-10a5-44ca-b5a7-241983261110",
     "prev": "6020ac76-5621-40b4-aec4-acbaafb71d3c",
     "regions": {
      "737ede92-abcd-4ae4-a35d-cdc384876555": {
       "attrs": {
        "height": 0.8,
        "width": 0.8,
        "x": 0.1,
        "y": 0.1
       },
       "content": {
        "cell": "ba9b31a1-0629-4a44-a66d-396a7db21360",
        "part": "whole"
       },
       "id": "737ede92-abcd-4ae4-a35d-cdc384876555"
      }
     }
    },
    "3757af18-4a4c-4f55-8d78-7e8fe9dbee3f": {
     "id": "3757af18-4a4c-4f55-8d78-7e8fe9dbee3f",
     "prev": "32343ec9-10a5-44ca-b5a7-241983261110",
     "regions": {
      "5a6f505e-f766-433d-9bfd-5dc2e4e81cca": {
       "attrs": {
        "height": 0.8,
        "width": 0.8,
        "x": 0.1,
        "y": 0.1
       },
       "content": {
        "cell": "54b6a552-29a2-4907-a318-57a92c793a7e",
        "part": "whole"
       },
       "id": "5a6f505e-f766-433d-9bfd-5dc2e4e81cca"
      }
     }
    },
    "39be90fe-ad69-4daa-beee-624ca7a2b664": {
     "id": "39be90fe-ad69-4daa-beee-624ca7a2b664",
     "prev": "28ae0d71-532e-449f-84ec-f4b0bf32bfb2",
     "regions": {
      "91601980-1d37-431d-9aee-60ddd30811fe": {
       "attrs": {
        "height": 0.8,
        "width": 0.8,
        "x": 0.1,
        "y": 0.1
       },
       "content": {
        "cell": "027ac91d-b792-4ffb-a0b4-72a4a144638b",
        "part": "whole"
       },
       "id": "91601980-1d37-431d-9aee-60ddd30811fe"
      }
     }
    },
    "3c7b4999-aa1a-4bfd-bb45-ddad0f0dda62": {
     "id": "3c7b4999-aa1a-4bfd-bb45-ddad0f0dda62",
     "prev": "d0232c0f-efd1-48ea-98fa-37a5b856c4dc",
     "regions": {
      "e5192285-92b1-4ef7-84d6-203e9f69296d": {
       "attrs": {
        "height": 0.8,
        "width": 0.8,
        "x": 0.1,
        "y": 0.1
       },
       "content": {
        "cell": "2d3c3350-228e-4b8f-8a2f-8244033a00af",
        "part": "whole"
       },
       "id": "e5192285-92b1-4ef7-84d6-203e9f69296d"
      }
     }
    },
    "464db9a0-babd-4d57-a913-3d2c6aae3e1a": {
     "id": "464db9a0-babd-4d57-a913-3d2c6aae3e1a",
     "prev": "90f499cb-dd31-4f42-936f-5c174c5ffac5",
     "regions": {
      "12dce6be-8cab-4549-9e94-d5a1a7004c2a": {
       "attrs": {
        "height": 0.8,
        "width": 0.8,
        "x": 0.1,
        "y": 0.1
       },
       "content": {
        "cell": "c9bee9cc-fcec-4bbf-922d-74d59842e5b7",
        "part": "whole"
       },
       "id": "12dce6be-8cab-4549-9e94-d5a1a7004c2a"
      }
     }
    },
    "527e806e-82cb-47ad-966c-f17ba9d72495": {
     "id": "527e806e-82cb-47ad-966c-f17ba9d72495",
     "prev": "3c7b4999-aa1a-4bfd-bb45-ddad0f0dda62",
     "regions": {
      "9e9bedbb-45a5-4c9a-b486-488b09c58372": {
       "attrs": {
        "height": 0.8,
        "width": 0.8,
        "x": 0.1,
        "y": 0.1
       },
       "content": {
        "cell": "9b6d70ca-bf5a-4366-8701-b5ec61b24e93",
        "part": "whole"
       },
       "id": "9e9bedbb-45a5-4c9a-b486-488b09c58372"
      }
     }
    },
    "59f635c7-1663-4d1f-894b-46fe3c3ae367": {
     "id": "59f635c7-1663-4d1f-894b-46fe3c3ae367",
     "prev": "64c2806b-83af-455a-82e4-57fef8f9bed3",
     "regions": {
      "44fd9e96-2323-4e07-a4f2-cc306b3a1b73": {
       "attrs": {
        "height": 0.8,
        "width": 0.8,
        "x": 0.1,
        "y": 0.1
       },
       "content": {
        "cell": "0deac4e0-df0c-4513-a0ae-81ed56e94aec",
        "part": "whole"
       },
       "id": "44fd9e96-2323-4e07-a4f2-cc306b3a1b73"
      }
     }
    },
    "5a94d83f-5db6-437b-b1c9-0a78a48d31a5": {
     "id": "5a94d83f-5db6-437b-b1c9-0a78a48d31a5",
     "prev": "06f5b78a-cd48-436f-814c-403149aa1eab",
     "regions": {
      "19b3c9ed-98fb-4c08-87d0-9eb2c3674825": {
       "attrs": {
        "height": 0.4,
        "width": 0.8,
        "x": 0.1,
        "y": 0.5
       },
       "content": {
        "cell": "a2796ec3-fd12-49d3-99b8-fdc640f0af04",
        "part": "whole"
       },
       "id": "19b3c9ed-98fb-4c08-87d0-9eb2c3674825"
      },
      "2a0b9e9d-c8ea-4b0b-a5b8-4aca2cdb28c0": {
       "attrs": {
        "height": 0.4,
        "width": 0.8,
        "x": 0.1,
        "y": 0.5
       },
       "content": {
        "cell": "11a99664-2fdb-4eff-8389-043965b5a6a5",
        "part": "whole"
       },
       "id": "2a0b9e9d-c8ea-4b0b-a5b8-4aca2cdb28c0"
      },
      "45c97d86-d1d5-4978-9b30-b52b9e65a3c6": {
       "attrs": {
        "height": 0.4,
        "width": 0.8,
        "x": 0.1,
        "y": 0.5
       },
       "content": {
        "cell": "b90e7c7c-1096-4140-81b3-53a0b7e12f6d",
        "part": "whole"
       },
       "id": "45c97d86-d1d5-4978-9b30-b52b9e65a3c6"
      },
      "548bc4c4-d04c-4230-9428-420533577ed5": {
       "attrs": {
        "height": 0.4,
        "width": 0.8,
        "x": 0.1,
        "y": 0.5
       },
       "content": {
        "cell": "74c922da-bfb7-4f82-808d-a89b61bd1ab6",
        "part": "whole"
       },
       "id": "548bc4c4-d04c-4230-9428-420533577ed5"
      },
      "dd8dfa36-3ee8-4083-ae02-99474956490c": {
       "attrs": {
        "height": 0.4,
        "width": 0.8,
        "x": 0.1,
        "y": 0.5
       },
       "content": {
        "cell": "e7e4ac91-07af-41a4-98e4-6027ac34b41e",
        "part": "whole"
       },
       "id": "dd8dfa36-3ee8-4083-ae02-99474956490c"
      },
      "e0aeba3c-8955-4da4-bf25-ae0ebb7f5bc3": {
       "attrs": {
        "height": 0.8,
        "width": 0.8,
        "x": 0.1,
        "y": 0.1
       },
       "content": {
        "cell": "f651cafb-8c2b-4d27-aec9-3491dbcce1aa",
        "part": "whole"
       },
       "id": "e0aeba3c-8955-4da4-bf25-ae0ebb7f5bc3"
      },
      "e8931761-6371-4519-8d2c-2e317daf0b8e": {
       "attrs": {
        "height": 0.4,
        "width": 0.8,
        "x": 0.1,
        "y": 0.5
       },
       "content": {
        "cell": "cdff914d-604d-4ae8-a8e6-8e5caf8bd41e",
        "part": "whole"
       },
       "id": "e8931761-6371-4519-8d2c-2e317daf0b8e"
      }
     }
    },
    "5cff0b1a-427c-4d6d-b120-388a659baf65": {
     "id": "5cff0b1a-427c-4d6d-b120-388a659baf65",
     "prev": "77330b88-25c7-4879-a4ff-3079a5e1a878",
     "regions": {
      "26e436ab-d9bc-4a4f-a9d0-25e8b90b098c": {
       "attrs": {
        "height": 0.8,
        "width": 0.8,
        "x": 0.1,
        "y": 0.1
       },
       "content": {
        "cell": "bc0e0601-4390-4fa4-861b-87554a960643",
        "part": "whole"
       },
       "id": "26e436ab-d9bc-4a4f-a9d0-25e8b90b098c"
      }
     }
    },
    "6020ac76-5621-40b4-aec4-acbaafb71d3c": {
     "id": "6020ac76-5621-40b4-aec4-acbaafb71d3c",
     "prev": "f888a9b1-3789-4197-96dd-d6d152df34b3",
     "regions": {
      "5eebddb2-bed1-4dd5-b74f-99a03f035a66": {
       "attrs": {
        "height": 0.8,
        "width": 0.8,
        "x": 0.1,
        "y": 0.1
       },
       "content": {
        "cell": "30dac3b5-90de-4b96-870a-762a98a9ec14",
        "part": "whole"
       },
       "id": "5eebddb2-bed1-4dd5-b74f-99a03f035a66"
      }
     }
    },
    "606c9175-9150-435a-be1b-b0eca882ba10": {
     "id": "606c9175-9150-435a-be1b-b0eca882ba10",
     "prev": "39be90fe-ad69-4daa-beee-624ca7a2b664",
     "regions": {
      "b42266d6-7896-49ad-a9af-3bb857123f4a": {
       "attrs": {
        "height": 0.8,
        "width": 0.8,
        "x": 0.1,
        "y": 0.1
       },
       "content": {
        "cell": "4f9f0fa3-84d5-45c3-a6fd-78f84f94388c",
        "part": "whole"
       },
       "id": "b42266d6-7896-49ad-a9af-3bb857123f4a"
      }
     }
    },
    "64c2806b-83af-455a-82e4-57fef8f9bed3": {
     "id": "64c2806b-83af-455a-82e4-57fef8f9bed3",
     "prev": "464db9a0-babd-4d57-a913-3d2c6aae3e1a",
     "regions": {
      "f15beb6b-336f-40ba-a198-ed2dabd17a09": {
       "attrs": {
        "height": 0.8,
        "width": 0.8,
        "x": 0.1,
        "y": 0.1
       },
       "content": {
        "cell": "e58f747d-f0a8-464d-b62f-f7bb9ce8b605",
        "part": "whole"
       },
       "id": "f15beb6b-336f-40ba-a198-ed2dabd17a09"
      }
     }
    },
    "6d0ea348-d4b5-4fb9-8a0d-4c415c6158db": {
     "id": "6d0ea348-d4b5-4fb9-8a0d-4c415c6158db",
     "prev": "5a94d83f-5db6-437b-b1c9-0a78a48d31a5",
     "regions": {
      "ba2e97a8-ffd7-4bae-b8cb-8d3a7b238fe8": {
       "attrs": {
        "height": 0.8,
        "width": 0.8,
        "x": 0.1,
        "y": 0.1
       },
       "content": {
        "cell": "b8f02dd9-8876-4679-89fd-038772c205b9",
        "part": "whole"
       },
       "id": "ba2e97a8-ffd7-4bae-b8cb-8d3a7b238fe8"
      },
      "e32a4a92-2181-4e91-ad97-4b43a5a964e2": {
       "attrs": {
        "height": 0.4,
        "width": 0.8,
        "x": 0.1,
        "y": 0.5
       },
       "content": {
        "cell": "13b40116-d2dd-4b2a-acaa-0988c1ad16b0",
        "part": "whole"
       },
       "id": "e32a4a92-2181-4e91-ad97-4b43a5a964e2"
      }
     }
    },
    "77330b88-25c7-4879-a4ff-3079a5e1a878": {
     "id": "77330b88-25c7-4879-a4ff-3079a5e1a878",
     "prev": "fb7dd07b-8a7a-405b-857e-71234ce414e0",
     "regions": {
      "aa396afc-a9f4-4668-a28c-c686588141f6": {
       "attrs": {
        "height": 0.8,
        "width": 0.8,
        "x": 0.1,
        "y": 0.1
       },
       "content": {
        "cell": "94a596bc-4117-4098-8b78-5776baa85cd2",
        "part": "whole"
       },
       "id": "aa396afc-a9f4-4668-a28c-c686588141f6"
      }
     }
    },
    "819d1642-72d1-4803-99f0-885a046f7f9e": {
     "id": "819d1642-72d1-4803-99f0-885a046f7f9e",
     "prev": "93513024-e6e1-41dc-a17c-b3c32ca8a208",
     "regions": {
      "406f06ff-a331-434f-a4fb-c97e4cdee8af": {
       "attrs": {
        "height": 0.8,
        "width": 0.8,
        "x": 0.1,
        "y": 0.1
       },
       "content": {
        "cell": "cb909ce3-d98d-49c9-8c0f-2b539762bb6a",
        "part": "whole"
       },
       "id": "406f06ff-a331-434f-a4fb-c97e4cdee8af"
      }
     }
    },
    "90f499cb-dd31-4f42-936f-5c174c5ffac5": {
     "id": "90f499cb-dd31-4f42-936f-5c174c5ffac5",
     "prev": "527e806e-82cb-47ad-966c-f17ba9d72495",
     "regions": {
      "f3a5f65b-269a-4751-96f6-637a071ea72a": {
       "attrs": {
        "height": 0.8,
        "width": 0.8,
        "x": 0.1,
        "y": 0.1
       },
       "content": {
        "cell": "509b27f0-eef5-446b-b7be-6be1757afd6a",
        "part": "whole"
       },
       "id": "f3a5f65b-269a-4751-96f6-637a071ea72a"
      }
     }
    },
    "93513024-e6e1-41dc-a17c-b3c32ca8a208": {
     "id": "93513024-e6e1-41dc-a17c-b3c32ca8a208",
     "prev": null,
     "regions": {
      "71d2469c-7d60-49e3-b46f-45c535e014cd": {
       "attrs": {
        "height": 0.8,
        "width": 0.8,
        "x": 0.1,
        "y": 0.1
       },
       "content": {
        "cell": "539c1885-618d-4389-ad93-1a4243797f8c",
        "part": "whole"
       },
       "id": "71d2469c-7d60-49e3-b46f-45c535e014cd"
      }
     }
    },
    "a8a9626a-cedf-40eb-9572-daf7dcc6e88c": {
     "id": "a8a9626a-cedf-40eb-9572-daf7dcc6e88c",
     "prev": "5cff0b1a-427c-4d6d-b120-388a659baf65",
     "regions": {
      "6722fb67-1ff5-4c58-944e-9d1c915f3dd6": {
       "attrs": {
        "height": 0.8,
        "width": 0.8,
        "x": 0.1,
        "y": 0.1
       },
       "content": {
        "cell": "f93fd2fa-8072-4953-abbc-6e950b92352a",
        "part": "whole"
       },
       "id": "6722fb67-1ff5-4c58-944e-9d1c915f3dd6"
      }
     }
    },
    "b1364eb0-1100-4cc2-af8c-09e4fab0f5c2": {
     "id": "b1364eb0-1100-4cc2-af8c-09e4fab0f5c2",
     "prev": "c5c74595-51f6-425a-8184-52fc2ee20dc3",
     "regions": {
      "588c5651-e033-45b7-ad18-adc3d8d16b1f": {
       "attrs": {
        "height": 0.8,
        "width": 0.8,
        "x": 0.1,
        "y": 0.1
       },
       "content": {
        "cell": "0dcb6800-1c02-4e86-a189-f1875ee1f083",
        "part": "whole"
       },
       "id": "588c5651-e033-45b7-ad18-adc3d8d16b1f"
      }
     }
    },
    "bf70a825-34b3-40bc-9340-07f5abb9a808": {
     "id": "bf70a825-34b3-40bc-9340-07f5abb9a808",
     "prev": "a8a9626a-cedf-40eb-9572-daf7dcc6e88c",
     "regions": {
      "63eff05d-0b73-4215-aa1a-49fc7d877102": {
       "attrs": {
        "height": 0.8,
        "width": 0.8,
        "x": 0.1,
        "y": 0.1
       },
       "content": {
        "cell": "6abec7fb-dc16-4dee-a4e6-78bc0a4ef4f8",
        "part": "whole"
       },
       "id": "63eff05d-0b73-4215-aa1a-49fc7d877102"
      }
     }
    },
    "c5c74595-51f6-425a-8184-52fc2ee20dc3": {
     "id": "c5c74595-51f6-425a-8184-52fc2ee20dc3",
     "prev": "6d0ea348-d4b5-4fb9-8a0d-4c415c6158db",
     "regions": {
      "d3f1313d-d225-4908-a63e-4308a4a779c3": {
       "attrs": {
        "height": 0.8,
        "width": 0.8,
        "x": 0.1,
        "y": 0.1
       },
       "content": {
        "cell": "4ad52fcd-e2e8-4d41-8827-511753bd1148",
        "part": "whole"
       },
       "id": "d3f1313d-d225-4908-a63e-4308a4a779c3"
      }
     }
    },
    "d0232c0f-efd1-48ea-98fa-37a5b856c4dc": {
     "id": "d0232c0f-efd1-48ea-98fa-37a5b856c4dc",
     "prev": "bf70a825-34b3-40bc-9340-07f5abb9a808",
     "regions": {
      "e8b5adc9-c875-4d82-a2d4-1af083d34d7c": {
       "attrs": {
        "height": 0.8,
        "width": 0.8,
        "x": 0.1,
        "y": 0.1
       },
       "content": {
        "cell": "9c3efaa7-edf9-42e1-b35d-302a88719f7b",
        "part": "whole"
       },
       "id": "e8b5adc9-c875-4d82-a2d4-1af083d34d7c"
      }
     }
    },
    "f888a9b1-3789-4197-96dd-d6d152df34b3": {
     "id": "f888a9b1-3789-4197-96dd-d6d152df34b3",
     "prev": "2ceefd04-f7e7-488f-bce6-9b42552f667e",
     "regions": {
      "0c0e29c1-f6d4-43a4-a932-2c8ea5f1ca6a": {
       "attrs": {
        "height": 0.8,
        "width": 0.8,
        "x": 0.1,
        "y": 0.1
       },
       "content": {
        "cell": "1c9ba9ad-1952-4838-966c-f5c382aed98d",
        "part": "whole"
       },
       "id": "0c0e29c1-f6d4-43a4-a932-2c8ea5f1ca6a"
      }
     }
    },
    "fb7dd07b-8a7a-405b-857e-71234ce414e0": {
     "id": "fb7dd07b-8a7a-405b-857e-71234ce414e0",
     "prev": "3757af18-4a4c-4f55-8d78-7e8fe9dbee3f",
     "regions": {
      "95b2490c-6ee7-4419-9a18-e915c0e8725a": {
       "attrs": {
        "height": 0.8,
        "width": 0.8,
        "x": 0.1,
        "y": 0.1
       },
       "content": {
        "cell": "9385975e-7004-4c81-b8f7-1e59b6c578bb",
        "part": "whole"
       },
       "id": "95b2490c-6ee7-4419-9a18-e915c0e8725a"
      }
     }
    }
   },
   "themes": {}
  }
 },
 "nbformat": 4,
 "nbformat_minor": 1
}
