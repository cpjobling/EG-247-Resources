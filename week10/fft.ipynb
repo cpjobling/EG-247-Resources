{
 "cells": [
  {
   "cell_type": "code",
   "execution_count": null,
   "metadata": {
    "slideshow": {
     "slide_type": "skip"
    }
   },
   "outputs": [],
   "source": [
    "cd matlab\n",
    "pwd"
   ]
  },
  {
   "cell_type": "markdown",
   "metadata": {
    "slideshow": {
     "slide_type": "slide"
    }
   },
   "source": [
    "# The Fast Fourier Transform"
   ]
  },
  {
   "cell_type": "markdown",
   "metadata": {
    "slideshow": {
     "slide_type": "slide"
    }
   },
   "source": [
    "## Scope and Background Reading\n",
    "\n",
    "This session introduces the fast fourier transform (FFT) which is one of the most widely used numerical algorithms in the world. It exploits some features of the symmetry of the computation of the DFT to reduce the complexity to something that takes order $N^2$ ($O(N^2)$) complex operations to something that takes order $N log N$ ($O(N \\log N)$) operations. "
   ]
  },
  {
   "cell_type": "markdown",
   "metadata": {
    "slideshow": {
     "slide_type": "notes"
    }
   },
   "source": [
    "The FFT is to be found in all manner of signal and image processing algorithms, and because it is more efficient than the DFT, you will find it exploited in hundreds of signal processing applications.\n",
    "\n",
    "As one example, it turns out that the computation of the convolution of two long DT sequences is more efficient if the FFT of the two signals is taken, the product of the frequency spectra is computed the Inverse DFT of the result is computed.\n",
    "\n",
    "In this presentation, we will not go through the mathematical development of the FFT, please read section 10.6 of the textbook if you want the details. Here we will concentrate on the benefits to be gained by using the FFT and give some examples of its use in MATLAB."
   ]
  },
  {
   "cell_type": "markdown",
   "metadata": {
    "slideshow": {
     "slide_type": "fragment"
    }
   },
   "source": [
    "The material in this presentation and notes is based on Chapter 10 of [Steven T. Karris, Signals and Systems: with Matlab Computation and Simulink Modelling, 5th Edition](http://site.ebrary.com/lib/swansea/docDetail.action?docID=10547416) from the **Required Reading List**."
   ]
  },
  {
   "cell_type": "markdown",
   "metadata": {
    "slideshow": {
     "slide_type": "slide"
    }
   },
   "source": [
    "## Agenda"
   ]
  },
  {
   "cell_type": "markdown",
   "metadata": {
    "slideshow": {
     "slide_type": "fragment"
    }
   },
   "source": [
    "* The inefficiency of the DFT"
   ]
  },
  {
   "cell_type": "markdown",
   "metadata": {
    "slideshow": {
     "slide_type": "fragment"
    }
   },
   "source": [
    "* The FFT - a sketch of its development"
   ]
  },
  {
   "cell_type": "markdown",
   "metadata": {
    "slideshow": {
     "slide_type": "fragment"
    }
   },
   "source": [
    "* FFT v DFT"
   ]
  },
  {
   "cell_type": "markdown",
   "metadata": {
    "slideshow": {
     "slide_type": "fragment"
    }
   },
   "source": [
    "* Two examples"
   ]
  },
  {
   "cell_type": "markdown",
   "metadata": {
    "slideshow": {
     "slide_type": "slide"
    }
   },
   "source": [
    "## The inefficiency of the DFT\n",
    "\n",
    "Consider a signal whose highest frequency is 18 kHz, the sampling frequency is 50 kHz, and 1024 samples are taken, i.e., $N=1024$. "
   ]
  },
  {
   "cell_type": "markdown",
   "metadata": {
    "slideshow": {
     "slide_type": "fragment"
    }
   },
   "source": [
    "The time required to compute the entire DFT would be:\n",
    "\n",
    "$$t = \\frac{1024\\,\\mathrm{samples}}{50\\times 10^3\\,\\mathrm{samples\\ per\\ second}} = 20.48\\,\\mathrm{ms}$$"
   ]
  },
  {
   "cell_type": "markdown",
   "metadata": {
    "slideshow": {
     "slide_type": "subslide"
    }
   },
   "source": [
    "To compute the number of operations required to complete this task, let us expand the N-point DFT defined as:\n",
    "\n",
    "$$X[m] = \\sum_{n=0}^{N-1} x[n] W_N^{mn}$$"
   ]
  },
  {
   "cell_type": "markdown",
   "metadata": {
    "slideshow": {
     "slide_type": "fragment"
    }
   },
   "source": [
    "Then\n",
    "$$\\begin{eqnarray*}\n",
    "  X[0] &=& x[0]W_N^0 + x[1]W_N^0 + x[1]W_N^0 +  \\cdots  + x[N - 1]W_N^0 \\hfill \\\\\n",
    "  X[1] &=& x[0]W_N^0 + x[1]W_N^1 + x[1]W_N^2 +  \\cdots  + x[N - 1]W_N^{N - 1} \\hfill \\\\\n",
    "  X[2] &=& x[0]W_N^0 + x[1]W_N^2 + x[1]W_N^4 +  \\cdots  + x[N - 1]W_N^{2(N - 1)} \\hfill \\\\\n",
    "  \\hfil &\\cdots&  \\hfill \\\\\n",
    "  X[N - 1] &=& x[0]W_N^0 + x[1]W_N^{N - 1} + x[1]W_N^{2(N - 1)} +  \\cdots  + x[N - 1]W_N^{{{(N - 1)}^2}} \\hfill \\\\ \n",
    "\\end{eqnarray*}$$"
   ]
  },
  {
   "cell_type": "markdown",
   "metadata": {
    "slideshow": {
     "slide_type": "subslide"
    }
   },
   "source": [
    "* It is worth remembering that \n",
    "$$W_N^0 = e^{-j\\frac{2\\pi}{N}(0)} = 1.$$"
   ]
  },
  {
   "cell_type": "markdown",
   "metadata": {
    "slideshow": {
     "slide_type": "fragment"
    }
   },
   "source": [
    "* Since $W_N^i$ is a complex number, the computation of any frequency component $X[k]$ requires $N$ complex multiplications and $N$ complex additions"
   ]
  },
  {
   "cell_type": "markdown",
   "metadata": {
    "slideshow": {
     "slide_type": "fragment"
    }
   },
   "source": [
    "* $2N$ complex arithmetic operations are required to compute any frequency component of $X[k].$<sup>1</sup> "
   ]
  },
  {
   "cell_type": "markdown",
   "metadata": {
    "slideshow": {
     "slide_type": "fragment"
    }
   },
   "source": [
    "* If we assume that $x[n]$ is real, then only $N/2$ of the $|X[m]|$ components are unique. "
   ]
  },
  {
   "cell_type": "markdown",
   "metadata": {
    "slideshow": {
     "slide_type": "fragment"
    }
   },
   "source": [
    "* Therefore we would require $2N\\times N/2 = N^2$ complex operations to compute the entire frequency spectrum.<sup>2</sup>"
   ]
  },
  {
   "cell_type": "markdown",
   "metadata": {
    "slideshow": {
     "slide_type": "subslide"
    }
   },
   "source": [
    "* For our example, the $N=1024$-point DFT, would require $1024^2 = 1,048,576$ complex operations"
   ]
  },
  {
   "cell_type": "markdown",
   "metadata": {
    "slideshow": {
     "slide_type": "fragment"
    }
   },
   "source": [
    "* These would have to be completed in 20.48 ms. "
   ]
  },
  {
   "cell_type": "markdown",
   "metadata": {
    "slideshow": {
     "slide_type": "fragment"
    }
   },
   "source": [
    "* This may be possible with modern computing hardware, perhaps even in a mobile phone, but it seems impractical."
   ]
  },
  {
   "cell_type": "markdown",
   "metadata": {
    "slideshow": {
     "slide_type": "subslide"
    }
   },
   "source": [
    "* Fortunately, many of the $W_N$ terms in the computation are unity ($=1$). "
   ]
  },
  {
   "cell_type": "markdown",
   "metadata": {
    "slideshow": {
     "slide_type": "fragment"
    }
   },
   "source": [
    "* Moreover, because the $W_N^i$ points are equally spaced points on the unit circle; "
   ]
  },
  {
   "cell_type": "markdown",
   "metadata": {
    "slideshow": {
     "slide_type": "fragment"
    }
   },
   "source": [
    "* Because $N$ is a power of 2 the points on the upper-half plane (range $0 < \\theta < \\pi$ are the mirror image of the points on the lower half plane range $\\pi < \\theta < 2\\pi$;"
   ]
  },
  {
   "cell_type": "markdown",
   "metadata": {
    "slideshow": {
     "slide_type": "fragment"
    }
   },
   "source": [
    "* Thus, there is a great deal of symmetry in the computation that can be exploited to simplify the computation and reduce the number of operations considerably to a much more manageable $N \\log_2 N$ operations<sup>3</sup>."
   ]
  },
  {
   "cell_type": "markdown",
   "metadata": {
    "slideshow": {
     "slide_type": "fragment"
    }
   },
   "source": [
    "This is possible with the algorithm called the [FTT](https://en.wikipedia.org/wiki/Fast_Fourier_transform) (fast Fourier transform) that was originally developed by [James Cooley](https://en.wikipedia.org/wiki/James_Cooley) and [John Tukey](https://en.wikipedia.org/wiki/John_Tukey) and considerably refined since."
   ]
  },
  {
   "cell_type": "markdown",
   "metadata": {
    "slideshow": {
     "slide_type": "slide"
    }
   },
   "source": [
    "## The Fast Fourier Transform (FFT)\n",
    "\n",
    "The FFT is very well documented, including in the text book, so we will only sketch its development and present its main result."
   ]
  },
  {
   "cell_type": "markdown",
   "metadata": {
    "slideshow": {
     "slide_type": "fragment"
    }
   },
   "source": [
    "Much of the development follows from the properties of the rotating vector.<sup>4</sup>"
   ]
  },
  {
   "cell_type": "markdown",
   "metadata": {
    "slideshow": {
     "slide_type": "subslide"
    }
   },
   "source": [
    "$$W_N=e^{-\\frac{j2\\pi}{N}}$$\n",
    "\n",
    "which results in some simplifications and mathematical short-cuts when $N$ is a power of 2."
   ]
  },
  {
   "cell_type": "markdown",
   "metadata": {
    "slideshow": {
     "slide_type": "subslide"
    }
   },
   "source": [
    "The most useful properties are:\n",
    "\n",
    "$$\\begin{eqnarray*}W_N^N &=& e^{-j\\frac{2\\pi}{N}N} = e^{-j2\\pi} = 1.\\\\\n",
    "  W_N^{N/2} &=&  e^{-j\\frac{2\\pi}{N}\\frac{N}{2}} = e^{-j\\pi} = -1.\\\\\n",
    "  W_N^{N/4} &=&  e^{-j\\frac{2\\pi}{N}\\frac{N}{4}} = e^{-j\\pi/2} = -j.\\\\\n",
    "  W_N^{3N/4} &=&  e^{-j\\frac{2\\pi}{N}\\frac{3N}{4}} = e^{-j3\\pi/2} = j.\\\\\n",
    "  W_N^{kN} &=&  e^{-j\\frac{2\\pi}{N}kN} = e^{-j2\\pi} = 1,\\,k=0,1,2,\\ldots\\\\\n",
    "  W_N^{kN+r} &=&  e^{-j\\frac{2\\pi}{N}kN}e^{-j\\frac{2\\pi}{N}r} = 1.W_N^r=W_N^r.\\\\\n",
    "  W_{2N}^{k} &=&  e^{-j\\frac{2\\pi}{2N}k} = e^{-j\\frac{2\\pi}{N}\\frac{k}{2}} = W_N^{k/2}.\n",
    "\\end{eqnarray*}$$"
   ]
  },
  {
   "cell_type": "markdown",
   "metadata": {
    "slideshow": {
     "slide_type": "subslide"
    }
   },
   "source": [
    "Representing\n",
    "\n",
    "$$\\begin{eqnarray*}\n",
    "  X[0] &=& x[0]W_N^0 + x[1]W_N^0 + x[1]W_N^0 +  \\cdots  + x[N - 1]W_N^0 \\hfill \\\\\n",
    "  X[1] &=& x[0]W_N^0 + x[1]W_N^1 + x[1]W_N^2 +  \\cdots  + x[N - 1]W_N^{N - 1} \\hfill \\\\\n",
    "  X[2] &=& x[0]W_N^0 + x[1]W_N^2 + x[1]W_N^4 +  \\cdots  + x[N - 1]W_N^{2(N - 1)} \\hfill \\\\\n",
    "  \\hfil &\\cdots&  \\hfill \\\\\n",
    "  X[N - 1] &=& x[0]W_N^0 + x[1]W_N^{N - 1} + x[1]W_N^{2(N - 1)} +  \\cdots  + x[N - 1]W_N^{{{(N - 1)}^2}} \\hfill \\\\ \n",
    "\\end{eqnarray*}$$\n",
    "\n"
   ]
  },
  {
   "cell_type": "markdown",
   "metadata": {
    "slideshow": {
     "slide_type": "subslide"
    }
   },
   "source": [
    "in matrix form:\n",
    "$$\n",
    "\\left[ {\\begin{array}{*{20}{c}}\n",
    "{X[0]}\\\\\n",
    "{X[1]}\\\\\n",
    "{X[2]}\\\\\n",
    " \\vdots \\\\\n",
    "{X[N - 1]}\\end{array}} \\right] = \\left[ {\\begin{array}{*{20}{c}}\n",
    "{W_N^0}&{W_N^0}&{W_N^0}&\\cdots&{W_N^0}\\\\\n",
    "{W_N^0}&{W_N^1}&{W_N^2}&\\cdots&{W_N^{N - 1}}\\\\\n",
    "{W_N^0}&{W_N^2}&{W_N^4}&\\cdots&{W_N^{2(N - 1)}}\\\\\n",
    "\\cdots&\\cdots&\\cdots&\\cdots&\\cdots\\\\\n",
    "{W_N^0}&{W_N^{N - 1}}&{W_N^{2(N - 1)}}&\\cdots&{W_N^{{{(N - 1)}^2}}}\\\\\n",
    "\\end{array}} \\right]\\left[ {\\begin{array}{*{20}{c}}\n",
    "{x[0]}\\\\\n",
    "{x[1]}\\\\\n",
    "{x[2]}\\\\\n",
    " \\vdots \\\\\n",
    "{x[N - 1]}\n",
    "\\end{array}} \\right].$$"
   ]
  },
  {
   "cell_type": "markdown",
   "metadata": {
    "slideshow": {
     "slide_type": "subslide"
    }
   },
   "source": [
    "This is a complex [Vandemonde matrix](https://en.wikipedia.org/wiki/Vandermonde_matrix) and it is more compactly expressed as:\n",
    "\n",
    "$$\\mathbf{X}[m] = \\mathbf{W_N} \\mathbf{x}[n]$$"
   ]
  },
  {
   "cell_type": "markdown",
   "metadata": {
    "slideshow": {
     "slide_type": "fragment"
    }
   },
   "source": [
    "The algorithm developed by Cooley and Tukey is based on *matrix decomposition* methods, where the matrix $\\mathbf{W_N}$ is factored into $L$ smaller matrices, that is:\n",
    "$$\\mathbf{W_N} = \\mathbf{W_1} \\mathbf{W_2} \\mathbf{W_3} \\cdots \\mathbf{W_L}$$\n",
    "where $L$ is chosen as $L = \\log_2N$ or $N=2^L$."
   ]
  },
  {
   "cell_type": "markdown",
   "metadata": {
    "slideshow": {
     "slide_type": "fragment"
    }
   },
   "source": [
    "Each row of the matrices on the right side of the decomposition, contains only two, non-zero terms, unity and $W_N^k$. Then the vector\n",
    "$$\\mathbf{X}[m] = \\mathbf{W_1} \\mathbf{W_2} \\mathbf{W_3} \\cdots \\mathbf{W_L} \\mathbf{x}[n].$$"
   ]
  },
  {
   "cell_type": "markdown",
   "metadata": {
    "slideshow": {
     "slide_type": "fragment"
    }
   },
   "source": [
    "The FFT computation starts with matrix $\\mathbf{W}_L$. It operates on $\\mathbf{x}[n]$ producing a row vector, and each component of the row vector is obtained by one multiplication and one addition. This is because there are only two non-zero elements on a given row, and one of those elements is unity. Since there are $N$ components of $\\mathbf{x}[n]$, there will be $N$ complex multiplications and $N$ complex additions. "
   ]
  },
  {
   "cell_type": "markdown",
   "metadata": {
    "slideshow": {
     "slide_type": "fragment"
    }
   },
   "source": [
    "This new vector is then operated on by the $\\mathbf{W}_{L-1}$ matrix, then on $\\mathbf{W}_{L-1}$ and so on, until the entire operation is completed."
   ]
  },
  {
   "cell_type": "markdown",
   "metadata": {
    "slideshow": {
     "slide_type": "subslide"
    }
   },
   "source": [
    "It appears that the entire operation would require $NL= N\\log_2N$ complex additions and also $N\\log_2N$ complex additions. "
   ]
  },
  {
   "cell_type": "markdown",
   "metadata": {
    "slideshow": {
     "slide_type": "fragment"
    }
   },
   "source": [
    "However, since $W_N^0 = 1$, $W_N^{N/2}=-1$, and other simplifications, it is estimated that only about half of these, that is, $N\\log_2 N$ total arithmetic operations are required by the FFT versus the $N^2$ required by the DFT<sup>5</sup>."
   ]
  },
  {
   "cell_type": "markdown",
   "metadata": {
    "slideshow": {
     "slide_type": "slide"
    }
   },
   "source": [
    "## DFT and FFT Comparisons\n",
    "\n",
    "Under the assumptions about the relative efficiency of the DFT and FFT we can create a table like that shown below:\n",
    "\n",
    "|   | DFT | FFT | FFT/DFT |\n",
    "|---|-----|-----|-----------|\n",
    "| N | $N^2$ | $N\\log_2 N$ | % | \n",
    "| 8 | 64    | 24 | 37.5 |\n",
    "| 16 | 256    | 64 | 25 |\n",
    "| 32 | 1024    | 160 | 15.6 |\n",
    "| 64 | 4096    | 384 | 9.4 |\n",
    "| 128| $16,384$    | 896 | 5.5 |\n",
    "| 256 | $65,536$    | 2048 | 3.1 |\n",
    "| 512 | $261,144$    | 4608 | 1.8 |\n",
    "| 1024 | $1,048,576$    | $10,240$ | 1 |\n",
    "| 2048 | $4,194,304$    | $22,528$ | 0.5 |\n",
    "\n",
    "As you can see, the efficiy of the FFT actual gets better as the number of samples go up!\n"
   ]
  },
  {
   "cell_type": "markdown",
   "metadata": {
    "slideshow": {
     "slide_type": "slide"
    }
   },
   "source": [
    "## FFT in MATLAB\n",
    "\n",
    "The FFT algorithm is implemented, in MATLAB, as the function `fft`. We will conclude by working through Exercises 6 and 7 from section 10.8 of Karris."
   ]
  },
  {
   "cell_type": "markdown",
   "metadata": {
    "slideshow": {
     "slide_type": "subslide"
    }
   },
   "source": [
    "### Example 1\n",
    "\n",
    "Plot the Fourier transform of the rectangular pulse shown below, using the MATLAB `fft` func-tion. Then, use the `ifft` function to verify that the inverse transformation produces the rectangular pulse.\n",
    "\n",
    "![Example 1](pictures/fft_example1.png)"
   ]
  },
  {
   "cell_type": "markdown",
   "metadata": {
    "slideshow": {
     "slide_type": "subslide"
    }
   },
   "source": [
    "### FFT Example 1\n",
    "\n",
    "The rectangular pulse can be produced like so"
   ]
  },
  {
   "cell_type": "code",
   "execution_count": 10,
   "metadata": {
    "slideshow": {
     "slide_type": "fragment"
    }
   },
   "outputs": [
    {
     "data": {
      "image/png": "[encoded data removed]",
      "text/plain": [
       "<IPython.core.display.Image object>"
      ]
     },
     "metadata": {},
     "output_type": "display_data"
    }
   ],
   "source": [
    "x = [linspace(-2,-1,50) linspace(-1,1,100) linspace(1,2,50)];\n",
    "y = [linspace(0,0,50) linspace(1,1,100) linspace(0,0,50)];\n",
    "plot(x,y)"
   ]
  },
  {
   "cell_type": "markdown",
   "metadata": {
    "slideshow": {
     "slide_type": "subslide"
    }
   },
   "source": [
    "and the FFT is produced as"
   ]
  },
  {
   "cell_type": "code",
   "execution_count": 11,
   "metadata": {
    "slideshow": {
     "slide_type": "fragment"
    }
   },
   "outputs": [
    {
     "data": {
      "image/png": "[encoded data removed]",
      "text/plain": [
       "<IPython.core.display.Image object>"
      ]
     },
     "metadata": {},
     "output_type": "display_data"
    }
   ],
   "source": [
    "plot(x, abs(fft(y)))"
   ]
  },
  {
   "cell_type": "markdown",
   "metadata": {
    "slideshow": {
     "slide_type": "subslide"
    }
   },
   "source": [
    "unwind "
   ]
  },
  {
   "cell_type": "code",
   "execution_count": 12,
   "metadata": {
    "slideshow": {
     "slide_type": "fragment"
    }
   },
   "outputs": [
    {
     "data": {
      "image/png": "[encoded data removed]",
      "text/plain": [
       "<IPython.core.display.Image object>"
      ]
     },
     "metadata": {},
     "output_type": "display_data"
    }
   ],
   "source": [
    "plot(x, abs(fftshift(fft(y))))"
   ]
  },
  {
   "cell_type": "markdown",
   "metadata": {
    "slideshow": {
     "slide_type": "subslide"
    }
   },
   "source": [
    "The inverse FFT is obtained with"
   ]
  },
  {
   "cell_type": "code",
   "execution_count": 13,
   "metadata": {
    "slideshow": {
     "slide_type": "fragment"
    }
   },
   "outputs": [
    {
     "data": {
      "image/png": "[encoded data removed]",
      "text/plain": [
       "<IPython.core.display.Image object>"
      ]
     },
     "metadata": {},
     "output_type": "display_data"
    }
   ],
   "source": [
    "plot(x, ifft(fft(y)))"
   ]
  },
  {
   "cell_type": "markdown",
   "metadata": {
    "slideshow": {
     "slide_type": "subslide"
    }
   },
   "source": [
    "### Example 2\n",
    "\n",
    "![Example 2](pictures/fft_example2.png)"
   ]
  },
  {
   "cell_type": "markdown",
   "metadata": {
    "slideshow": {
     "slide_type": "subslide"
    }
   },
   "source": [
    "### FFT Example 2\n",
    "\n",
    "The triangular pulse is obtained with"
   ]
  },
  {
   "cell_type": "code",
   "execution_count": 14,
   "metadata": {
    "slideshow": {
     "slide_type": "fragment"
    }
   },
   "outputs": [
    {
     "data": {
      "image/png": "[encoded data removed]",
      "text/plain": [
       "<IPython.core.display.Image object>"
      ]
     },
     "metadata": {},
     "output_type": "display_data"
    }
   ],
   "source": [
    "x = linspace(-1,1,100);\n",
    "y = [linspace(0,1,50) linspace(1,0,50)];\n",
    "plot(x,y)"
   ]
  },
  {
   "cell_type": "markdown",
   "metadata": {
    "slideshow": {
     "slide_type": "subslide"
    }
   },
   "source": [
    "and the FFT is obtained with"
   ]
  },
  {
   "cell_type": "code",
   "execution_count": 15,
   "metadata": {
    "slideshow": {
     "slide_type": "subslide"
    }
   },
   "outputs": [
    {
     "data": {
      "image/png": "[encoded data removed]",
      "text/plain": [
       "<IPython.core.display.Image object>"
      ]
     },
     "metadata": {},
     "output_type": "display_data"
    }
   ],
   "source": [
    "plot(x, abs(fftshift(fft(y))))"
   ]
  },
  {
   "cell_type": "markdown",
   "metadata": {
    "slideshow": {
     "slide_type": "subslide"
    }
   },
   "source": [
    "The inverse FFT is obtained with"
   ]
  },
  {
   "cell_type": "code",
   "execution_count": 16,
   "metadata": {
    "slideshow": {
     "slide_type": "fragment"
    }
   },
   "outputs": [
    {
     "data": {
      "image/png": "[encoded data removed]",
      "text/plain": [
       "<IPython.core.display.Image object>"
      ]
     },
     "metadata": {},
     "output_type": "display_data"
    }
   ],
   "source": [
    "plot(x, ifft(fft(y)))"
   ]
  },
  {
   "cell_type": "markdown",
   "metadata": {
    "slideshow": {
     "slide_type": "slide"
    }
   },
   "source": [
    "## Summary\n",
    "\n",
    "* The inefficiency of the DFT\n",
    "* The FFT - a sketch of its development\n",
    "* FFT v DFT\n",
    "* Two examples"
   ]
  },
  {
   "cell_type": "markdown",
   "metadata": {
    "slideshow": {
     "slide_type": "slide"
    }
   },
   "source": [
    "## Homework\n",
    "\n",
    "Read the rest of Chapter 10 of Karris from page 10.9 and make your own notes on the implementation of the FFT. "
   ]
  },
  {
   "cell_type": "markdown",
   "metadata": {
    "slideshow": {
     "slide_type": "slide"
    }
   },
   "source": [
    "## The End?\n",
    "\n",
    "* This concludes this module. \n",
    "* There is some material that I have not covered, most notably is a significant amount of additional information about **Filter Design** (including the use of Matlab for this) in Chapter 11 of Karris."
   ]
  },
  {
   "cell_type": "markdown",
   "metadata": {
    "slideshow": {
     "slide_type": "notes"
    }
   },
   "source": [
    "### Footnotes\n",
    "\n",
    "<sup>1</sup>*Note*: addition of two complex numbers $(a + jb) + (c + jd) = (a+b) + j(b + d)$ so requires 2 floating-point additions; multiplication $(a + jb)(c + jd) = (ac - bd)+j(ad + bc)$ requires four floating-point multiplications and two additions. \n",
    "\n",
    "In MATLAB, complex numbers are represented internally as two 64 bit floating point operations so each complex operation is expensive both in terms of computing time and working memory space. And the result of an N-point DFT will require twice the memory of the original sequence, assuming that it is stored as floating point real numbers, considerably 16 times the storage is needed if the original sequence is the result of sampling by, say, an 8 bit ADC.\n",
    "\n",
    "Of course, modern 64 bit mirocprocessers have hardware support for floating point operations and so these operations take a minumum number of machine cycles. Digital Signal Processors and Graphic Processing Units, probably have hardware support for complex arithmetic too. Nonethess, complex arithmetic is an expensive operation, so any simplifications we can make will be valuable.\n",
    "\n",
    "<sup>2</sup>Even if we do not have a real sequence, we only need to compute the first $N/2$ values of the spectrum because the sequence for $X[k]$ from $N/2 + 1 < k <= N-1$ are complex conjugates, in the reverse order, of the sequence of $X[k]$ for $0 <= k < N/2$. This is easy to prove by looking at the geometry of the unit circle in the z-plane.\n",
    "\n",
    "<sup>3</sup>If $N=1024$, $N\\log_2 N = 1024*10 = 10,240$ complex operations.\n",
    "\n",
    "<sup>4</sup>The Inverse FFT (IFFT) follows by noting that the rotation vector used in its computation is the complex conjugate\n",
    "$$W_N^{-1}.$$\n",
    "\n",
    "<sup>5</sup> Karris goes further in showing how the decomposition used to implement the FFT can be further be understood by considering even and odd decompositions. We do not have time to cover this in this module, but you are invited to read further if you are interested. You'll also find that most text books on Digital Signal Processing will cover the FFT and give more or less understandable presentations of the way the algorithm works."
   ]
  },
  {
   "cell_type": "markdown",
   "metadata": {
    "slideshow": {
     "slide_type": "notes"
    }
   },
   "source": [
    "## Solutions\n",
    "\n",
    "### Example 1\n",
    "\n",
    "See script [fft_ex1.m](https://github.com/cpjobling/EG-247-Resources/blob/master/week10/matlab/fft_ex1.m).\n",
    "\n",
    "### Example 2\n",
    "\n",
    "See script [fft_ex2.m](https://github.com/cpjobling/EG-247-Resources/blob/master/week10/matlab/fft_ex2.m)."
   ]
  }
 ],
 "metadata": {
  "anaconda-cloud": {},
  "celltoolbar": "Slideshow",
  "kernelspec": {
   "display_name": "Matlab",
   "language": "matlab",
   "name": "matlab"
  },
  "language_info": {
   "codemirror_mode": "octave",
   "file_extension": ".m",
   "help_links": [
    {
     "text": "MetaKernel Magics",
     "url": "https://github.com/calysto/metakernel/blob/master/metakernel/magics/README.md"
    }
   ],
   "mimetype": "text/x-octave",
   "name": "matlab",
   "version": "0.15.0"
  }
 },
 "nbformat": 4,
 "nbformat_minor": 1
}
