{
 "cells": [
  {
   "cell_type": "code",
   "execution_count": null,
   "metadata": {
    "slideshow": {
     "slide_type": "skip"
    }
   },
   "outputs": [],
   "source": [
    "cd matlab\n",
    "pwd"
   ]
  },
  {
   "cell_type": "markdown",
   "metadata": {
    "slideshow": {
     "slide_type": "slide"
    }
   },
   "source": [
    "# The Discrete Fourier Transform"
   ]
  },
  {
   "cell_type": "markdown",
   "metadata": {
    "slideshow": {
     "slide_type": "slide"
    }
   },
   "source": [
    "## Scope and Background Reading\n",
    "\n",
    "This session introduces the z-transform which is used in the analysis of discrete time systems. As for the Fourier and Laplace transforms, we present the definition, define the properties and give some applications of the use of the z-transform in the analysis of signals that are represented as sequences and systems represented by difference equations.\n",
    "\n",
    "The material in this presentation and notes is based on Chapter 10 of [Steven T. Karris, Signals and Systems: with Matlab Computation and Simulink Modelling, 5th Edition](http://site.ebrary.com/lib/swansea/docDetail.action?docID=10547416) from the **Required Reading List**. Additional coverage is to be found in Chapter 12 of [Benoit Boulet, Fundamentals of Signals and Systems](http://site.ebrary.com/lib/swansea/docDetail.action?docID=10228195) from the **Recommended Reading List**."
   ]
  },
  {
   "cell_type": "markdown",
   "metadata": {
    "slideshow": {
     "slide_type": "slide"
    }
   },
   "source": [
    "## Agenda"
   ]
  },
  {
   "cell_type": "markdown",
   "metadata": {
    "slideshow": {
     "slide_type": "fragment"
    }
   },
   "source": [
    "* The discrete time fourier transform (DFT)"
   ]
  },
  {
   "cell_type": "markdown",
   "metadata": {
    "slideshow": {
     "slide_type": "fragment"
    }
   },
   "source": [
    "* Even and Odd Properties of the DFT"
   ]
  },
  {
   "cell_type": "markdown",
   "metadata": {
    "slideshow": {
     "slide_type": "fragment"
    }
   },
   "source": [
    "* Common Properties and Theorems of the DFT"
   ]
  },
  {
   "cell_type": "markdown",
   "metadata": {
    "slideshow": {
     "slide_type": "fragment"
    }
   },
   "source": [
    "* Sampling Theorem, Windows, and the Picket Fence Effect"
   ]
  },
  {
   "cell_type": "markdown",
   "metadata": {
    "slideshow": {
     "slide_type": "slide"
    }
   },
   "source": [
    "## Introduction\n",
    "\n",
    "* Fourier series: periodic and continuous time function leads to a non-periodic discrete frequency function.\n",
    "* Fourier transform: non-periodic and continuous function leads to a non-periodic continuous frequency function.\n",
    "* Z and inverse Z-transforms produce a periodic and continuous frequency function, since they are evaluated on the unit circle."
   ]
  },
  {
   "cell_type": "markdown",
   "metadata": {
    "slideshow": {
     "slide_type": "notes"
    }
   },
   "source": [
    "### Note\n",
    "\n",
    "Frequency spectrum of a discrete time function $f[n]$ is obtained from its z-transform by substituting $z = e^{sT} = e^{j\\omega T}$ as we saw from the mapping of the s-plane to the z-plane. This is continuous as there are an infinite number of points in the interval $0$ to $2\\pi$; and it is periodic because for any point $\\omega T$ there is an equivalent point $\\omega T + 2 N \\pi$ later. \n",
    "\n",
    "In practice, to compute the spectrum for a discrete time (DT) system, we only compute a finite number of equally spaced points."
   ]
  },
  {
   "cell_type": "markdown",
   "metadata": {
    "slideshow": {
     "slide_type": "subslide"
    }
   },
   "source": [
    "In this session, we will see that a periodic and discrete time function results in a periodic and discrete frequency function."
   ]
  },
  {
   "cell_type": "markdown",
   "metadata": {
    "slideshow": {
     "slide_type": "subslide"
    }
   },
   "source": [
    "For convenience we summarize these facts in a table:\n",
    "\n",
    "| **Topic** | **Time Function** | **Frequency Function** |\n",
    "|-----------|-------------------|------------------------|\n",
    "| Fourier Series | Continuous, Periodic | Discete, Non-Periodic |\n",
    "| Fourier Transform | Continuous, Non-Periodic | Continuous, Non-Periodic |\n",
    "| Z Transform | Discrete, Non-Periodic | Continuous, Periodic |\n",
    "| Discrete Fourier Transform | Discrete, Periodic | Discrete, Periodic |\n"
   ]
  },
  {
   "cell_type": "markdown",
   "metadata": {
    "slideshow": {
     "slide_type": "subslide"
    }
   },
   "source": [
    "## List of Abbreviations\n",
    "\n",
    "* CT -- Continous Time\n",
    "* DT -- Discrete Time\n",
    "* DF - Discrete frequency\n",
    "* DFT -- Discrete (Time) Fourier Transform\n",
    "* FFT -- Fast Fourier Transform"
   ]
  },
  {
   "cell_type": "markdown",
   "metadata": {
    "slideshow": {
     "slide_type": "subslide"
    }
   },
   "source": [
    "### Notation\n",
    "\n",
    "In the following we shall denote a DT signal as $x[n]$ and its discrete frequency function as $X[m]$."
   ]
  },
  {
   "cell_type": "markdown",
   "metadata": {
    "slideshow": {
     "slide_type": "slide"
    }
   },
   "source": [
    "### Z-Transform\n",
    "\n",
    "Recall that\n",
    "\n",
    "$$F(z) = \\mathcal{Z} f[n] = \\sum_{n=0}^{\\infty} f[n]z^{-n}.$$"
   ]
  },
  {
   "cell_type": "markdown",
   "metadata": {
    "slideshow": {
     "slide_type": "fragment"
    }
   },
   "source": [
    "The value of this function on the unit circle in the Z-plane will be\n",
    "\n",
    "$$F(e^{j\\omega T}) = \\sum_{n=0}^{\\infty} f[n]e^{-jn \\omega T}.$$"
   ]
  },
  {
   "cell_type": "markdown",
   "metadata": {
    "slideshow": {
     "slide_type": "subslide"
    }
   },
   "source": [
    "This is an infinite sum.  So to compute it, we need to truncate it. "
   ]
  },
  {
   "cell_type": "markdown",
   "metadata": {
    "slideshow": {
     "slide_type": "fragment"
    }
   },
   "source": [
    "Let's assume that instead of an infinite number of points, we have $N$, equally distributed around the unit circle, then the truncated version will be:\n",
    "\n",
    "$$X[m] =  \\sum_{n=0}^{N-1} x[n]e^{-j2\\pi \\frac{m n}{N}}$$"
   ]
  },
  {
   "cell_type": "markdown",
   "metadata": {
    "slideshow": {
     "slide_type": "fragment"
    }
   },
   "source": [
    "where\n",
    "\n",
    "$$\\omega  = {\\text{ }}\\left( {\\frac{{2\\pi }}{{N}}} \\right)m$$"
   ]
  },
  {
   "cell_type": "markdown",
   "metadata": {
    "slideshow": {
     "slide_type": "fragment"
    }
   },
   "source": [
    "and $m = 0,1,2,\\ldots, N-1$."
   ]
  },
  {
   "cell_type": "markdown",
   "metadata": {
    "slideshow": {
     "slide_type": "subslide"
    }
   },
   "source": [
    "We refer to the equation \n",
    "\n",
    "$$X[m] =  \\sum_{n=0}^{N-1} x[n]e^{-j2\\pi \\frac{m n}{N}}$$\n",
    "\n",
    "as the N-point Discrete-time Fourier Transform (DFT) of $x[n]$."
   ]
  },
  {
   "cell_type": "markdown",
   "metadata": {
    "slideshow": {
     "slide_type": "subslide"
    }
   },
   "source": [
    "The inverse DFT is defined as\n",
    "\n",
    "$$x[n] =  \\frac{1}{N} \\sum_{m=0}^{N-1} X[m]e^{j2\\pi \\frac{m n}{N}}$$\n",
    "\n",
    "for $n = 0,1,2,\\ldots, N-1$."
   ]
  },
  {
   "cell_type": "markdown",
   "metadata": {
    "slideshow": {
     "slide_type": "fragment"
    }
   },
   "source": [
    "Note the symmetry of the DFT and the Inverse DFT!"
   ]
  },
  {
   "cell_type": "markdown",
   "metadata": {
    "slideshow": {
     "slide_type": "subslide"
    }
   },
   "source": [
    "In general, the DFT is complex, and thus it can be expressed as\n",
    "\n",
    "$$X[m] = \\Re\\left\\{X[m]\\right\\} + \\Im\\left\\{X[m]\\right\\}$$\n",
    "\n",
    "for $m = 0,1,2,\\ldots,N-1$."
   ]
  },
  {
   "cell_type": "markdown",
   "metadata": {
    "slideshow": {
     "slide_type": "subslide"
    }
   },
   "source": [
    "Since\n",
    "\n",
    "$$e^{-j2\\pi \\frac{m n}{N}} = \\cos\\left(\\frac{2\\pi m n}{N}\\right) + j\\sin\\left(\\frac{2\\pi m n}{N}\\right)$$\n",
    "\n",
    "the DFT can be expresssed as\n",
    "\n",
    "$$X[m] =  \\sum_{n=0}^{N-1} x[n]e^{-j2\\pi \\frac{m n}{N}} = \\sum_{n=0}^{N-1}x[n]\\cos\\left(\\frac{2\\pi m n}{N}\\right) + j\\sum_{n=0}^{N-1}x[n]\\sin\\left(\\frac{2\\pi m n}{N}\\right).$$"
   ]
  },
  {
   "cell_type": "markdown",
   "metadata": {
    "slideshow": {
     "slide_type": "subslide"
    }
   },
   "source": [
    "For $n=0$ this reduces to \n",
    "\n",
    "$$X[m] = x[0].$$"
   ]
  },
  {
   "cell_type": "markdown",
   "metadata": {
    "slideshow": {
     "slide_type": "subslide"
    }
   },
   "source": [
    "Then the real part of $X[m]$ is\n",
    "\n",
    "$$\\Re \\left\\{ {X[m]} \\right\\} = x[0] + \\sum\\limits_{n = 1}^{N - 1} x [n]\\cos \\left( {\\frac{{2\\pi mn}}{N}} \\right)\\quad {\\text{for}}\\quad m = 0,1,2, \\ldots ,N - 1$$"
   ]
  },
  {
   "cell_type": "markdown",
   "metadata": {
    "slideshow": {
     "slide_type": "subslide"
    }
   },
   "source": [
    "and the imaginary part is\n",
    "\n",
    "$$\\Im \\left\\{ {X[m]} \\right\\} = - \\sum\\limits_{n = 1}^{N - 1} x [n]\\cos \\left( {\\frac{{2\\pi mn}}{N}} \\right)\\quad {\\text{for}}\\quad m = 0,1,2, \\ldots ,N - 1$$."
   ]
  },
  {
   "cell_type": "markdown",
   "metadata": {
    "slideshow": {
     "slide_type": "notes"
    }
   },
   "source": [
    "Note that the summations are from 1 to $N-1$ because $n=0$ is covered in the real term, and as $x[0]$ is real, it is zero in the corresponding imaginary term."
   ]
  },
  {
   "cell_type": "markdown",
   "metadata": {
    "slideshow": {
     "slide_type": "slide"
    }
   },
   "source": [
    "### Example 1\n",
    "\n",
    "A discrete time signal is defined by the sequence $x[0] = 1$, $x[1] = 2$, $x[2] = 2$, $x[3] = 1$, and $x[n]=0$ for all other values of $n$. Compute the frequency components $X[m]$."
   ]
  },
  {
   "cell_type": "markdown",
   "metadata": {
    "slideshow": {
     "slide_type": "notes"
    }
   },
   "source": [
    "### Solution 1\n",
    "\n",
    "* Compute the $N$ point DFT for $\\Re\\left\\{X[m]\\right\\}$.\n",
    "\n",
    "<pre style=\"border: 2px solid blue\">\n",
    "\n",
    "\n",
    "\n",
    "\n",
    "\n",
    "\n",
    "\n",
    "\n",
    "\n",
    "\n",
    "\n",
    "\n",
    "\n",
    "\n",
    "\n",
    "\n",
    "\n",
    "\n",
    "\n",
    "</pre>\n",
    "\n",
    "* Compute the four point DFT for $\\Im\\left\\{X[m]\\right\\}$.\n",
    "\n",
    "<pre style=\"border: 2px solid blue\">\n",
    "\n",
    "\n",
    "\n",
    "\n",
    "\n",
    "\n",
    "\n",
    "\n",
    "\n",
    "\n",
    "\n",
    "\n",
    "\n",
    "\n",
    "\n",
    "\n",
    "\n",
    "\n",
    "\n",
    "</pre>\n",
    "\n",
    "* Add these together to find $X[m]$.\n",
    "\n",
    "<pre style=\"border: 2px solid blue\">\n",
    "\n",
    "\n",
    "\n",
    "\n",
    "\n",
    "\n",
    "\n",
    "\n",
    "\n",
    "\n",
    "\n",
    "\n",
    "\n",
    "\n",
    "\n",
    "\n",
    "\n",
    "\n",
    "\n",
    "</pre>"
   ]
  },
  {
   "cell_type": "markdown",
   "metadata": {
    "slideshow": {
     "slide_type": "subslide"
    }
   },
   "source": [
    "### Example 2\n",
    "\n",
    "Use the inverse DFT to compute the discrete-time sequence $x[n]$ from $X[m]$."
   ]
  },
  {
   "cell_type": "markdown",
   "metadata": {
    "slideshow": {
     "slide_type": "notes"
    }
   },
   "source": [
    "### Solution 2\n",
    "\n",
    "* Write down the expression $x[n]$ in terms of $X[m]$.\n",
    "\n",
    "<pre style=\"border: 2px solid blue\">\n",
    "\n",
    "\n",
    "\n",
    "\n",
    "\n",
    "\n",
    "\n",
    "\n",
    "\n",
    "\n",
    "\n",
    "\n",
    "\n",
    "\n",
    "\n",
    "\n",
    "\n",
    "\n",
    "\n",
    "</pre>\n",
    "\n",
    "* Compute $x[0]$ from this result.\n",
    "\n",
    "<pre style=\"border: 2px solid blue\">\n",
    "\n",
    "\n",
    "\n",
    "\n",
    "\n",
    "\n",
    "\n",
    "\n",
    "\n",
    "\n",
    "\n",
    "\n",
    "\n",
    "\n",
    "\n",
    "\n",
    "\n",
    "\n",
    "\n",
    "</pre>\n",
    "\n",
    "* Repeat for $x[1]$, $x[2]$ and $x[3]$.\n",
    "\n",
    "<pre style=\"border: 2px solid blue\">\n",
    "\n",
    "\n",
    "\n",
    "\n",
    "\n",
    "\n",
    "\n",
    "\n",
    "\n",
    "\n",
    "\n",
    "\n",
    "\n",
    "\n",
    "\n",
    "\n",
    "\n",
    "\n",
    "\n",
    "</pre>"
   ]
  },
  {
   "cell_type": "markdown",
   "metadata": {
    "slideshow": {
     "slide_type": "slide"
    }
   },
   "source": [
    "### Simulink model of the DFT\n",
    "\n",
    "See [dft_ex10_1.slx](https://github.com/cpjobling/EG-247-Resources/blob/master/week10/matlab/dft_ex10_1.slx?raw=true)"
   ]
  },
  {
   "cell_type": "code",
   "execution_count": 2,
   "metadata": {
    "slideshow": {
     "slide_type": "subslide"
    }
   },
   "outputs": [],
   "source": [
    "dft_ex10_1"
   ]
  },
  {
   "cell_type": "markdown",
   "metadata": {
    "slideshow": {
     "slide_type": "notes"
    }
   },
   "source": [
    "![Simulink Model of DFT](pictures/dft_10_1.png)\n",
    "\n",
    "Try inputting your student number."
   ]
  },
  {
   "cell_type": "markdown",
   "metadata": {
    "slideshow": {
     "slide_type": "subslide"
    }
   },
   "source": [
    "### MATLAB model of the DFT\n",
    "\n",
    "Karris Example 10.1. To successfully run this script you will need to download the functions [dft.m](https://github.com/cpjobling/EG-247-Resources/blob/master/week10/matlab/dft.m) and [idft.m](https://github.com/cpjobling/EG-247-Resources/blob/master/week10/matlab/idft.m) and make them available on your `MATLABPATH`."
   ]
  },
  {
   "cell_type": "code",
   "execution_count": 3,
   "metadata": {
    "slideshow": {
     "slide_type": "fragment"
    }
   },
   "outputs": [],
   "source": [
    "xn = [1, 2, 2, 1];"
   ]
  },
  {
   "cell_type": "code",
   "execution_count": 4,
   "metadata": {
    "slideshow": {
     "slide_type": "fragment"
    }
   },
   "outputs": [],
   "source": [
    "open dft"
   ]
  },
  {
   "cell_type": "code",
   "execution_count": 5,
   "metadata": {
    "slideshow": {
     "slide_type": "fragment"
    }
   },
   "outputs": [
    {
     "name": "stdout",
     "output_type": "stream",
     "text": [
      "\n",
      "Xm =\n",
      "\n",
      "   6.0000 + 0.0000i  -1.0000 - 1.0000i   0.0000 - 0.0000i  -1.0000 + 1.0000i\n",
      "\n"
     ]
    }
   ],
   "source": [
    "Xm = dft(xn,4)"
   ]
  },
  {
   "cell_type": "code",
   "execution_count": 6,
   "metadata": {
    "slideshow": {
     "slide_type": "subslide"
    }
   },
   "outputs": [],
   "source": [
    "open idft"
   ]
  },
  {
   "cell_type": "code",
   "execution_count": 7,
   "metadata": {
    "slideshow": {
     "slide_type": "fragment"
    }
   },
   "outputs": [
    {
     "name": "stdout",
     "output_type": "stream",
     "text": [
      "\n",
      "xn =\n",
      "\n",
      "   1.0000 - 0.0000i   2.0000 - 0.0000i   2.0000 + 0.0000i   1.0000 + 0.0000i\n",
      "\n"
     ]
    }
   ],
   "source": [
    "xn = idft(Xm,4)"
   ]
  },
  {
   "cell_type": "markdown",
   "metadata": {
    "slideshow": {
     "slide_type": "slide"
    }
   },
   "source": [
    "### A useful compact notation\n",
    "\n",
    "The term\n",
    "$$e^{-j(2\\pi)}/N$$\n",
    "is a rotating vector where the range $0 <= \\theta <= 2\\pi$ is divided into $360/N$ equal segments. \n",
    "\n",
    "It is convenient to represent this as $W_N$, that is\n",
    "$$W_N = e^{-\\frac{j2\\pi}{N}}$$\n",
    "and consequently, \n",
    "$$W_N^{-1} = e^{\\frac{j2\\pi}{N}}.$$"
   ]
  },
  {
   "cell_type": "markdown",
   "metadata": {
    "slideshow": {
     "slide_type": "subslide"
    }
   },
   "source": [
    "### Example 3\n",
    "\n",
    "Compute the complex numbers represented by the rotating vector\n",
    "$W_8$"
   ]
  },
  {
   "cell_type": "markdown",
   "metadata": {
    "slideshow": {
     "slide_type": "notes"
    }
   },
   "source": [
    "### Solution 3\n",
    "\n",
    "* Rewrite $W_8$ in exponential form\n",
    "\n",
    "<pre style=\"border: 2px solid blue\">\n",
    "\n",
    "\n",
    "\n",
    "\n",
    "\n",
    "\n",
    "\n",
    "\n",
    "\n",
    "</pre>\n",
    "\n",
    "* Visualize on unit circle\n",
    "\n",
    "![Visualization of the function unction $W_8^n$](pictures/circle.png)\n",
    "\n",
    "* Complete this table\n",
    "\n",
    "| $n$ | $\\theta$        | Real | Imaginary | $W_8^n$ |\n",
    "|-----|-----------------|------|-----------|--------|\n",
    "| 0   | 0               | 1    |  0        | 1      |\n",
    "\n",
    "\n",
    "<pre style=\"border: 2px solid blue\">\n",
    "\n",
    "\n",
    "\n",
    "\n",
    "\n",
    "\n",
    "\n",
    "\n",
    "\n",
    "\n",
    "\n",
    "\n",
    "\n",
    "\n",
    "\n",
    "\n",
    "\n",
    "\n",
    "\n",
    "\n",
    "\n",
    "\n",
    "</pre>"
   ]
  },
  {
   "cell_type": "markdown",
   "metadata": {
    "slideshow": {
     "slide_type": "subslide"
    }
   },
   "source": [
    "Using this notation, the DFT and inverse DFT pairs are represented as:\n",
    "\n",
    "$$X[m] =  \\sum_{n=0}^{N-1} x[n]W_N^{nm}$$ \n",
    "and\n",
    "$$x[n] = \\frac{1}{N}\\sum_{n=0}^{N-1} x[n]W_N^{-nm}$$ "
   ]
  },
  {
   "cell_type": "markdown",
   "metadata": {
    "slideshow": {
     "slide_type": "notes"
    }
   },
   "source": [
    "### MATLAB implementation of DFT\n",
    "\n",
    "Using the W notation, it is very easy to write a function to implement the DFT. For example, consider [dft.m](https://github.com/cpjobling/EG-247-Resources/blob/master/week10/matlab/dft.m):\n",
    "\n",
    "```matlab\n",
    "function [ Xm ] = dft( xn, N )\n",
    "% Computes Discrete Fourier Transform\n",
    "% -----------------------------------\n",
    "% [Xm]  = dft(xn, N)\n",
    "% Xm = DFT coeff. array over 0 <= m <= N-1\n",
    "% xn = N-point finite-duration sequence\n",
    "%  N = length of DFT\n",
    "%\n",
    "n = [0:1:N-1];          % row vector for n\n",
    "m = [0:1:N-1];          % row vector for m\n",
    "WN = exp(-j*2*pi/N);    % Wn factor\n",
    "nm = n'*m;              % creates an N by N matrix of nm values\n",
    "WNnm = WN .^ nm;        % DFT matrix\n",
    "Xm = xn * WNnm;         % row vector of DFT coefficients\n",
    "```"
   ]
  },
  {
   "cell_type": "markdown",
   "metadata": {
    "slideshow": {
     "slide_type": "notes"
    }
   },
   "source": [
    "Similarly for the inverse DFT [idft.m](https://github.com/cpjobling/EG-247-Resources/blob/master/week10/matlab/idft.m):\n",
    "\n",
    "```matlab\n",
    "function [ xn ] = idft( Xm, N )\n",
    "% Computes Inverse Discrete Fourier Transform\n",
    "% -------------------------------------------\n",
    "% [xn]  = idft(Xm, N)\n",
    "% xn = N-point sequence over 0 <= n <= N-1\n",
    "% Xm = DFT coeff. array over 0 <= m <= N-1\n",
    "%  N = length of DFT\n",
    "%\n",
    "n = [0:1:N-1];          % row vector for n\n",
    "m = [0:1:N-1];          % row vector for m\n",
    "WN = exp(-j*2*pi/N);    % Wn factor\n",
    "nm = n'*m;              % creates an N by N matrix of nm values\n",
    "WNnm = WN .^ (-nm);     % DFT matrix\n",
    "xn = (Xm * WNnm)/N;     % row vector for IDFT values\n",
    "```"
   ]
  },
  {
   "cell_type": "markdown",
   "metadata": {
    "slideshow": {
     "slide_type": "subslide"
    }
   },
   "source": [
    "### Notes\n",
    "\n",
    "In the remainder of these notes, the correspondence between $x[n]$ and $X[m]$ will be written\n",
    "\n",
    "$$x[n] \\Leftrightarrow X[m]$$\n",
    "\n",
    "In example 2, we found that, although the DT sequence $x[n]$ was real, the discrete frequency (DF) sequence was complex. However, in most applications we are interested in the magnitude and phase of the DF, that is $$|X[m]|$$ and $$\\angle X[m]$$."
   ]
  },
  {
   "cell_type": "markdown",
   "metadata": {
    "slideshow": {
     "slide_type": "subslide"
    }
   },
   "source": [
    "### Example 4\n",
    "\n",
    "Use MATLAB to compute the magnitude of the frequency components of the following DT function:\n",
    "\n",
    "| $n$ | 0 | 1 | 2 | 3 | 4 | 5 | 6 | 7 | 8 | 9 | 10 | 11 | 12 | 13 | 14 | 15 | \n",
    "|-----|--------|--------|--------|--------|--------|--------|--------|--------|--------|--------|--------|--------|--------|--------|--------|\n",
    "| $x[n]$ |1.0 |1.5 |2.0 |2.3 |2.7 |3.0 |3.4 |4.1 |4.7 |4.2 |3.5 | 3.6 | 3.2 | 2.9 | 2.5 | 1.8 |\n",
    "\n",
    "We will compute this in class and make some comments afterwards."
   ]
  },
  {
   "cell_type": "code",
   "execution_count": 8,
   "metadata": {
    "slideshow": {
     "slide_type": "subslide"
    }
   },
   "outputs": [],
   "source": [
    "xn = [ 1, 2, 3, 2.5, 1.5, 0.5,...\n",
    "    -0.5, -1.5, -2.5, -0.5,...\n",
    "    0.25, 1.25, 2, 1.5, 1, 0.5];"
   ]
  },
  {
   "cell_type": "code",
   "execution_count": 9,
   "metadata": {
    "slideshow": {
     "slide_type": "subslide"
    }
   },
   "outputs": [
    {
     "data": {
      "image/png": "[encoded data removed]",
      "text/plain": [
       "<IPython.core.display.Image object>"
      ]
     },
     "metadata": {},
     "output_type": "display_data"
    }
   ],
   "source": [
    "stem([0:15],xn),xlabel('n'),ylabel('x[n]'),title('Discrete Time Sequence')"
   ]
  },
  {
   "cell_type": "code",
   "execution_count": 10,
   "metadata": {
    "slideshow": {
     "slide_type": "subslide"
    }
   },
   "outputs": [],
   "source": [
    "Xm = dft(xn,16);"
   ]
  },
  {
   "cell_type": "code",
   "execution_count": 11,
   "metadata": {
    "slideshow": {
     "slide_type": "subslide"
    }
   },
   "outputs": [
    {
     "data": {
      "image/png": "[encoded data removed]",
      "text/plain": [
       "<IPython.core.display.Image object>"
      ]
     },
     "metadata": {},
     "output_type": "display_data"
    }
   ],
   "source": [
    "stem([0:15],abs(Xm)),xlabel('m'),ylabel('|X[m]|'),title('Discrete Frequency Sequence')"
   ]
  },
  {
   "cell_type": "markdown",
   "metadata": {
    "slideshow": {
     "slide_type": "notes"
    }
   },
   "source": [
    "Points to note: \n",
    "\n",
    "* $X[0] = 12$ is the DC component of the DT sequence.\n",
    "* After the $|X[8]| = 1.4872$ term, the magnitude of the frequency values for the range $9 <= m <= 15$ are the mirror image of the values for the range $0 <= m <= 7$.\n",
    "* This is not a coincidence, in fact if $x[n]$ is an N-point *real discrete time function*, only $N/2$ of the *frequency components* of $|X[m]|$ *are unique*."
   ]
  },
  {
   "cell_type": "markdown",
   "metadata": {
    "slideshow": {
     "slide_type": "slide"
    }
   },
   "source": [
    "## Even and Odd Properties of the DFT\n",
    "\n",
    "The discrete time and discrete frequency functions are defined as *even* or *odd* in according to the following relations:\n",
    "\n",
    "Even time function: $f[N - n] = f[n]$\n",
    "\n",
    "Odd time function: $f[N - n] = -f[n]$\n",
    "\n",
    "Even frequency function: $F[N - m] = F[m]$\n",
    "\n",
    "Odd frequency function: $F[N - m] = -F[m]$"
   ]
  },
  {
   "cell_type": "markdown",
   "metadata": {
    "slideshow": {
     "slide_type": "subslide"
    }
   },
   "source": [
    "Even and odd properties of the DFT\n",
    "\n",
    "<table>\n",
    "<thead>\n",
    "<tr><td>Discrete time sequence $f[n]$ </td><td> Discrete frequency sequence $F[m]$ </td></tr>\n",
    "</thead>\n",
    "<tbody>\n",
    "<tr>\n",
    "    <td>Real</td><td>Complex<br>Real part is Even<br>Imaginary part is Odd</td>\n",
    "</tr>\n",
    "<tr>\n",
    "    <td>Raal and Even</td><td>Real and Even</td>\n",
    "</tr>\n",
    "<tr>\n",
    "    <td>Raal and Odd</td><td>Imaginary and Even</td>\n",
    "</tr>\n",
    "<tr>\n",
    "    <td>Imaginary</td><td>Complex<br>Real part is Odd<br>Imaginary part is Even</td>\n",
    "</tr>\n",
    "<tr>\n",
    "    <td>Imaginary and Even</td><td>Imaginary and Even</td>\n",
    "</tr>\n",
    "<tr>\n",
    "    <td>Imaginary and Odd</td><td>Real and Odd</td>\n",
    "</tr>\n",
    "</tbody>\n",
    "</table>"
   ]
  },
  {
   "cell_type": "markdown",
   "metadata": {
    "slideshow": {
     "slide_type": "notes"
    }
   },
   "source": [
    "It is not difficult to prove these by expanding \n",
    "\n",
    "$$X[m] = \\sum_{n=0}^{N-1} x[n]W_N^{mn}$$\n",
    "\n",
    "into its real and imaginary parts using Euler's identity and considering the cosine (even) and sine (odd) terms that result. "
   ]
  },
  {
   "cell_type": "markdown",
   "metadata": {
    "slideshow": {
     "slide_type": "subslide"
    }
   },
   "source": [
    "## Common Properties and Theorems of the DFT\n",
    "\n",
    "We denote the DFT and inverse DFT using as follows:\n",
    "\n",
    "$$X[m] = \\mathcal{D}\\left\\{x[n]\\right\\}$$\n",
    "\n",
    "and\n",
    "\n",
    "$$x[n] = \\mathcal{D}^{-1}\\left\\{X[m]\\right\\}$$\n",
    "\n",
    "\n",
    "We then state the following useful properties. For proofs, see Karris, 10.3. **Not examined.**"
   ]
  },
  {
   "cell_type": "markdown",
   "metadata": {
    "slideshow": {
     "slide_type": "subslide"
    }
   },
   "source": [
    "### Linearity\n",
    "\n",
    "$$a x_1[n] + b x_2[n] + \\cdots \\Leftrightarrow a X_1[m] + b X_2[m] + \\cdots$$ "
   ]
  },
  {
   "cell_type": "markdown",
   "metadata": {
    "slideshow": {
     "slide_type": "subslide"
    }
   },
   "source": [
    "### Time-shift\n",
    "\n",
    "$$x[n-k] \\Leftrightarrow W_n^{km} X[m]$$"
   ]
  },
  {
   "cell_type": "markdown",
   "metadata": {
    "slideshow": {
     "slide_type": "subslide"
    }
   },
   "source": [
    "### Frequency shift\n",
    "\n",
    "$$W_n^{-km} x[n] \\Leftrightarrow X[m-k]$$"
   ]
  },
  {
   "cell_type": "markdown",
   "metadata": {
    "slideshow": {
     "slide_type": "subslide"
    }
   },
   "source": [
    "### Time convolution\n",
    "\n",
    "$$x[n]*h[n] \\Leftrightarrow X[m] H[m]$$"
   ]
  },
  {
   "cell_type": "markdown",
   "metadata": {
    "slideshow": {
     "slide_type": "subslide"
    }
   },
   "source": [
    "### Frequency convolution\n",
    "\n",
    "$$x[n]y[n] \\Leftrightarrow \\frac{1}{N}\\sum_{k=0}^{N-1} X[k] Y[m - k] \\Leftrightarrow X[m] * Y[m]$$"
   ]
  },
  {
   "cell_type": "markdown",
   "metadata": {
    "slideshow": {
     "slide_type": "notes"
    }
   },
   "source": [
    "## Sampling Theorem, Windows, and the Picket Fence Effect\n",
    "\n",
    "### Sampling Theorem\n",
    "\n",
    "The *sampling theorem* known as *Nyquist/Shannon's Sampling Theorem* (see [wp>Nyquist/Shannon Sampling Theorem](https://en.wikipedia.org/wiki/Nyquist%E2%80%93Shannon_sampling_theorem)), states that *if a continuous time function, $f(t)$ is band-limited with its highest frequency component less that $W$, then $f(t)$ can be completely recovered from its sampled values, $f[n]$, f the sampling frequency is equal or greater than $2W$.\n",
    "\n",
    "For example, say the highest frequency component in a signal is 18 kHz, this signal must be sampled at $2 \\times 18 = 36$ kHz or higher so that it can be completely specified by its sampled values. If the sampled frequency remains the same, i.e., 36 kHz, and the highest frequency in the signal is increased, to say 25 kHz, this signal cannot be recovered by a Digital to Analogue Converter (DAC).\n",
    "\n",
    "Since many real signals are not band limited, a typical digital signal processing system will include a low-pass filter, often called a *pre-sampling-filter* or simply a *pre-filter*, to ensure that the highest frequency signal allowed into the system will be equal or less than the sampling frequency so that the signal can be recovered. The highest frequency allowed in the system is referred to as the Nyquest frquency denoted as $f_n$.\n",
    "\n",
    "If the signal is not band limited, or the sampling frequency is too low, the spectral components of the signal will overlap each other and this is called *aliasing*. To avoid aliasing, we must increase the sampling rate.\n",
    "\n",
    "### Windowing\n",
    "\n",
    "A DT signal may have an infinite length; in this case it must be limited to a finite interval before it is sampled. We can terminate the signal at a defined number of terms by multiplying it by a *window function*. There are several window functions that are used in practice such as the *rectangular*, *triangular*, *Hanning*, *Hamming*, *Kaiser*, etc. Window functions, and there design, are outside the scope of this module, but are discussed in Appendix E of Karris.\n",
    "\n",
    "All I will say here is that the window function must be carefully chosen to avoid the signal being terminated too abrubtly and causing *leakage* -- that is a spread of the spectrum outside the bounds imposed by the window.\n",
    "\n",
    "### Picket fence\n",
    "\n",
    "A third problem introduced by the DFT is the fact that as the spectrum of the DFT is not continuous, important frequencies may fall between spectrum lines and therefore not be detected. This is called the picket fence effect, named after the white fences seen in the suburbs in US movies. A way round this is to pad the signal with zeros so that the effective period changes and therefore changes the locations of the spectral lines.\n",
    "\n",
    "You should remember that the sampling theorem states under what conditions a signal may be recovered. It does not guarantee that all significant frequencies will be present in the sampled signal."
   ]
  },
  {
   "cell_type": "markdown",
   "metadata": {
    "slideshow": {
     "slide_type": "slide"
    }
   },
   "source": [
    "### A summary of the important features of sampling and the DFT\n",
    "\n",
    "* $N$ is the number of samples in frequency.\n",
    "* $f_s$ sampling frequency, samples per seconds.\n",
    "* $T_t$ period of a periodic DT function.\n",
    "* $t_s$ interval between the $N$ samples in time period $T_t$.\n",
    "* $f_f$ period of a periodic DF function.\n",
    "* $F_s$ interval between the $N$ samples in frequency period $T_f$."
   ]
  },
  {
   "cell_type": "markdown",
   "metadata": {
    "slideshow": {
     "slide_type": "subslide"
    }
   },
   "source": [
    "The relationships between these quantities are:\n",
    "\n",
    "$$t_t = \\frac{T_t}{N}$$\n",
    "\n",
    "$$f_s = \\frac{1}{t_t}$$\n",
    "\n",
    "$$t_f = \\frac{T_f}{N}$$\n",
    "\n",
    "$$t_t = \\frac{1}{T_f}$$\n",
    "\n",
    "$$f_f = \\frac{1}{T_t}$$\n",
    "\n",
    "We will add these quantities to the results of Example 4 in class."
   ]
  },
  {
   "cell_type": "markdown",
   "metadata": {
    "slideshow": {
     "slide_type": "notes"
    }
   },
   "source": [
    "<img src=\"pictures/repeat.png\" />\n",
    "\n",
    "To reproduce this plot use [repeat.m](https://github.com/cpjobling/EG-247-Resources/blob/master/week10/matlab/repeat.m)."
   ]
  },
  {
   "cell_type": "markdown",
   "metadata": {
    "slideshow": {
     "slide_type": "subslide"
    }
   },
   "source": [
    "### Example 5\n",
    "\n",
    "The period of a periodic DT function is 0.125 ms and it is sampled at 1024 equally spaced points. It is assumed that with this number of samples, the sampling theorem is satisfied and thus there will be no aliasing.\n",
    "\n",
    "1. Compute the interval $t_t$ between samples for the periodic signal \n",
    "1. Compute the period $T_f$ of the frequency spectrum in kHz\n",
    "2. Compute the interval $t_f$ between frequency components in kHz\n",
    "3. Compute the sampling frequency $f_s$.\n",
    "4. Compute the Nyquist frequency $f_n$."
   ]
  },
  {
   "cell_type": "markdown",
   "metadata": {
    "slideshow": {
     "slide_type": "notes"
    }
   },
   "source": [
    "### Solution\n",
    "\n",
    "To be done in class.\n",
    "\n",
    "*  Compute the interval $t_t$ between samples for the periodic signal \n",
    "\n",
    "<pre style=\"border: 2px solid blue\">\n",
    "\n",
    "\n",
    "\n",
    "\n",
    "\n",
    "\n",
    "\n",
    "\n",
    "\n",
    "</pre>\n",
    "\n",
    "* Compute the period of the frequency spectrum $T_f$ in kHz\n",
    "\n",
    "<pre style=\"border: 2px solid blue\">\n",
    "\n",
    "\n",
    "\n",
    "\n",
    "\n",
    "\n",
    "\n",
    "\n",
    "\n",
    "</pre>\n",
    "\n",
    "* Compute the interval $t_f$ between frequency components in kHz\n",
    "\n",
    "<pre style=\"border: 2px solid blue\">\n",
    "\n",
    "\n",
    "\n",
    "\n",
    "\n",
    "\n",
    "\n",
    "\n",
    "\n",
    "</pre>\n",
    "\n",
    "* Compute the sampling frequency $f_s$.\n",
    "\n",
    "<pre style=\"border: 2px solid blue\">\n",
    "\n",
    "\n",
    "\n",
    "\n",
    "\n",
    "\n",
    "\n",
    "\n",
    "\n",
    "</pre>\n",
    "\n",
    "* Compute the Nyquist frequency $f_n$.\n",
    "\n",
    "<pre style=\"border: 2px solid blue\">\n",
    "\n",
    "\n",
    "\n",
    "\n",
    "\n",
    "\n",
    "\n",
    "\n",
    "\n",
    "</pre>"
   ]
  },
  {
   "cell_type": "markdown",
   "metadata": {
    "slideshow": {
     "slide_type": "slide"
    }
   },
   "source": [
    "## Summary\n",
    "\n",
    "* The discrete time fourier transform\n",
    "* Even and Odd Properties of the DFT\n",
    "* Common Properties and Theorems of the DFT\n",
    "* Sampling Theorem, Windows, and the Picket Fence Effect\n",
    "\n",
    "*Next session*\n",
    "\n",
    "* The Fast Fourier Transform\n",
    "\n",
    "(without the mathematics)"
   ]
  },
  {
   "cell_type": "markdown",
   "metadata": {
    "slideshow": {
     "slide_type": "slide"
    }
   },
   "source": [
    "## Homework\n",
    "\n",
    "Try Exercise 1 and Exercise 2 in Karris 10.8 by hand.\n",
    "\n",
    "For the exam, I wouldn't expect you to compute the whole sequence for a signal with more than 4 samples. However, you will need to be able to compute the DFT $x[n]$ and IDFT $X[m]$ of an 8-point sequence for any single value $n$ or $m$. "
   ]
  },
  {
   "cell_type": "markdown",
   "metadata": {
    "slideshow": {
     "slide_type": "notes"
    }
   },
   "source": [
    "## Answers\n",
    "\n",
    "### Example 1\n",
    "\n",
    "$$\\begin{eqnarray*}\n",
    "  X(0) &=& 6 \\\\ \n",
    "  X(1) &=&  - 1 - j \\\\ \n",
    "  X(2) &=& 0 \\\\ \n",
    "  X(3) &=&  - 1 + j \\\\ \n",
    "\\end{eqnarray*} $$\n",
    "\n",
    "\n",
    "### Example 3\n",
    "\n",
    "$$W_8 = \\left[ 1, \\frac{1}{\\sqrt{2}}+j\\frac{1}{\\sqrt{2}}, j, -\\frac{1}{\\sqrt{2}}+j\\frac{1}{\\sqrt{2}}, -1, -\\frac{1}{\\sqrt{2}}-j\\frac{1}{\\sqrt{2}}, -j, \\frac{1}{\\sqrt{2}}-j\\frac{1}{\\sqrt{2}} \\right]$$\n",
    "\n",
    "### Example 4\n",
    "\n",
    "1. 8192 kHz (8.2 Mhz)\n",
    "2. 8 kHz\n",
    "3. 8.2 Mhz\n",
    "4. 4.1 Mhz"
   ]
  }
 ],
 "metadata": {
  "anaconda-cloud": {},
  "celltoolbar": "Slideshow",
  "kernelspec": {
   "display_name": "Matlab",
   "language": "matlab",
   "name": "matlab"
  },
  "language_info": {
   "codemirror_mode": "octave",
   "file_extension": ".m",
   "help_links": [
    {
     "text": "MetaKernel Magics",
     "url": "https://github.com/calysto/metakernel/blob/master/metakernel/magics/README.md"
    }
   ],
   "mimetype": "text/x-octave",
   "name": "matlab",
   "version": "0.15.0"
  }
 },
 "nbformat": 4,
 "nbformat_minor": 1
}
