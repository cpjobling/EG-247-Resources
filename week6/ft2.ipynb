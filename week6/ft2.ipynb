{
 "cells": [
  {
   "cell_type": "code",
   "execution_count": null,
   "metadata": {
    "slideshow": {
     "slide_type": "skip"
    }
   },
   "outputs": [],
   "source": [
    "cd matlab\n",
    "pwd"
   ]
  },
  {
   "cell_type": "markdown",
   "metadata": {
    "slideshow": {
     "slide_type": "slide"
    }
   },
   "source": [
    "# The Fourier Transform (Part 2)"
   ]
  },
  {
   "cell_type": "markdown",
   "metadata": {
    "slideshow": {
     "slide_type": "notes"
    }
   },
   "source": [
    "## Note on Notation\n",
    "\n",
    "If you have been reading both Karris and Boulet you may have noticed a difference in the notation used in the definition of Fourier Transform:\n",
    "\n",
    "* Karris uses $F(\\omega)$\n",
    "* Boulet uses $F(j\\omega)$\n",
    "\n",
    "I checked other sources and [Hsu (Schaum's Signals and Systems)](https://www.dawsonera.com/abstract/9780071634731) and Morrell (The [Fourier Analysis Video Series on YouTube](http://www.youtube.com/watch?v=bqYxhYGA2qU&list=PL51707156C4956932&feature=share&index=10)) both use the $F(\\omega)$ notation.\n",
    "\n",
    "According to Wikipedia [Fourier Transform: Other Notations](http://en.wikipedia.org/wiki/Fourier_transform#Other_notations) both are used only by electronic engineers anyway and either would be acceptible.\n",
    "\n",
    "There is some advantage in using Boulet's notation $F(j\\omega)$ in that it helps to reinforce the idea that Fourier Transform is a special case of the Laplace Transform and it was the notation that I used in the last session.\n",
    "\n",
    "In these notes, I've used the other convention on the basis that its the more likely to be seen in your support materials. \n",
    "\n",
    "However, I am happy to change back if you find the addition of $j$ useful.\n",
    "\n",
    "You should be aware that Fourier Transforms are in general complex so whatever the notation used to *represent* the transform, we are still dealing with real and imaginary parts or magnitudes and phases when we use the *actual transforms* in analysis.\n",
    "\n",
    "\n"
   ]
  },
  {
   "cell_type": "markdown",
   "metadata": {
    "slideshow": {
     "slide_type": "slide"
    }
   },
   "source": [
    "## Agenda\n",
    "\n",
    "*Last Hour*\n",
    "\n",
    "* Fourier Transform as the Limit of a Fourier Series\n",
    "* Doing the Maths\n",
    "* Special forms of the Fourier Transform\n",
    "* Properties of the Fourier Transform\n",
    "* Computing Fourier Transforms in Matlab\n"
   ]
  },
  {
   "cell_type": "markdown",
   "metadata": {
    "slideshow": {
     "slide_type": "subslide"
    }
   },
   "source": [
    "*This Hour*\n",
    "\n",
    "* Tables of Transform Pairs\n",
    "* Examples of Selected Transforms\n",
    "* Relationship between Laplace and Fourier\n",
    "* Fourier Transforms of Common Signals\n"
   ]
  },
  {
   "cell_type": "markdown",
   "metadata": {
    "slideshow": {
     "slide_type": "subslide"
    }
   },
   "source": [
    "## Scope and Background Reading\n",
    "\n",
    "This session continues our introduction to the Fourier Transform with several examples extracted from tables of transform tables.\n",
    "\n",
    "The material in this presentation and notes is based on Chapter 8 (Starting at Section 8.4) of [Steven T. Karris, Signals and Systems: with Matlab Computation and Simulink Modelling, 5th Edition.](https://ebookcentral.proquest.com/lib/swansea-ebooks/reader.action?ppg=286&docID=3384197&tm=1518710468754) from the Required Reading List. I also used Chapter 5 of [Benoit Boulet, Fundamentals of Signals and Systems](https://ebookcentral.proquest.com/lib/swansea-ebooks/reader.action?ppg=194&docID=3135971&tm=1518710497550) from the Recommended Reading List."
   ]
  },
  {
   "cell_type": "markdown",
   "metadata": {
    "slideshow": {
     "slide_type": "slide"
    }
   },
   "source": [
    "## Reminder of the Definitions\n",
    "\n",
    "Last time we derived the Fourier Transform by evaluating what would happen when a periodic signal was made periodic. Let us restate the definitions."
   ]
  },
  {
   "cell_type": "markdown",
   "metadata": {
    "slideshow": {
     "slide_type": "subslide"
    }
   },
   "source": [
    "### The Fourier Transform\n",
    "\n",
    "In the signals and systems context, the Fourier Transform is used to convert a function of time $f(t)$ to a function of radian frequency $F(\\omega)$:\n",
    "\n",
    "$$\\mathcal{F}\\left\\{f(t)\\right\\} = \\int_{-\\infty}^{\\infty} f(e)e^{-j\\omega t}\\,dt = F(\\omega).$$"
   ]
  },
  {
   "cell_type": "markdown",
   "metadata": {
    "slideshow": {
     "slide_type": "subslide"
    }
   },
   "source": [
    "### The Inverse Fourier Transform\n",
    "\n",
    "In the signals and systems context, the *Inverse Fourier Transform* is used to convert a function of frequency $F(\\omega)$ to a function of time $f(t)$:\n",
    "\n",
    "$$\\mathcal{F}^{-1}\\left\\{F(\\omega)\\right\\} = \\frac{1}{2\\pi}\\int_{-\\infty}^{\\infty} F(\\omega)e^{j\\omega t}\\,d\\omega = f(t) .$$"
   ]
  },
  {
   "cell_type": "markdown",
   "metadata": {
    "slideshow": {
     "slide_type": "notes"
    }
   },
   "source": [
    "Note, the factor $2\\pi$ is introduced because we are changing units from radians/second to seconds."
   ]
  },
  {
   "cell_type": "markdown",
   "metadata": {
    "slideshow": {
     "slide_type": "subslide"
    }
   },
   "source": [
    "### Duality of the transform\n",
    "\n",
    "Note the similarity of the Fourier and its Inverse. \n",
    "\n",
    "This has important consequences in filter design and later when we consider sampled data systems."
   ]
  },
  {
   "cell_type": "markdown",
   "metadata": {
    "slideshow": {
     "slide_type": "slide"
    }
   },
   "source": [
    "## Table of Common Fourier Transform Pairs\n",
    "\n",
    "This table is adapted from Table 8.9 of Karris. See also: [Wikibooks: Engineering Tables/Fourier Transform Table](http://en.wikibooks.org/wiki/Engineering_Tables/Fourier_Transform_Table) and [Fourier Transfom&mdash;WolframMathworld](http://mathworld.wolfram.com/FourierTransform.html) for more complete references."
   ]
  },
  {
   "cell_type": "markdown",
   "metadata": {
    "slideshow": {
     "slide_type": "subslide"
    }
   },
   "source": [
    "<table>\n",
    "<thead>\n",
    "<tr><td></td><td>**Name**</td><td>$f(t)$</td><td>$F(\\omega)$</td><td>**Remarks**</td></tr>\n",
    "<thead>\n",
    "<tbody>\n",
    "<tr><td>1</td><td>Dirac delta</td><td>$\\delta(t)$</td><td>1</td><td>Constant energy at *all* frequencies.</td></tr>\n",
    "<tr><td>2</td><td>Time sample</td><td>$\\delta(t-t_0)$</td><td>$e^{j\\omega t_0}$</td><td></td></tr>\n",
    "<tr><td>3.</td><td>Phase shift</td><td>$e^{j\\omega t_0}$</td><td>$2\\pi\\delta(\\omega - \\omega_0)$</td><td></td></tr>\n",
    "<tr><td>4.</td><td>*Signum* </td><td>$\\operatorname{sgn} (x)$</td><td>$$\\frac{2}{j\\omega}$$</td><td>also known as sign function</td></tr>\n",
    "<tr><td>5.</td><td>Unit step</td><td>$u_0(t)$</td><td>$$\\frac{1}{j\\omega}+\\pi\\delta(\\omega)$$</td><td></td></tr>\n",
    "<tr><td>6.</td><td>Cosine</td><td>$\\cos \\omega_0 t$</td><td>$\\pi\\left[\\delta(\\omega-\\omega_0)+\\delta(\\omega+\\omega_0)\\right]$</td><td></td></tr>\n",
    "<tr><td>7.</td><td>Sine</td><td>$\\sin \\omega_0 t$</td><td>$-j\\pi\\left[\\delta(\\omega-\\omega_0)-\\delta(\\omega+\\omega_0)\\right]$</td><td></td></tr>\n",
    "<tr><td>8.</td><td>Single pole</td><td>$e^{-at}u_0(t)$</td><td>$$\\frac{1}{j\\omega + a}$$</td><td>$a \\gt 0$</td></tr>\n",
    "<tr><td>9.</td><td>Double pole</td><td>$te^{-at}u_0(t)$</td><td>$$\\frac{1}{(j\\omega + a)^2}$$</td><td>$a \\gt 0$</td></tr>\n",
    "<tr><td>10.</td><td>Complex pole (cosine component)</td><td>$e^{-at}\\cos \\omega_0 t\\;u_0(t)$</td><td>$$\\frac{j\\omega + a}{((j\\omega + a)^2+\\omega^2}$$</td><td>$a\\gt 0$</td></tr>\n",
    "<tr><td>11.</td><td>Complex pole (sine component)</td><td>$e^{-at}\\sin \\omega_0 t\\;u_0(t)$</td><td>$$\\frac{\\omega}{((j\\omega + a)^2+\\omega^2}$$</td><td>$a\\gt 0$</td></tr>\n",
    "<tr><td>12.</td><td>Gating function (*aka* $\\operatorname{rect} (T)$)</td><td>$A\\left[u_0(t + T)-u_0(t - T)\\right]$</td><td>$$2AT\\frac{\\sin\\omega T}{\\omega T}$$</td><td></td></tr>\n",
    "</tbody>\n",
    "</table>"
   ]
  },
  {
   "cell_type": "markdown",
   "metadata": {
    "slideshow": {
     "slide_type": "slide"
    }
   },
   "source": [
    "## Some Selected Fourier Transforms"
   ]
  },
  {
   "cell_type": "markdown",
   "metadata": {
    "slideshow": {
     "slide_type": "subslide"
    }
   },
   "source": [
    "### Relationship between f(t) and F(omega)\n",
    "\n",
    "In most of the work we will do in this course, and in practice, the *signals* that we use with the Fourier transform will be a real continuous aperiodic functions of time that are zero when $t = 0$.\n",
    "\n",
    "The Fourier transforms of such a signals will be complex continous function of frequency which have real and imaginary parts and will exist at both positive and negative values of $\\omega$."
   ]
  },
  {
   "cell_type": "markdown",
   "metadata": {
    "slideshow": {
     "slide_type": "subslide"
    }
   },
   "source": [
    "It is often most convenient to deal with the transformed \"spectrum\" by considering the magnitude and phase and we will therefore often plot $F(\\omega)$ on two separate graphs as *magnitude* $|F(\\omega)|$ and *phase* $\\angle F(\\omega)$ (where phase is measured in radians) plotted against frequency $\\omega \\in [-\\infty,\\infty]$ (in radians/second).\n",
    "\n",
    "We most often represent the *system* by its so-called *frequency response* and we will be interested on what effect the system has on the signal $f(t)$. "
   ]
  },
  {
   "cell_type": "markdown",
   "metadata": {
    "slideshow": {
     "slide_type": "subslide"
    }
   },
   "source": [
    "As for the Laplace transform, this is more conveniently determined by exploiting the *time convolution property*. That is by performing a Fourier transform of the signal, multiplying it by the system's frequency response and then inverse Fourier transforming the result."
   ]
  },
  {
   "cell_type": "markdown",
   "metadata": {
    "slideshow": {
     "slide_type": "subslide"
    }
   },
   "source": [
    "Have these ideas in mind as we go through the examples in the rest of this session."
   ]
  },
  {
   "cell_type": "markdown",
   "metadata": {
    "slideshow": {
     "slide_type": "subslide"
    }
   },
   "source": [
    "### The Dirac Delta\n",
    "\n",
    "$$\\delta(t) \\Leftrightarrow 1$$\n",
    "\n",
    "<img src=\"pictures/ft_delta.png\">\n",
    "\n",
    "*Proof*: uses sampling and sifting properties of $\\delta(t)$."
   ]
  },
  {
   "cell_type": "markdown",
   "metadata": {
    "slideshow": {
     "slide_type": "subslide"
    }
   },
   "source": [
    "*Matlab*: "
   ]
  },
  {
   "cell_type": "code",
   "execution_count": 2,
   "metadata": {
    "slideshow": {
     "slide_type": "subslide"
    }
   },
   "outputs": [
    {
     "name": "stdout",
     "output_type": "stream",
     "text": [
      " \n",
      "ans =\n",
      " \n",
      "1\n",
      " \n"
     ]
    }
   ],
   "source": [
    "syms t;\n",
    "fourier(dirac(t))"
   ]
  },
  {
   "cell_type": "markdown",
   "metadata": {
    "slideshow": {
     "slide_type": "subslide"
    }
   },
   "source": [
    "Related:\n",
    "\n",
    "$$\\delta(t-t_0) \\Leftrightarrow e^{-j\\omega t_0}$$"
   ]
  },
  {
   "cell_type": "markdown",
   "metadata": {
    "slideshow": {
     "slide_type": "subslide"
    }
   },
   "source": [
    "### DC\n",
    "\n",
    "$$1 \\Leftrightarrow 2\\pi\\delta(\\omega)$$\n",
    "\n",
    "<img src=\"pictures/ft_dc.png\">"
   ]
  },
  {
   "cell_type": "markdown",
   "metadata": {
    "slideshow": {
     "slide_type": "subslide"
    }
   },
   "source": [
    "*Matlab*:"
   ]
  },
  {
   "cell_type": "code",
   "execution_count": 3,
   "metadata": {
    "slideshow": {
     "slide_type": "subslide"
    }
   },
   "outputs": [
    {
     "name": "stdout",
     "output_type": "stream",
     "text": [
      " \n",
      "ans =\n",
      " \n",
      "2*pi*dirac(omega)\n",
      " \n"
     ]
    }
   ],
   "source": [
    "syms t omega;\n",
    "A = sym(1);\n",
    "fourier(A,omega)"
   ]
  },
  {
   "cell_type": "markdown",
   "metadata": {
    "slideshow": {
     "slide_type": "subslide"
    }
   },
   "source": [
    "Related by frequency shifting property:\n",
    "\n",
    "$$e^{j\\omega_0 t} \\Leftrightarrow 2\\pi\\delta(\\omega-\\omega_0)$$"
   ]
  },
  {
   "cell_type": "markdown",
   "metadata": {
    "slideshow": {
     "slide_type": "subslide"
    }
   },
   "source": [
    "### Cosine (Sinewave with even symmetry)\n",
    "\n",
    "$$\\cos(t) = \\frac{1}{2}\\left(e^{j\\omega_0 t}+e^{-j\\omega_0 t}\\right) \\Leftrightarrow \\pi\\delta(\\omega - \\omega_0) + \\pi\\delta(\\omega + \\omega_0)$$\n",
    "\n",
    "<img src=\"pictures/ft_cos.png\">\n",
    "\n",
    "Note: $f(t)$ is real and even. $F(\\omega)$ is also real and even."
   ]
  },
  {
   "cell_type": "markdown",
   "metadata": {
    "slideshow": {
     "slide_type": "subslide"
    }
   },
   "source": [
    "### Sinewave\n",
    "\n",
    "$$\\sin(t) = \\frac{1}{j2}\\left(e^{j\\omega_0 t}-e^{-j\\omega_0 t}\\right) \\Leftrightarrow -j\\pi\\delta(\\omega - \\omega_0) + j\\pi\\delta(\\omega + \\omega_0)$$\n",
    "\n",
    "<img src=\"pictures/ft_sin.png\">\n",
    "\n",
    "Note: $f(t)$ is real and odd. $F(\\omega)$ is imaginary and odd."
   ]
  },
  {
   "cell_type": "markdown",
   "metadata": {
    "slideshow": {
     "slide_type": "subslide"
    }
   },
   "source": [
    "### Signum (Sign)\n",
    "\n",
    "The signum function is a function whose value is equal to\n",
    "\n",
    "$$\\operatorname{sgn} x = \\left\\{ {\\begin{array}{*{20}{c}}\n",
    "  { - 1\\;x < 1} \\\\ \n",
    "  {0\\;x = 0} \\\\ \n",
    "  { + 1\\;x > 0} \n",
    "\\end{array}} \\right.$$"
   ]
  },
  {
   "cell_type": "markdown",
   "metadata": {
    "slideshow": {
     "slide_type": "subslide"
    }
   },
   "source": [
    "The transform is:\n",
    "\n",
    "$$\\operatorname{sgn} x = u_0(t) - u_0(-t) = \\frac{2}{j\\omega}$$\n",
    "\n",
    "<img src=\"pictures/ft_sgn.png\">\n",
    "\n",
    "This function is often used to model a *voltage comparitor* in circuits."
   ]
  },
  {
   "cell_type": "markdown",
   "metadata": {
    "slideshow": {
     "slide_type": "subslide"
    }
   },
   "source": [
    "### Example 4: Unit Step\n",
    "\n",
    "Use the signum function to show that\n",
    "$$\\mathcal{F}\\left\\{u_0(t))\\right\\} = \\pi\\delta(\\omega)+\\frac{1}{j\\omega}$$"
   ]
  },
  {
   "cell_type": "markdown",
   "metadata": {
    "slideshow": {
     "slide_type": "subslide"
    }
   },
   "source": [
    "### Clue\n",
    "\n",
    "Define\n",
    "\n",
    "$$\\operatorname{sgn} t = 2 u_0(t) - 1$$\n",
    "\n",
    "<img src=\"pictures/u_as_sign.png\">\n",
    "\n",
    "*Does that help?*"
   ]
  },
  {
   "cell_type": "markdown",
   "metadata": {
    "slideshow": {
     "slide_type": "notes"
    }
   },
   "source": [
    "<pre style=\"border: 2px solid blue\">\n",
    "\n",
    "\n",
    "\n",
    "\n",
    "\n",
    "\n",
    "\n",
    "\n",
    "\n",
    "\n",
    "\n",
    "\n",
    "\n",
    "\n",
    "\n",
    "</pre>"
   ]
  },
  {
   "cell_type": "markdown",
   "metadata": {
    "slideshow": {
     "slide_type": "notes"
    }
   },
   "source": [
    "### Proof\n",
    "\n",
    "$$\\operatorname{sgn} x = 2u_0(t) - 1$$\n",
    "\n",
    "so\n",
    "\n",
    "$$u_0(t) = \\frac{1}{2}\\left[1 + \\operatorname{sgn} x\\right]$$\n",
    "\n",
    "From previous results $1\\Leftrightarrow 2\\pi\\delta(\\omega)$ and $\\operatorname{sgn} x = 2/(j\\omega)$ so by linearity\n",
    "\n",
    "$$u_0(t) \\Leftrightarrow \\pi\\delta(\\omega)+\\frac{1}{j\\omega}$$\n",
    "\n",
    "*QED*"
   ]
  },
  {
   "cell_type": "markdown",
   "metadata": {
    "slideshow": {
     "slide_type": "subslide"
    }
   },
   "source": [
    "### Graph of unit step\n",
    "\n",
    "$$u_0(t) \\Leftrightarrow \\pi\\delta(\\omega)+\\frac{1}{j\\omega}$$\n",
    "\n",
    "<img src=\"pictures/ft_step.png\">"
   ]
  },
  {
   "cell_type": "markdown",
   "metadata": {
    "slideshow": {
     "slide_type": "notes"
    }
   },
   "source": [
    "Unit step is neither even nor odd so the Fourier transform is complex with real part $F_\\mathrm{Re}(\\omega) = \\pi\\delta(\\omega)$ and imaginary part $F_\\mathrm{Im}(\\omega) = 1/(j\\omega)$. The real part is even, and theimaginary part is odd."
   ]
  },
  {
   "cell_type": "markdown",
   "metadata": {
    "slideshow": {
     "slide_type": "subslide"
    }
   },
   "source": [
    "### Example 5\n",
    "\n",
    "Use the results derived so far to show that \n",
    "\n",
    "$$e^{j\\omega_0 t}u_0(t)\\Leftrightarrow \\pi\\delta(\\omega - \\omega_0) + \\frac{1}{j(\\omega-\\omega_0)}$$\n",
    "\n",
    "Hint: linearity plus frequency shift property."
   ]
  },
  {
   "cell_type": "markdown",
   "metadata": {
    "slideshow": {
     "slide_type": "notes"
    }
   },
   "source": [
    "<pre style=\"border: 2px solid blue\">\n",
    "\n",
    "\n",
    "\n",
    "\n",
    "\n",
    "\n",
    "\n",
    "\n",
    "\n",
    "\n",
    "\n",
    "\n",
    "\n",
    "\n",
    "\n",
    "</pre>"
   ]
  },
  {
   "cell_type": "markdown",
   "metadata": {
    "slideshow": {
     "slide_type": "subslide"
    }
   },
   "source": [
    "### Example 6\n",
    "\n",
    "Use the results derived so far to show that \n",
    "\n",
    "$$\\sin \\omega_0 t\\; u_0(t)\\Leftrightarrow \\frac{\\pi}{j2}\\left[\\delta(\\omega-\\omega_0)-\\delta(\\omega+\\omega_0)\\right] + \\frac{\\omega_0}{\\omega_0^2 - \\omega^2}$$\n",
    "\n",
    "Hint: Euler's formula plus solution to example 2."
   ]
  },
  {
   "cell_type": "markdown",
   "metadata": {
    "slideshow": {
     "slide_type": "notes"
    }
   },
   "source": [
    "**Important note**: the equivalent example in Karris (Section 8.4.9 Eq. 8.75 pp 8-23&mdash;8-24) is wrong! \n",
    "\n",
    "See worked solution on Blackboard for the corrected proof."
   ]
  },
  {
   "cell_type": "markdown",
   "metadata": {
    "slideshow": {
     "slide_type": "notes"
    }
   },
   "source": [
    "<pre style=\"border: 2px solid blue\">\n",
    "\n",
    "\n",
    "\n",
    "\n",
    "\n",
    "\n",
    "\n",
    "\n",
    "\n",
    "\n",
    "\n",
    "\n",
    "\n",
    "\n",
    "\n",
    "</pre>"
   ]
  },
  {
   "cell_type": "markdown",
   "metadata": {
    "slideshow": {
     "slide_type": "subslide"
    }
   },
   "source": [
    "### Example 7\n",
    "\n",
    "Use the result of Example 3 to determine the Fourier transform of $\\cos\\omega_0 t\\; u_0(t)$."
   ]
  },
  {
   "cell_type": "markdown",
   "metadata": {
    "slideshow": {
     "slide_type": "notes"
    }
   },
   "source": [
    "<pre style=\"border: 2px solid blue\">\n",
    "\n",
    "\n",
    "\n",
    "\n",
    "\n",
    "\n",
    "\n",
    "\n",
    "\n",
    "\n",
    "\n",
    "\n",
    "\n",
    "\n",
    "\n",
    "</pre>"
   ]
  },
  {
   "cell_type": "markdown",
   "metadata": {
    "slideshow": {
     "slide_type": "subslide"
    }
   },
   "source": [
    "### Answer\n",
    "\n",
    "$$\\cos\\omega_0 t\\; u_0(t)\\Leftrightarrow \\frac{\\pi}{2}\\left[\\delta(\\omega-\\omega_0)+\\delta(\\omega+\\omega_0)\\right] + \\frac{j\\omega}{\\omega_0^2 - \\omega^2}$$"
   ]
  },
  {
   "cell_type": "markdown",
   "metadata": {
    "slideshow": {
     "slide_type": "slide"
    }
   },
   "source": [
    "## Derivation of the Fourier Transform from the Laplace Transform\n",
    "\n",
    "If a signal is a function of time $f(t)$ which is zero for $t\\le 0$, we can obtain the Fourier transform from the Lpalace transform by substituting $s$ by $j\\omega$."
   ]
  },
  {
   "cell_type": "markdown",
   "metadata": {
    "slideshow": {
     "slide_type": "subslide"
    }
   },
   "source": [
    "### Example 8: Single Pole Filter\n",
    "\n",
    "Given that \n",
    "\n",
    "$$\\mathcal{L}\\left\\{e^{-at}u_0(t)\\right\\} = \\frac{1}{s + a}$$\n",
    "\n",
    "Compute \n",
    "\n",
    "$$\\mathcal{F}\\left\\{e^{-at}u_0(t)\\right\\}$$"
   ]
  },
  {
   "cell_type": "markdown",
   "metadata": {
    "slideshow": {
     "slide_type": "notes"
    }
   },
   "source": [
    "<pre style=\"border: 2px solid blue\">\n",
    "\n",
    "\n",
    "\n",
    "\n",
    "\n",
    "\n",
    "\n",
    "\n",
    "\n",
    "\n",
    "\n",
    "\n",
    "\n",
    "\n",
    "\n",
    "</pre>"
   ]
  },
  {
   "cell_type": "markdown",
   "metadata": {
    "slideshow": {
     "slide_type": "notes"
    }
   },
   "source": [
    "Boulet gives the graph of this function."
   ]
  },
  {
   "cell_type": "markdown",
   "metadata": {
    "slideshow": {
     "slide_type": "subslide"
    }
   },
   "source": [
    "### Example 9: Complex Pole Pair  cos term\n",
    "\n",
    "Given that \n",
    "\n",
    "$$\\mathcal{L}\\left\\{e^{-at}\\cos\\omega_0 t\\;u_0(t)\\right\\} = \\frac{s+a}{(s + a)^2+\\omega_0^2}$$\n",
    "\n",
    "Compute \n",
    "\n",
    "$$\\mathcal{F}\\left\\{e^{-at}\\cos\\omega_0 t\\;u_0(t)\\right\\}$$"
   ]
  },
  {
   "cell_type": "markdown",
   "metadata": {
    "slideshow": {
     "slide_type": "notes"
    }
   },
   "source": [
    "<pre style=\"border: 2px solid blue\">\n",
    "\n",
    "\n",
    "\n",
    "\n",
    "\n",
    "\n",
    "\n",
    "\n",
    "\n",
    "\n",
    "\n",
    "\n",
    "\n",
    "\n",
    "\n",
    "</pre>"
   ]
  },
  {
   "cell_type": "markdown",
   "metadata": {
    "slideshow": {
     "slide_type": "notes"
    }
   },
   "source": [
    "Boulet gives the graph of this function."
   ]
  },
  {
   "cell_type": "markdown",
   "metadata": {
    "slideshow": {
     "slide_type": "subslide"
    }
   },
   "source": [
    "## Fourier Transforms of Common Signals\n",
    "\n",
    "We shall conclude this session by computing as many of the the Fourier transform of some common signals as we have time for.\n",
    "\n",
    "* rectangular pulse\n",
    "* triangular pulse\n",
    "* periodic time function\n",
    "* unit impulse train (model of regular sampling)"
   ]
  },
  {
   "cell_type": "markdown",
   "metadata": {
    "slideshow": {
     "slide_type": "notes"
    }
   },
   "source": [
    "I will not provide notes for these, but you will find more details in Chapter 8 of Karris and Chapter 5 of Boulet and \n",
    "\n",
    "I have created some worked examples (see Blackboard and the OneNote notebook) to help with revision."
   ]
  },
  {
   "cell_type": "markdown",
   "metadata": {
    "slideshow": {
     "slide_type": "slide"
    }
   },
   "source": [
    "## Suggestions for Further Reading\n",
    "\n",
    "Boulet has several interesting amplifications of the material presented by Karris. You would be well advised to read these. Particular highlights which we will not have time to cover:\n",
    "\n",
    "* Time multiplication and its relation to amplitude modulation (pp 182&mdash;183).\n",
    "* Fourier transform of the complex exponential signal $e^{(\\alpha +j\\beta)t}$ with graphs (pp 184&mdash;187).\n",
    "* Use of inverse Fourier series to determine $f(t)$ from a given $F(j\\omega)$ and the \"ideal\" low-pass filter (pp 188&mdash;191).\n",
    "* The Duality of the Fourier transform (pp 191&mdash;192).\n",
    "\n"
   ]
  },
  {
   "cell_type": "markdown",
   "metadata": {
    "slideshow": {
     "slide_type": "slide"
    }
   },
   "source": [
    "## End of Second Hour\n",
    "\n",
    "*Summary*\n",
    "\n",
    "* Tables of Transform Pairs\n",
    "* Examples of Selected Transforms\n",
    "* Relationship between Laplace and Fourier\n",
    "* Fourier Transforms of Common Signals"
   ]
  },
  {
   "cell_type": "markdown",
   "metadata": {
    "slideshow": {
     "slide_type": "subslide"
    }
   },
   "source": [
    "*Next Time*\n",
    "\n",
    "* The Fourier Transform for Systems and Circuit Analysis"
   ]
  }
 ],
 "metadata": {
  "anaconda-cloud": {},
  "celltoolbar": "Slideshow",
  "kernelspec": {
   "display_name": "Matlab",
   "language": "matlab",
   "name": "matlab"
  },
  "language_info": {
   "codemirror_mode": "octave",
   "file_extension": ".m",
   "help_links": [
    {
     "text": "MetaKernel Magics",
     "url": "https://github.com/calysto/metakernel/blob/master/metakernel/magics/README.md"
    }
   ],
   "mimetype": "text/x-octave",
   "name": "matlab",
   "version": "0.15.0"
  }
 },
 "nbformat": 4,
 "nbformat_minor": 1
}
