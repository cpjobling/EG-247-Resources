{
 "cells": [
  {
   "cell_type": "markdown",
   "metadata": {
    "slideshow": {
     "slide_type": "skip"
    }
   },
   "source": [
    "Lecturer: Set up MATLAB"
   ]
  },
  {
   "cell_type": "code",
   "execution_count": null,
   "metadata": {
    "slideshow": {
     "slide_type": "skip"
    }
   },
   "outputs": [],
   "source": [
    "cd matlab pwd\n",
    "clear all"
   ]
  },
  {
   "cell_type": "markdown",
   "metadata": {
    "nbpresent": {
     "id": "620fa785-6e69-4039-86e9-2cf57bedac85"
    },
    "slideshow": {
     "slide_type": "slide"
    }
   },
   "source": [
    "# Elementary Signals\n",
    "\n",
    "Consider this circuit:\n",
    "\n",
    "<img src=\"pictures/circuit1.png\">"
   ]
  },
  {
   "cell_type": "markdown",
   "metadata": {
    "slideshow": {
     "slide_type": "subslide"
    }
   },
   "source": [
    "Q1: What happens **before** $t=0$?\n",
    "\n",
    "1. $v_{\\mathrm{out}} = \\mathrm{undefined}$\n",
    "2. $v_{\\mathrm{out}} = 0$\n",
    "3. $v_{\\mathrm{out}} = V_s$\n",
    "4. $v_{\\mathrm{out}} = 1/2$\n",
    "5. $v_{\\mathrm{out}} = \\infty$"
   ]
  },
  {
   "cell_type": "markdown",
   "metadata": {
    "nbpresent": {
     "id": "522d6983-9204-4699-8fa4-9954faaa02f6"
    },
    "slideshow": {
     "slide_type": "subslide"
    }
   },
   "source": [
    "Q2: What happens **after** $t=0$?\n",
    "\n",
    "1. $v_{\\mathrm{out}} = \\mathrm{undefined}$\n",
    "2. $v_{\\mathrm{out}} = 0$\n",
    "3. $v_{\\mathrm{out}} = V_s$\n",
    "4. $v_{\\mathrm{out}} = 1/2$\n",
    "5. $v_{\\mathrm{out}} = \\infty$"
   ]
  },
  {
   "cell_type": "markdown",
   "metadata": {
    "nbpresent": {
     "id": "df3ad26b-a046-4917-a6c8-05979f1508e1"
    },
    "slideshow": {
     "slide_type": "subslide"
    }
   },
   "source": [
    "Q3: What happens **at** $t=0$?\n",
    "\n",
    "1. $v_{\\mathrm{out}} = \\mathrm{undefined}$\n",
    "2. $v_{\\mathrm{out}} = 0$\n",
    "3. $v_{\\mathrm{out}} = V_s$\n",
    "4. $v_{\\mathrm{out}} = 1/2$\n",
    "5. $v_{\\mathrm{out}} = \\infty$"
   ]
  },
  {
   "cell_type": "markdown",
   "metadata": {
    "nbpresent": {
     "id": "f2107419-f6c6-40cb-af01-5679bcd12847"
    },
    "slideshow": {
     "slide_type": "subslide"
    }
   },
   "source": [
    "Q4: What does the response of $V_{\\mathrm{out}}$ look like? \n",
    "Circle the picture you think is correct on your handout.\n",
    "\n",
    "1: <img src=\"pictures/impulse.png\">"
   ]
  },
  {
   "cell_type": "markdown",
   "metadata": {
    "nbpresent": {
     "id": "666ee0a9-1b16-41af-8bd7-3c9bcf893ba7"
    },
    "slideshow": {
     "slide_type": "subslide"
    }
   },
   "source": [
    "2: <img src=\"pictures/ramp.png\">"
   ]
  },
  {
   "cell_type": "markdown",
   "metadata": {
    "nbpresent": {
     "id": "15eb5d2c-a1d8-4b7f-becc-b64277ad2834"
    },
    "slideshow": {
     "slide_type": "subslide"
    }
   },
   "source": [
    "3: <img src=\"pictures/step1.png\">"
   ]
  },
  {
   "cell_type": "markdown",
   "metadata": {
    "nbpresent": {
     "id": "07fc0cb3-3db3-4699-b206-c601b678a2f6"
    },
    "slideshow": {
     "slide_type": "subslide"
    }
   },
   "source": [
    "4: <img src=\"pictures/curve.png\">"
   ]
  },
  {
   "cell_type": "markdown",
   "metadata": {
    "nbpresent": {
     "id": "d2785f35-d64a-43b7-8a83-4554afb14ecc"
    },
    "slideshow": {
     "slide_type": "slide"
    }
   },
   "source": [
    "## The Unit Step Function\n",
    "\n",
    "$${u_0}(t) = \\left\\{ {\\begin{array}{*{20}{c}}\n",
    "{0\\quad t < 0}\\\\\n",
    "{1\\quad t > 0}\n",
    "\\end{array}} \\right.$$\n",
    "\n",
    "<img src=\"pictures/unitstep.png\">"
   ]
  },
  {
   "cell_type": "markdown",
   "metadata": {
    "nbpresent": {
     "id": "eff6ecd3-20f8-46fd-9ee8-1612a1445b68"
    },
    "slideshow": {
     "slide_type": "subslide"
    }
   },
   "source": [
    "### In Matlab\n",
    "\n",
    "In Matlab, we use the `heaviside` function (Named after [Oliver Heaviside](http://en.wikipedia.org/wiki/Oliver_Heaviside)). "
   ]
  },
  {
   "cell_type": "code",
   "execution_count": 4,
   "metadata": {
    "slideshow": {
     "slide_type": "fragment"
    }
   },
   "outputs": [
    {
     "name": "stdout",
     "output_type": "stream",
     "text": [
      "\n",
      "ans =\n",
      "\n",
      "    0.5000\n",
      "\n"
     ]
    },
    {
     "data": {
      "image/png": "[encoded data removed]",
      "text/plain": [
       "<IPython.core.display.Image object>"
      ]
     },
     "metadata": {},
     "output_type": "display_data"
    }
   ],
   "source": [
    "syms t\n",
    "ezplot(heaviside(t),[-1,1])\n",
    "heaviside(0)"
   ]
  },
  {
   "cell_type": "markdown",
   "metadata": {
    "slideshow": {
     "slide_type": "notes"
    }
   },
   "source": [
    "See: [heaviside_function.m](matlab/heaviside_function.m)\n",
    "\n",
    "Note that, so it can be plotted, Matlab defines the *heaviside function* slightly differently from the mathematically ideal unit step:\n",
    "\n",
    "$$\\mathrm{heaviside}(t) = \\left\\{ {\\begin{array}{*{20}{c}}\n",
    "{0\\quad t < 0}\\\\\n",
    "{1/2\\quad t = 0}\\\\\n",
    "{1\\quad t > 0}\n",
    "\\end{array}} \\right.$$"
   ]
  },
  {
   "cell_type": "markdown",
   "metadata": {
    "nbpresent": {
     "id": "c075009d-ecf8-4de2-8dc5-d9ced01c40a8"
    },
    "slideshow": {
     "slide_type": "subslide"
    }
   },
   "source": [
    "### Circuit Revisited\n",
    "\n",
    "Consider the network shown below, where the switch is closed at time $t=T$. \n",
    "\n",
    "<img src=\"pictures/circuit2.png\">\n",
    "\n",
    "Express the output voltage $v_{\\mathrm{out}}$ as a function of the unit step function, and sketch the appropriate waveform."
   ]
  },
  {
   "cell_type": "markdown",
   "metadata": {
    "slideshow": {
     "slide_type": "notes"
    }
   },
   "source": [
    "<pre style=\"border: 2px solid blue\">\n",
    "\n",
    "\n",
    "\n",
    "\n",
    "\n",
    "\n",
    "\n",
    "\n",
    "\n",
    "\n",
    "\n",
    "\n",
    "\n",
    "\n",
    "\n",
    "</pre>"
   ]
  },
  {
   "cell_type": "markdown",
   "metadata": {
    "nbpresent": {
     "id": "334d0f56-b63e-438f-a534-3bb6742a19bd"
    },
    "slideshow": {
     "slide_type": "slide"
    }
   },
   "source": [
    "## Simple Signal Operations"
   ]
  },
  {
   "cell_type": "markdown",
   "metadata": {
    "nbpresent": {
     "id": "b6241a9f-f141-4309-8fd9-9943b644984f"
    },
    "slideshow": {
     "slide_type": "subslide"
    }
   },
   "source": [
    "### Amplitude Scaling\n",
    "\n",
    "Sketch $Au_0(t)$ and $-Au_0(t)$"
   ]
  },
  {
   "cell_type": "markdown",
   "metadata": {
    "slideshow": {
     "slide_type": "notes"
    }
   },
   "source": [
    "<pre style=\"border: 2px solid blue\">\n",
    "\n",
    "\n",
    "\n",
    "\n",
    "\n",
    "\n",
    "\n",
    "\n",
    "\n",
    "\n",
    "\n",
    "\n",
    "\n",
    "\n",
    "\n",
    "</pre>"
   ]
  },
  {
   "cell_type": "markdown",
   "metadata": {
    "nbpresent": {
     "id": "fad9ce2c-9bd6-4071-a4ce-a9b255fb7f55"
    },
    "slideshow": {
     "slide_type": "subslide"
    }
   },
   "source": [
    "### Time Reversal\n",
    "\n",
    "Sketch $u_0(-t)$"
   ]
  },
  {
   "cell_type": "markdown",
   "metadata": {
    "slideshow": {
     "slide_type": "notes"
    }
   },
   "source": [
    "<pre style=\"border: 2px solid blue\">\n",
    "\n",
    "\n",
    "\n",
    "\n",
    "\n",
    "\n",
    "\n",
    "\n",
    "\n",
    "\n",
    "\n",
    "\n",
    "\n",
    "\n",
    "\n",
    "</pre>"
   ]
  },
  {
   "cell_type": "markdown",
   "metadata": {
    "nbpresent": {
     "id": "c26ed76b-0ac8-43d8-995e-f1c320703261"
    },
    "slideshow": {
     "slide_type": "subslide"
    }
   },
   "source": [
    "### Time Delay and Advance\n",
    "\n",
    "Sketch $u_0(t-T)$ and $u_0(t+T)$"
   ]
  },
  {
   "cell_type": "markdown",
   "metadata": {
    "slideshow": {
     "slide_type": "notes"
    }
   },
   "source": [
    "<pre style=\"border: 2px solid blue\">\n",
    "\n",
    "\n",
    "\n",
    "\n",
    "\n",
    "\n",
    "\n",
    "\n",
    "\n",
    "\n",
    "\n",
    "\n",
    "\n",
    "\n",
    "\n",
    "</pre>"
   ]
  },
  {
   "cell_type": "markdown",
   "metadata": {
    "nbpresent": {
     "id": "c56706e7-fd36-425e-942d-59d9a5fb1dd6"
    },
    "slideshow": {
     "slide_type": "slide"
    }
   },
   "source": [
    "## Examples"
   ]
  },
  {
   "cell_type": "markdown",
   "metadata": {
    "nbpresent": {
     "id": "ab67d4be-666d-4196-b32e-237fbe27173f"
    },
    "slideshow": {
     "slide_type": "subslide"
    }
   },
   "source": [
    "### Example 1\n",
    "\n",
    "Which of these signals represents $-Au_0(t+T)$?\n",
    "\n",
    "<img src=\"pictures/stepf1.png\" width=\"50%\">"
   ]
  },
  {
   "cell_type": "markdown",
   "metadata": {
    "nbpresent": {
     "id": "278e87b9-39a5-46f6-8b84-dfb16b3b4e42"
    },
    "slideshow": {
     "slide_type": "fragment"
    }
   },
   "source": [
    "#### -> Open Poll"
   ]
  },
  {
   "cell_type": "markdown",
   "metadata": {
    "slideshow": {
     "slide_type": "subslide"
    }
   },
   "source": [
    "### Example 2\n",
    "\n",
    "What is represented by\n",
    "\n",
    "<img src=\"pictures/stepf2.png\" width=\"50%\">"
   ]
  },
  {
   "cell_type": "markdown",
   "metadata": {
    "slideshow": {
     "slide_type": "fragment"
    }
   },
   "source": [
    "#### -> Open Poll"
   ]
  },
  {
   "cell_type": "markdown",
   "metadata": {
    "slideshow": {
     "slide_type": "notes"
    }
   },
   "source": [
    "1. $-Au_0(t + T)$ \n",
    "2. $-Au_0(-t + T)$\n",
    "3. $-Au_0(-t - T)$\n",
    "4. $-Au_0(t-T)$"
   ]
  },
  {
   "cell_type": "markdown",
   "metadata": {
    "nbpresent": {
     "id": "617c14fc-9464-4e26-ba78-5d5a8adbbc51"
    },
    "slideshow": {
     "slide_type": "slide"
    }
   },
   "source": [
    "## Synthesis of Signals from Unit Step\n",
    "\n",
    "Unit step functions can be used to represent other time-varying functions such as rectangular pulses, square waves and triangular pulses."
   ]
  },
  {
   "cell_type": "markdown",
   "metadata": {
    "nbpresent": {
     "id": "cbeff033-4b86-4247-895a-d49c71278c1b"
    },
    "slideshow": {
     "slide_type": "subslide"
    }
   },
   "source": [
    "### Synthesize Rectangular Pulse\n",
    "\n",
    "<img src=\"pictures/rect.png\">"
   ]
  },
  {
   "cell_type": "markdown",
   "metadata": {
    "slideshow": {
     "slide_type": "notes"
    }
   },
   "source": [
    "<pre style=\"border: 2px solid blue\">\n",
    "\n",
    "\n",
    "\n",
    "\n",
    "\n",
    "</pre>"
   ]
  },
  {
   "cell_type": "markdown",
   "metadata": {
    "nbpresent": {
     "id": "b75690be-4fd8-46e0-b32b-85385484a23a"
    },
    "slideshow": {
     "slide_type": "subslide"
    }
   },
   "source": [
    "### Synthesize Square Wave\n",
    "\n",
    "<img src=\"pictures/square_wave.png\">"
   ]
  },
  {
   "cell_type": "markdown",
   "metadata": {
    "slideshow": {
     "slide_type": "notes"
    }
   },
   "source": [
    "<pre style=\"border: 2px solid blue\">\n",
    "\n",
    "\n",
    "\n",
    "\n",
    "\n",
    "\n",
    "\n",
    "\n",
    "\n",
    "\n",
    "\n",
    "\n",
    "\n",
    "</pre>"
   ]
  },
  {
   "cell_type": "markdown",
   "metadata": {
    "nbpresent": {
     "id": "f61e2ab0-18bc-420c-8d44-d17689b1bd4f"
    },
    "slideshow": {
     "slide_type": "subslide"
    }
   },
   "source": [
    "### Synthesize Symmetric Rectangular Pulse\n",
    "\n",
    "<img src=\"pictures/symm_rect.png\">"
   ]
  },
  {
   "cell_type": "markdown",
   "metadata": {
    "slideshow": {
     "slide_type": "notes"
    }
   },
   "source": [
    "<pre style=\"border: 2px solid blue\">\n",
    "\n",
    "\n",
    "\n",
    "\n",
    "\n",
    "\n",
    "\n",
    "\n",
    "\n",
    "\n",
    "\n",
    "\n",
    "\n",
    "</pre>"
   ]
  },
  {
   "cell_type": "markdown",
   "metadata": {
    "nbpresent": {
     "id": "5ca36428-99c5-438c-b654-700c6d6a5e81"
    },
    "slideshow": {
     "slide_type": "subslide"
    }
   },
   "source": [
    "### Synthesize Symmetric Triangular Pulse\n",
    "\n",
    "<img src=\"pictures/symm_tri.png\">"
   ]
  },
  {
   "cell_type": "markdown",
   "metadata": {
    "slideshow": {
     "slide_type": "notes"
    }
   },
   "source": [
    "<pre style=\"border: 2px solid blue\">\n",
    "\n",
    "\n",
    "\n",
    "\n",
    "\n",
    "\n",
    "\n",
    "\n",
    "\n",
    "\n",
    "\n",
    "\n",
    "\n",
    "</pre>"
   ]
  },
  {
   "cell_type": "markdown",
   "metadata": {
    "nbpresent": {
     "id": "66b0d2c5-971c-42ae-960c-7490fa4ed9b1"
    },
    "slideshow": {
     "slide_type": "slide"
    }
   },
   "source": [
    "## The Ramp Function\n",
    "\n",
    "<img src=\"pictures/rc.png\">\n",
    "\n",
    "In the circuit shown above $i_s$ is a constant current source and the switch is closed at time $t=0$. "
   ]
  },
  {
   "cell_type": "markdown",
   "metadata": {
    "slideshow": {
     "slide_type": "subslide"
    }
   },
   "source": [
    "Show that the voltage across the capacitor can be represented as\n",
    "\n",
    "$$v_C(t)=\\frac{i_s}{C}t u_0(t)$$ \n",
    "\n",
    "and sketch the wave form."
   ]
  },
  {
   "cell_type": "markdown",
   "metadata": {
    "slideshow": {
     "slide_type": "notes"
    }
   },
   "source": [
    "<pre style=\"border: 2px solid blue\">\n",
    "\n",
    "\n",
    "\n",
    "\n",
    "\n",
    "\n",
    "\n",
    "\n",
    "\n",
    "\n",
    "\n",
    "\n",
    "\n",
    "\n",
    "\n",
    "\n",
    "\n",
    "\n",
    "\n",
    "\n",
    "\n",
    "\n",
    "\n",
    "\n",
    "\n",
    "</pre>"
   ]
  },
  {
   "cell_type": "markdown",
   "metadata": {
    "nbpresent": {
     "id": "913c558c-881e-4816-9089-9ca760cde814"
    },
    "slideshow": {
     "slide_type": "subslide"
    }
   },
   "source": [
    "The unit ramp function is defined as\n",
    "\n",
    "$$u_1(t) = \\int_{-\\infty}^{t}u_0(\\tau)d\\tau$$\n",
    "\n",
    "so\n",
    "\n",
    "$${u_1}(t) = \\left\\{ {\\begin{array}{*{20}{c}}\n",
    "{0\\quad t < 0}\\\\\n",
    "{t\\quad t \\ge 0}\n",
    "\\end{array}} \\right.$$\n",
    "\n",
    "and \n",
    "\n",
    "$$u_0(t) = \\frac{d }{dt}u_1(t)$$"
   ]
  },
  {
   "cell_type": "markdown",
   "metadata": {
    "nbpresent": {
     "id": "9dabcc8a-ec92-4ccb-bce7-8500e1285eae"
    },
    "slideshow": {
     "slide_type": "notes"
    }
   },
   "source": [
    "### Note\n",
    "\n",
    "Higher order functions of $t$ can be generated by the repeated integration of the unit step function. \n",
    "\n",
    "For future reference, you should determine $u_2(t)$, $u_3(t)$ and $u_n(t)$ for yourself and make a note of the general rule:\n",
    "\n",
    "$$u_{n-1} = \\frac{1}{n}\\frac{d}{dt}u_n(t)$$\n",
    "\n",
    "Details are given in equations 1.26&mdash;1.29 in the textbook."
   ]
  },
  {
   "cell_type": "markdown",
   "metadata": {
    "nbpresent": {
     "id": "e435cb27-7273-47e0-b655-46046e7519b4"
    },
    "slideshow": {
     "slide_type": "slide"
    }
   },
   "source": [
    "## The Dirac Delta Function\n",
    "\n",
    "<img src=\"pictures/lr.png\">\n",
    "\n",
    "In the circuit shown above, the switch is closed at time $t=0$ and $i_L(t)=0$ for $t<0$. Express the inductor current $i_L(t)$ in terms of the unit step function and hence derive an expression for $v_L(t)$."
   ]
  },
  {
   "cell_type": "markdown",
   "metadata": {
    "slideshow": {
     "slide_type": "notes"
    }
   },
   "source": [
    "<pre style=\"border: 2px solid blue\">\n",
    "\n",
    "\n",
    "\n",
    "\n",
    "\n",
    "\n",
    "\n",
    "\n",
    "\n",
    "\n",
    "\n",
    "\n",
    "\n",
    "</pre>"
   ]
  },
  {
   "cell_type": "markdown",
   "metadata": {
    "nbpresent": {
     "id": "689b86ff-1df2-41e0-8e9f-a1efd65d800d"
    },
    "slideshow": {
     "slide_type": "notes"
    }
   },
   "source": [
    "### Notes\n",
    "\n",
    "To solve this problem we need to invent a function that represents the derivative of the unit step function. This function is called $\\delta(t)$ or the *dirac delta* function (named after [Paul Dirac](http://en.wikipedia.org/wiki/Paul_Dirac))."
   ]
  },
  {
   "cell_type": "markdown",
   "metadata": {
    "nbpresent": {
     "id": "ecc0faa5-a814-4086-a3c1-f0a42bbdb382"
    },
    "slideshow": {
     "slide_type": "subslide"
    }
   },
   "source": [
    "### The delta function\n",
    "\n",
    "The unit impulse or the delta function, denoted as $\\delta(t)$, is the derivative of the unit step.\n",
    "\n",
    "This function is tricky because $u_0(t)$ is discontinuous at $t=0$ but it must have the properties\n",
    "\n",
    "$$\\int_{-\\infty}^{t}\\delta(\\tau)d\\tau = u_0(t)$$\n",
    "\n",
    "and\n",
    "\n",
    "$\\delta(t) = 0$ for all $t\\ne 0$."
   ]
  },
  {
   "cell_type": "markdown",
   "metadata": {
    "nbpresent": {
     "id": "35bb56a4-7887-4823-b8cb-19bbf3bf34fb"
    },
    "slideshow": {
     "slide_type": "subslide"
    }
   },
   "source": [
    "### Sketch of the delta function\n",
    "\n",
    "![The delta function](pictures/impulse.png)"
   ]
  },
  {
   "cell_type": "markdown",
   "metadata": {
    "nbpresent": {
     "id": "b6287b02-4c0b-45d3-bbdd-50be74f53228"
    },
    "slideshow": {
     "slide_type": "slide"
    }
   },
   "source": [
    "## Important properties of the delta function"
   ]
  },
  {
   "cell_type": "markdown",
   "metadata": {
    "nbpresent": {
     "id": "cec89a87-ec7d-48a6-995d-b38708d232cf"
    },
    "slideshow": {
     "slide_type": "subslide"
    }
   },
   "source": [
    "### Sampling Property\n",
    "\n",
    "The *sampling property* of the delta function states that\n",
    "\n",
    "$$f(t)\\delta(t-a) = f(a)\\delta(t-a)$$\n",
    "\n",
    "or, when $a = 0$,\n",
    "\n",
    "$$f(t)\\delta(t) = f(0)\\delta(t)$$"
   ]
  },
  {
   "cell_type": "markdown",
   "metadata": {
    "slideshow": {
     "slide_type": "notes"
    }
   },
   "source": [
    "Multiplication of any function $f(t)$ by the delta function $\\delta(t)$ results in sampling the function at the time instants for which the delta function is not zero.\n",
    "\n",
    "The study of descrete-time (sampled) systems is based on this property.\n",
    "\n",
    "*You should work through the proof* for youself."
   ]
  },
  {
   "cell_type": "markdown",
   "metadata": {
    "nbpresent": {
     "id": "53e3c220-4c5b-4c0e-91d8-aeb85dab3d2d"
    },
    "slideshow": {
     "slide_type": "subslide"
    }
   },
   "source": [
    "### Sifting Property\n",
    "\n",
    "The *sifting property* of the delta function states that\n",
    "\n",
    "$$\\int_{-\\infty}^{\\infty}f(t)\\delta(t-\\alpha)dt=f(\\alpha)$$"
   ]
  },
  {
   "cell_type": "markdown",
   "metadata": {
    "slideshow": {
     "slide_type": "notes"
    }
   },
   "source": [
    "That is, if multiply any function $f(t)$ by $\\delta(t-\\alpha)$, and integrate from $-\\infty$ to $+\\infty$, we will get the value of $f(t)$ evaluated at $t=\\alpha.$\n",
    "\n",
    "*You should also work through the proof* for yourself."
   ]
  },
  {
   "cell_type": "markdown",
   "metadata": {
    "nbpresent": {
     "id": "946eaa0a-9cbf-4da5-a76c-02a92322544f"
    },
    "slideshow": {
     "slide_type": "subslide"
    }
   },
   "source": [
    "### Higher Order Delta Fuctions\n",
    "\n",
    "the n*th*-order *delta function* is defined as the n*th* derivative of $u_0(t)$, that is\n",
    "\n",
    "$$\\delta^n(t)=\\frac{d^n}{dt^n}[u_0(t)]$$\n",
    "\n",
    "The function $\\delta'(t)$ is called the *doublet*, $\\delta''(t)$ is called the *triplet* and so on."
   ]
  },
  {
   "cell_type": "markdown",
   "metadata": {
    "nbpresent": {
     "id": "330e1e0f-5911-4976-b153-3cabb69cd7c5"
    },
    "slideshow": {
     "slide_type": "subslide"
    }
   },
   "source": [
    "By a procedure similar to the derivation of the sampling property we can show that\n",
    "\n",
    "$$f(t)\\delta'(t-a)=f(a)\\delta'(t-a)-f'(t)\\delta(t-a)$$\n",
    "\n"
   ]
  },
  {
   "cell_type": "markdown",
   "metadata": {
    "nbpresent": {
     "id": "2e2ca259-83a5-4cb9-9a1c-07c778dbc6e2"
    },
    "slideshow": {
     "slide_type": "subslide"
    }
   },
   "source": [
    "Also, derivation of the sifting property can be extended to show that\n",
    "\n",
    "$$\\int_{-\\infty}^{\\infty}f(t)\\delta^n(t-\\alpha)dt = {\\left. {{{( - 1)}^n}\\frac{{{d^n}}}{{d{t^n}}}[f(t)]} \\right|_{t = \\alpha }}$$"
   ]
  },
  {
   "cell_type": "markdown",
   "metadata": {
    "nbpresent": {
     "id": "0c8f858b-481d-4207-bf09-ae65656aa990"
    },
    "slideshow": {
     "slide_type": "slide"
    }
   },
   "source": [
    "## Examples"
   ]
  },
  {
   "cell_type": "markdown",
   "metadata": {
    "nbpresent": {
     "id": "43f432a9-0de0-48d8-968a-6d457a02f131"
    },
    "slideshow": {
     "slide_type": "subslide"
    }
   },
   "source": [
    "### Example 3\n",
    "\n",
    "Evaluate the following expressions"
   ]
  },
  {
   "cell_type": "markdown",
   "metadata": {
    "slideshow": {
     "slide_type": "fragment"
    }
   },
   "source": [
    "$$3t^4\\delta(t-1) $$"
   ]
  },
  {
   "cell_type": "markdown",
   "metadata": {
    "slideshow": {
     "slide_type": "notes"
    }
   },
   "source": [
    "<pre style=\"border: 2px solid blue\">\n",
    "\n",
    "\n",
    "\n",
    "\n",
    "\n",
    "\n",
    "\n",
    "\n",
    "\n",
    "\n",
    "\n",
    "\n",
    "\n",
    "</pre></li>"
   ]
  },
  {
   "cell_type": "markdown",
   "metadata": {
    "slideshow": {
     "slide_type": "fragment"
    }
   },
   "source": [
    "$$\\int_{-\\infty}^{\\infty}t\\delta(t-2)dt$$ "
   ]
  },
  {
   "cell_type": "markdown",
   "metadata": {
    "slideshow": {
     "slide_type": "notes"
    }
   },
   "source": [
    "<pre style=\"border: 2px solid blue\">\n",
    "\n",
    "\n",
    "\n",
    "\n",
    "\n",
    "\n",
    "\n",
    "\n",
    "\n",
    "\n",
    "\n",
    "\n",
    "\n",
    "</pre></li>"
   ]
  },
  {
   "cell_type": "markdown",
   "metadata": {
    "slideshow": {
     "slide_type": "fragment"
    }
   },
   "source": [
    "$$t^2\\delta'(t-3)$$ "
   ]
  },
  {
   "cell_type": "markdown",
   "metadata": {
    "slideshow": {
     "slide_type": "notes"
    }
   },
   "source": [
    "<pre style=\"border: 2px solid blue\">\n",
    "\n",
    "\n",
    "\n",
    "\n",
    "\n",
    "\n",
    "\n",
    "\n",
    "\n",
    "\n",
    "\n",
    "\n",
    "\n",
    "</pre></li>\n",
    "</ol>\n",
    "   \n",
    "   "
   ]
  },
  {
   "cell_type": "markdown",
   "metadata": {
    "nbpresent": {
     "id": "4f38c72e-d8c7-42c6-ab79-639ef734edf2"
    },
    "slideshow": {
     "slide_type": "subslide"
    }
   },
   "source": [
    "### Example 4\n",
    "\n",
    "<img src=\"pictures/example2.png\">"
   ]
  },
  {
   "cell_type": "markdown",
   "metadata": {
    "slideshow": {
     "slide_type": "subslide"
    }
   },
   "source": [
    "(1) Express the voltage waveform $v(t)$ shown above as a sum of unit step functions for the time interval $-1 < t < 7$ s"
   ]
  },
  {
   "cell_type": "markdown",
   "metadata": {
    "slideshow": {
     "slide_type": "notes"
    }
   },
   "source": [
    "<pre style=\"border: 2px solid blue\">\n",
    "\n",
    "\n",
    "\n",
    "\n",
    "\n",
    "\n",
    "\n",
    "\n",
    "\n",
    "\n",
    "\n",
    "\n",
    "\n",
    "</pre></li>"
   ]
  },
  {
   "cell_type": "markdown",
   "metadata": {
    "slideshow": {
     "slide_type": "subslide"
    }
   },
   "source": [
    "Using the result of part (1), compute the derivative of $v(t)$ and sketch its waveform."
   ]
  },
  {
   "cell_type": "markdown",
   "metadata": {
    "slideshow": {
     "slide_type": "notes"
    }
   },
   "source": [
    "<pre style=\"border: 2px solid blue\">\n",
    "\n",
    "\n",
    "\n",
    "\n",
    "\n",
    "\n",
    "\n",
    "\n",
    "\n",
    "\n",
    "\n",
    "\n",
    "\n",
    "</pre></li>\n",
    "</ol>"
   ]
  },
  {
   "cell_type": "markdown",
   "metadata": {
    "nbpresent": {
     "id": "7cfc2902-efb1-4a88-9050-b10252cd5145"
    },
    "slideshow": {
     "slide_type": "slide"
    }
   },
   "source": [
    "## Lab Work\n",
    "\n",
    "In the second lab, a week on Monday, we will solve Example 2 using Matlab/Simulink following the procedure given between pages 1-17 and 1-22 of the textbook. We will also explore the `heaviside` and `dirac` functions."
   ]
  },
  {
   "cell_type": "markdown",
   "metadata": {
    "nbpresent": {
     "id": "65c4008b-0462-49ca-80e4-638c7f87d63c"
    },
    "slideshow": {
     "slide_type": "notes"
    }
   },
   "source": [
    "## Answers to in-class questions\n",
    "\n",
    "Mathematically\n",
    "\n",
    "Q1. $v_{\\mathrm{out}} = 0$ when $-\\infty < t < 0$ (answer 2)\n",
    "\n",
    "Q2. $v_{\\mathrm{out}} = V_s$ when $0 < t < \\infty$ (answer 3)\n",
    "\n",
    "Q3. $v_{\\mathrm{out}} = \\mathrm{undefined}$ when $t=0$ (answer 1)\n",
    "\n",
    "$V_{\\mathrm{out}}$ jumps from $0$ to $V_s$ instantanously when the switch is closed. We call this a discontinuous signal!\n",
    "\n",
    "Q4: The correct image is:\n",
    "\n",
    "<img src=\"pictures/step2.png\">"
   ]
  }
 ],
 "metadata": {
  "anaconda-cloud": {},
  "celltoolbar": "Slideshow",
  "kernelspec": {
   "display_name": "Matlab",
   "language": "matlab",
   "name": "matlab"
  },
  "language_info": {
   "codemirror_mode": "octave",
   "file_extension": ".m",
   "help_links": [
    {
     "text": "MetaKernel Magics",
     "url": "https://github.com/calysto/metakernel/blob/master/metakernel/magics/README.md"
    }
   ],
   "mimetype": "text/x-octave",
   "name": "matlab",
   "version": "0.15.0"
  },
  "nbpresent": {
   "slides": {
    "041750fc-6ff8-4e8b-8c2a-114c2e7abb97": {
     "id": "041750fc-6ff8-4e8b-8c2a-114c2e7abb97",
     "prev": "db879dc9-7319-40c3-a9b3-9a58de261320",
     "regions": {
      "ec913a8f-0622-429f-92c6-5eaf606a24b0": {
       "attrs": {
        "height": 0.8,
        "width": 0.8,
        "x": 0.1,
        "y": 0.1
       },
       "content": {
        "cell": "cbeff033-4b86-4247-895a-d49c71278c1b",
        "part": "whole"
       },
       "id": "ec913a8f-0622-429f-92c6-5eaf606a24b0"
      }
     }
    },
    "0d089a98-d47a-457a-973d-bfaae5447362": {
     "id": "0d089a98-d47a-457a-973d-bfaae5447362",
     "prev": "dea73af5-c6cf-452c-a685-7491e997d480",
     "regions": {
      "c1c93ebc-63a5-4203-a686-aac97dd98fd5": {
       "attrs": {
        "height": 0.8,
        "width": 0.8,
        "x": 0.1,
        "y": 0.1
       },
       "content": {
        "cell": "53e3c220-4c5b-4c0e-91d8-aeb85dab3d2d",
        "part": "whole"
       },
       "id": "c1c93ebc-63a5-4203-a686-aac97dd98fd5"
      }
     }
    },
    "16557b85-9659-46cd-a7ae-9ad34a3c479d": {
     "id": "16557b85-9659-46cd-a7ae-9ad34a3c479d",
     "prev": "79ec8e9a-9bfb-444f-9247-53b1d29b8d1a",
     "regions": {
      "33cdc881-e32b-4c28-9e87-4c9eb0979c8d": {
       "attrs": {
        "height": 0.8,
        "width": 0.8,
        "x": 0.1,
        "y": 0.1
       },
       "content": {
        "cell": "07fc0cb3-3db3-4699-b206-c601b678a2f6",
        "part": "whole"
       },
       "id": "33cdc881-e32b-4c28-9e87-4c9eb0979c8d"
      }
     }
    },
    "18c9b2ff-5e58-4e22-9993-d8bcc40df5bc": {
     "id": "18c9b2ff-5e58-4e22-9993-d8bcc40df5bc",
     "prev": "dc3ee19e-74b3-43ec-9f59-72faddf17ce5",
     "regions": {
      "99184876-8865-4b8b-b76a-87eb61d4b089": {
       "attrs": {
        "height": 0.8,
        "width": 0.8,
        "x": 0.1,
        "y": 0.1
       },
       "content": {
        "cell": "278e87b9-39a5-46f6-8b84-dfb16b3b4e42",
        "part": "whole"
       },
       "id": "99184876-8865-4b8b-b76a-87eb61d4b089"
      }
     }
    },
    "1afaac4b-0e6c-4f90-a29a-2a911e46bf05": {
     "id": "1afaac4b-0e6c-4f90-a29a-2a911e46bf05",
     "prev": "48a16c72-01cd-441d-a1d2-fd1225db7299",
     "regions": {
      "13033a02-1503-4c8d-af84-2276d7a1445b": {
       "attrs": {
        "height": 0.8,
        "width": 0.8,
        "x": 0.1,
        "y": 0.1
       },
       "content": {
        "cell": "334d0f56-b63e-438f-a534-3bb6742a19bd",
        "part": "whole"
       },
       "id": "13033a02-1503-4c8d-af84-2276d7a1445b"
      }
     }
    },
    "209c7553-7eac-4845-8987-415c662706f8": {
     "id": "209c7553-7eac-4845-8987-415c662706f8",
     "prev": "1afaac4b-0e6c-4f90-a29a-2a911e46bf05",
     "regions": {
      "0011565b-7644-47a6-9c4b-cd2063eb8257": {
       "attrs": {
        "height": 0.8,
        "width": 0.8,
        "x": 0.1,
        "y": 0.1
       },
       "content": {
        "cell": "b6241a9f-f141-4309-8fd9-9943b644984f",
        "part": "whole"
       },
       "id": "0011565b-7644-47a6-9c4b-cd2063eb8257"
      }
     }
    },
    "48a16c72-01cd-441d-a1d2-fd1225db7299": {
     "id": "48a16c72-01cd-441d-a1d2-fd1225db7299",
     "prev": "f87d77fb-3419-4624-859f-0246e9094c32",
     "regions": {
      "5ac19822-a2e0-4ab2-9f92-61546526012c": {
       "attrs": {
        "height": 0.8,
        "width": 0.8,
        "x": 0.1,
        "y": 0.1
       },
       "content": {
        "cell": "c075009d-ecf8-4de2-8dc5-d9ced01c40a8",
        "part": "whole"
       },
       "id": "5ac19822-a2e0-4ab2-9f92-61546526012c"
      }
     }
    },
    "52d5d060-ed18-4b01-bb58-ff2b09575c7b": {
     "id": "52d5d060-ed18-4b01-bb58-ff2b09575c7b",
     "prev": "041750fc-6ff8-4e8b-8c2a-114c2e7abb97",
     "regions": {
      "e89b407d-47e9-4cfb-b1f2-8f0becf17179": {
       "attrs": {
        "height": 0.8,
        "width": 0.8,
        "x": 0.1,
        "y": 0.1
       },
       "content": {
        "cell": "b75690be-4fd8-46e0-b32b-85385484a23a",
        "part": "whole"
       },
       "id": "e89b407d-47e9-4cfb-b1f2-8f0becf17179"
      }
     }
    },
    "5a51d341-d7c8-49ff-800a-92dfe2099407": {
     "id": "5a51d341-d7c8-49ff-800a-92dfe2099407",
     "prev": "52d5d060-ed18-4b01-bb58-ff2b09575c7b",
     "regions": {
      "b2e78813-3af9-4aec-8c9b-584cf7fb9a43": {
       "attrs": {
        "height": 0.8,
        "width": 0.8,
        "x": 0.1,
        "y": 0.1
       },
       "content": {
        "cell": "f61e2ab0-18bc-420c-8d44-d17689b1bd4f",
        "part": "whole"
       },
       "id": "b2e78813-3af9-4aec-8c9b-584cf7fb9a43"
      }
     }
    },
    "5e98153c-3b32-449f-9572-e5f3246f243e": {
     "id": "5e98153c-3b32-449f-9572-e5f3246f243e",
     "prev": "f4959c0b-eb25-4e99-8105-f94c2f430b65",
     "regions": {
      "1d3a417a-a34e-4f81-b87d-7615a1d4d7fd": {
       "attrs": {
        "height": 0.8,
        "width": 0.8,
        "x": 0.1,
        "y": 0.1
       },
       "content": {
        "cell": "f2107419-f6c6-40cb-af01-5679bcd12847",
        "part": "whole"
       },
       "id": "1d3a417a-a34e-4f81-b87d-7615a1d4d7fd"
      }
     }
    },
    "649ccafe-1089-4d27-8ba1-499cad899506": {
     "id": "649ccafe-1089-4d27-8ba1-499cad899506",
     "prev": "209c7553-7eac-4845-8987-415c662706f8",
     "regions": {
      "bffe43e7-14ea-4ed8-b586-1ca8a8767c27": {
       "attrs": {
        "height": 0.8,
        "width": 0.8,
        "x": 0.1,
        "y": 0.1
       },
       "content": {
        "cell": "fad9ce2c-9bd6-4071-a4ce-a9b255fb7f55",
        "part": "whole"
       },
       "id": "bffe43e7-14ea-4ed8-b586-1ca8a8767c27"
      }
     }
    },
    "79ec8e9a-9bfb-444f-9247-53b1d29b8d1a": {
     "id": "79ec8e9a-9bfb-444f-9247-53b1d29b8d1a",
     "prev": "bccdb238-4ebe-4217-8a86-eacfefbcb8bf",
     "regions": {
      "eaaf691d-3205-425b-a827-cea3af6ccaea": {
       "attrs": {
        "height": 0.8,
        "width": 0.8,
        "x": 0.1,
        "y": 0.1
       },
       "content": {
        "cell": "15eb5d2c-a1d8-4b7f-becc-b64277ad2834",
        "part": "whole"
       },
       "id": "eaaf691d-3205-425b-a827-cea3af6ccaea"
      }
     }
    },
    "8818c2dc-59a5-4dc2-82a2-e297820529d6": {
     "id": "8818c2dc-59a5-4dc2-82a2-e297820529d6",
     "prev": "ea5c265c-6c4f-4702-8c87-3e52202cb2b9",
     "regions": {
      "92348a80-0858-40a5-b3e8-5b3c81eccb3e": {
       "attrs": {
        "height": 0.8,
        "width": 0.8,
        "x": 0.1,
        "y": 0.1
       },
       "content": {
        "cell": "c56706e7-fd36-425e-942d-59d9a5fb1dd6",
        "part": "whole"
       },
       "id": "92348a80-0858-40a5-b3e8-5b3c81eccb3e"
      }
     }
    },
    "95b9cf76-893e-40f8-88d9-e1bf35a64325": {
     "id": "95b9cf76-893e-40f8-88d9-e1bf35a64325",
     "prev": "16557b85-9659-46cd-a7ae-9ad34a3c479d",
     "regions": {
      "dda6dce6-772c-42fa-9378-ddb505b6d179": {
       "attrs": {
        "height": 0.8,
        "width": 0.8,
        "x": 0.1,
        "y": 0.1
       },
       "content": {
        "cell": "d2785f35-d64a-43b7-8a83-4554afb14ecc",
        "part": "whole"
       },
       "id": "dda6dce6-772c-42fa-9378-ddb505b6d179"
      }
     }
    },
    "a02395d2-dcf7-429c-84d3-99738d6763e1": {
     "id": "a02395d2-dcf7-429c-84d3-99738d6763e1",
     "prev": "0d089a98-d47a-457a-973d-bfaae5447362",
     "regions": {
      "4860556e-81f2-4bd3-b7ff-4cfc06fe2598": {
       "attrs": {
        "height": 0.8,
        "width": 0.8,
        "x": 0.1,
        "y": 0.1
       },
       "content": {
        "cell": "946eaa0a-9cbf-4da5-a76c-02a92322544f",
        "part": "whole"
       },
       "id": "4860556e-81f2-4bd3-b7ff-4cfc06fe2598"
      }
     }
    },
    "aca8a3f4-060d-476d-9ecd-54abc762e506": {
     "id": "aca8a3f4-060d-476d-9ecd-54abc762e506",
     "prev": "5a51d341-d7c8-49ff-800a-92dfe2099407",
     "regions": {
      "623b24ff-faa4-4ba5-a4cf-8da20e28f9e2": {
       "attrs": {
        "height": 0.8,
        "width": 0.8,
        "x": 0.1,
        "y": 0.1
       },
       "content": {
        "cell": "5ca36428-99c5-438c-b654-700c6d6a5e81",
        "part": "whole"
       },
       "id": "623b24ff-faa4-4ba5-a4cf-8da20e28f9e2"
      }
     }
    },
    "b194563e-f786-4238-97ab-ba598a60f608": {
     "id": "b194563e-f786-4238-97ab-ba598a60f608",
     "prev": "a02395d2-dcf7-429c-84d3-99738d6763e1",
     "regions": {
      "318d5266-0676-4dee-b4b8-04217f8e1e69": {
       "attrs": {
        "height": 0.8,
        "width": 0.8,
        "x": 0.1,
        "y": 0.1
       },
       "content": {
        "cell": "330e1e0f-5911-4976-b153-3cabb69cd7c5",
        "part": "whole"
       },
       "id": "318d5266-0676-4dee-b4b8-04217f8e1e69"
      }
     }
    },
    "b6647fbe-c642-4d0c-ab79-852b04c895c3": {
     "id": "b6647fbe-c642-4d0c-ab79-852b04c895c3",
     "prev": null,
     "regions": {
      "1b9f4d5d-078f-4030-9862-8fb581330d50": {
       "attrs": {
        "height": 0.8,
        "width": 0.8,
        "x": 0.1,
        "y": 0.1
       },
       "content": {
        "cell": "620fa785-6e69-4039-86e9-2cf57bedac85",
        "part": "whole"
       },
       "id": "1b9f4d5d-078f-4030-9862-8fb581330d50"
      }
     }
    },
    "bc699a12-42ea-4750-86a6-96e20aa5eb26": {
     "id": "bc699a12-42ea-4750-86a6-96e20aa5eb26",
     "prev": "b6647fbe-c642-4d0c-ab79-852b04c895c3",
     "regions": {
      "0073e462-f7da-4c39-8051-bdecd8809587": {
       "attrs": {
        "height": 0.8,
        "width": 0.8,
        "x": 0.1,
        "y": 0.1
       },
       "content": {
        "cell": "522d6983-9204-4699-8fa4-9954faaa02f6",
        "part": "whole"
       },
       "id": "0073e462-f7da-4c39-8051-bdecd8809587"
      }
     }
    },
    "bccdb238-4ebe-4217-8a86-eacfefbcb8bf": {
     "id": "bccdb238-4ebe-4217-8a86-eacfefbcb8bf",
     "prev": "5e98153c-3b32-449f-9572-e5f3246f243e",
     "regions": {
      "aa3ec5bb-d315-4a0e-ad37-95fe60663c8d": {
       "attrs": {
        "height": 0.8,
        "width": 0.8,
        "x": 0.1,
        "y": 0.1
       },
       "content": {
        "cell": "666ee0a9-1b16-41af-8bd7-3c9bcf893ba7",
        "part": "whole"
       },
       "id": "aa3ec5bb-d315-4a0e-ad37-95fe60663c8d"
      }
     }
    },
    "bfc2c969-69d8-424c-8082-aee1aa4a3a6c": {
     "id": "bfc2c969-69d8-424c-8082-aee1aa4a3a6c",
     "prev": "e2f4291d-d6fd-42e0-8059-48bf06cb8c42",
     "regions": {
      "b868155f-7971-4107-9336-4406f0a299f4": {
       "attrs": {
        "height": 0.8,
        "width": 0.8,
        "x": 0.1,
        "y": 0.1
       },
       "content": {
        "cell": "913c558c-881e-4816-9089-9ca760cde814",
        "part": "whole"
       },
       "id": "b868155f-7971-4107-9336-4406f0a299f4"
      }
     }
    },
    "c135cf0a-b1cf-4fed-a946-82d5078ab3f9": {
     "id": "c135cf0a-b1cf-4fed-a946-82d5078ab3f9",
     "prev": "c141034f-1964-4d6f-a4dc-26f9867f43f4",
     "regions": {
      "1d76f590-ea00-43c9-bb45-b8c4ba68389e": {
       "attrs": {
        "height": 0.8,
        "width": 0.8,
        "x": 0.1,
        "y": 0.1
       },
       "content": {
        "cell": "7cfc2902-efb1-4a88-9050-b10252cd5145",
        "part": "whole"
       },
       "id": "1d76f590-ea00-43c9-bb45-b8c4ba68389e"
      }
     }
    },
    "c141034f-1964-4d6f-a4dc-26f9867f43f4": {
     "id": "c141034f-1964-4d6f-a4dc-26f9867f43f4",
     "prev": "eac45ccd-184a-4959-b303-af596867092a",
     "regions": {
      "8d4b922e-a91a-4559-acc3-6f095005eca3": {
       "attrs": {
        "height": 0.8,
        "width": 0.8,
        "x": 0.1,
        "y": 0.1
       },
       "content": {
        "cell": "4f38c72e-d8c7-42c6-ab79-639ef734edf2",
        "part": "whole"
       },
       "id": "8d4b922e-a91a-4559-acc3-6f095005eca3"
      }
     }
    },
    "d475e028-37f2-4496-8fdf-8e9e11939653": {
     "id": "d475e028-37f2-4496-8fdf-8e9e11939653",
     "prev": "d948754e-c691-4067-a9da-54d83929a359",
     "regions": {
      "b7520720-1685-4d92-bc7f-c151a64b0e06": {
       "attrs": {
        "height": 0.8,
        "width": 0.8,
        "x": 0.1,
        "y": 0.1
       },
       "content": {
        "cell": "35bb56a4-7887-4823-b8cb-19bbf3bf34fb",
        "part": "whole"
       },
       "id": "b7520720-1685-4d92-bc7f-c151a64b0e06"
      }
     }
    },
    "d948754e-c691-4067-a9da-54d83929a359": {
     "id": "d948754e-c691-4067-a9da-54d83929a359",
     "prev": "ef5fb932-be3d-4eab-9737-e049146b12e9",
     "regions": {
      "3e193d05-4e73-4852-b068-c05494ed6f67": {
       "attrs": {
        "height": 0.8,
        "width": 0.8,
        "x": 0.1,
        "y": 0.1
       },
       "content": {
        "cell": "ecc0faa5-a814-4086-a3c1-f0a42bbdb382",
        "part": "whole"
       },
       "id": "3e193d05-4e73-4852-b068-c05494ed6f67"
      }
     }
    },
    "db879dc9-7319-40c3-a9b3-9a58de261320": {
     "id": "db879dc9-7319-40c3-a9b3-9a58de261320",
     "prev": "18c9b2ff-5e58-4e22-9993-d8bcc40df5bc",
     "regions": {
      "75cd3219-d0b8-414e-90aa-261f92fa099b": {
       "attrs": {
        "height": 0.8,
        "width": 0.8,
        "x": 0.1,
        "y": 0.1
       },
       "content": {
        "cell": "617c14fc-9464-4e26-ba78-5d5a8adbbc51",
        "part": "whole"
       },
       "id": "75cd3219-d0b8-414e-90aa-261f92fa099b"
      }
     }
    },
    "dc3ee19e-74b3-43ec-9f59-72faddf17ce5": {
     "id": "dc3ee19e-74b3-43ec-9f59-72faddf17ce5",
     "prev": "8818c2dc-59a5-4dc2-82a2-e297820529d6",
     "regions": {
      "c248f2a6-864f-4829-9e5b-331e6cf44984": {
       "attrs": {
        "height": 0.8,
        "width": 0.8,
        "x": 0.1,
        "y": 0.1
       },
       "content": {
        "cell": "ab67d4be-666d-4196-b32e-237fbe27173f",
        "part": "whole"
       },
       "id": "c248f2a6-864f-4829-9e5b-331e6cf44984"
      }
     }
    },
    "dea73af5-c6cf-452c-a685-7491e997d480": {
     "id": "dea73af5-c6cf-452c-a685-7491e997d480",
     "prev": "e23819da-6e7a-4282-ad4e-cc64339c646a",
     "regions": {
      "9f0fd219-290d-4111-9074-185d1558c74c": {
       "attrs": {
        "height": 0.8,
        "width": 0.8,
        "x": 0.1,
        "y": 0.1
       },
       "content": {
        "cell": "cec89a87-ec7d-48a6-995d-b38708d232cf",
        "part": "whole"
       },
       "id": "9f0fd219-290d-4111-9074-185d1558c74c"
      }
     }
    },
    "e23819da-6e7a-4282-ad4e-cc64339c646a": {
     "id": "e23819da-6e7a-4282-ad4e-cc64339c646a",
     "prev": "d475e028-37f2-4496-8fdf-8e9e11939653",
     "regions": {
      "e6425e18-b3c4-484e-8214-cf51ef4bfcf2": {
       "attrs": {
        "height": 0.8,
        "width": 0.8,
        "x": 0.1,
        "y": 0.1
       },
       "content": {
        "cell": "b6287b02-4c0b-45d3-bbdd-50be74f53228",
        "part": "whole"
       },
       "id": "e6425e18-b3c4-484e-8214-cf51ef4bfcf2"
      }
     }
    },
    "e2f4291d-d6fd-42e0-8059-48bf06cb8c42": {
     "id": "e2f4291d-d6fd-42e0-8059-48bf06cb8c42",
     "prev": "aca8a3f4-060d-476d-9ecd-54abc762e506",
     "regions": {
      "3131a67a-1979-4f79-a6e7-33a99dddf675": {
       "attrs": {
        "height": 0.8,
        "width": 0.8,
        "x": 0.1,
        "y": 0.1
       },
       "content": {
        "cell": "66b0d2c5-971c-42ae-960c-7490fa4ed9b1",
        "part": "whole"
       },
       "id": "3131a67a-1979-4f79-a6e7-33a99dddf675"
      }
     }
    },
    "ea5c265c-6c4f-4702-8c87-3e52202cb2b9": {
     "id": "ea5c265c-6c4f-4702-8c87-3e52202cb2b9",
     "prev": "649ccafe-1089-4d27-8ba1-499cad899506",
     "regions": {
      "f156a575-2213-4a69-a88e-1d9e3f74e477": {
       "attrs": {
        "height": 0.8,
        "width": 0.8,
        "x": 0.1,
        "y": 0.1
       },
       "content": {
        "cell": "c26ed76b-0ac8-43d8-995e-f1c320703261",
        "part": "whole"
       },
       "id": "f156a575-2213-4a69-a88e-1d9e3f74e477"
      }
     }
    },
    "eac45ccd-184a-4959-b303-af596867092a": {
     "id": "eac45ccd-184a-4959-b303-af596867092a",
     "prev": "f2d8cbe4-ab35-446a-b6aa-9d9e3d9e963d",
     "regions": {
      "836fb5fe-5f47-4255-9819-c5d505cc4b28": {
       "attrs": {
        "height": 0.8,
        "width": 0.8,
        "x": 0.1,
        "y": 0.1
       },
       "content": {
        "cell": "43f432a9-0de0-48d8-968a-6d457a02f131",
        "part": "whole"
       },
       "id": "836fb5fe-5f47-4255-9819-c5d505cc4b28"
      }
     }
    },
    "ebcbc2c3-a6a5-4163-98f0-debf9685c513": {
     "id": "ebcbc2c3-a6a5-4163-98f0-debf9685c513",
     "prev": "b194563e-f786-4238-97ab-ba598a60f608",
     "regions": {
      "a5f11fc3-7493-4c86-a864-3897dda48357": {
       "attrs": {
        "height": 0.8,
        "width": 0.8,
        "x": 0.1,
        "y": 0.1
       },
       "content": {
        "cell": "2e2ca259-83a5-4cb9-9a1c-07c778dbc6e2",
        "part": "whole"
       },
       "id": "a5f11fc3-7493-4c86-a864-3897dda48357"
      }
     }
    },
    "ef5fb932-be3d-4eab-9737-e049146b12e9": {
     "id": "ef5fb932-be3d-4eab-9737-e049146b12e9",
     "prev": "ef9db219-d365-4370-be0a-64fd8c4c0c34",
     "regions": {
      "ecdb5874-049f-4565-8b85-ae6f25417435": {
       "attrs": {
        "height": 0.8,
        "width": 0.8,
        "x": 0.1,
        "y": 0.1
       },
       "content": {
        "cell": "e435cb27-7273-47e0-b655-46046e7519b4",
        "part": "whole"
       },
       "id": "ecdb5874-049f-4565-8b85-ae6f25417435"
      }
     }
    },
    "ef9db219-d365-4370-be0a-64fd8c4c0c34": {
     "id": "ef9db219-d365-4370-be0a-64fd8c4c0c34",
     "prev": "bfc2c969-69d8-424c-8082-aee1aa4a3a6c",
     "regions": {
      "86c0b700-db00-4485-ac1f-e6fdbabd0e1b": {
       "attrs": {
        "height": 0.8,
        "width": 0.8,
        "x": 0.1,
        "y": 0.1
       },
       "content": {
        "cell": "9dabcc8a-ec92-4ccb-bce7-8500e1285eae",
        "part": "whole"
       },
       "id": "86c0b700-db00-4485-ac1f-e6fdbabd0e1b"
      }
     }
    },
    "f2d8cbe4-ab35-446a-b6aa-9d9e3d9e963d": {
     "id": "f2d8cbe4-ab35-446a-b6aa-9d9e3d9e963d",
     "prev": "ebcbc2c3-a6a5-4163-98f0-debf9685c513",
     "regions": {
      "b98498d9-1557-42f2-adf0-9d39c8af1cfb": {
       "attrs": {
        "height": 0.8,
        "width": 0.8,
        "x": 0.1,
        "y": 0.1
       },
       "content": {
        "cell": "0c8f858b-481d-4207-bf09-ae65656aa990",
        "part": "whole"
       },
       "id": "b98498d9-1557-42f2-adf0-9d39c8af1cfb"
      }
     }
    },
    "f4959c0b-eb25-4e99-8105-f94c2f430b65": {
     "id": "f4959c0b-eb25-4e99-8105-f94c2f430b65",
     "prev": "bc699a12-42ea-4750-86a6-96e20aa5eb26",
     "regions": {
      "45912726-d448-48a5-9dcb-18f7cd4b5f9e": {
       "attrs": {
        "height": 0.8,
        "width": 0.8,
        "x": 0.1,
        "y": 0.1
       },
       "content": {
        "cell": "df3ad26b-a046-4917-a6c8-05979f1508e1",
        "part": "whole"
       },
       "id": "45912726-d448-48a5-9dcb-18f7cd4b5f9e"
      }
     }
    },
    "f87d77fb-3419-4624-859f-0246e9094c32": {
     "id": "f87d77fb-3419-4624-859f-0246e9094c32",
     "prev": "95b9cf76-893e-40f8-88d9-e1bf35a64325",
     "regions": {
      "f6c21509-2937-4e04-a983-743d99602adf": {
       "attrs": {
        "height": 0.8,
        "width": 0.8,
        "x": 0.1,
        "y": 0.1
       },
       "content": {
        "cell": "eff6ecd3-20f8-46fd-9ee8-1612a1445b68",
        "part": "whole"
       },
       "id": "f6c21509-2937-4e04-a983-743d99602adf"
      }
     }
    }
   },
   "themes": {}
  }
 },
 "nbformat": 4,
 "nbformat_minor": 1
}
