{
 "cells": [
  {
   "cell_type": "markdown",
   "metadata": {
    "slideshow": {
     "slide_type": "slide"
    }
   },
   "source": [
    "# Discrete-Time Systems and the Z-Transform"
   ]
  },
  {
   "cell_type": "markdown",
   "metadata": {
    "slideshow": {
     "slide_type": "slide"
    }
   },
   "source": [
    "## Scope and Background Reading\n",
    "\n",
    "This session introduces the z-transform which is used in the analysis of discrete time systems. As for the Fourier and Laplace transforms, we present the definition, define the properties and give some applications of the use of the z-transform in the analysis of signals that are represented as sequences and systems represented by difference equations.\n",
    "\n",
    "The material in this presentation and notes is based on Chapter 10 of [Steven T. Karris, Signals and Systems: with Matlab Computation and Simulink Modelling, 5th Edition](http://site.ebrary.com/lib/swansea/docDetail.action?docID=10547416) from the **Required Reading List**. Additional coverage is to be found in Chapter 13 of [Benoit Boulet, Fundamentals of Signals and Systems](http://site.ebrary.com/lib/swansea/docDetail.action?docID=10228195) from the **Recommended Reading List**."
   ]
  },
  {
   "cell_type": "markdown",
   "metadata": {
    "slideshow": {
     "slide_type": "slide"
    }
   },
   "source": [
    "## Agenda"
   ]
  },
  {
   "cell_type": "markdown",
   "metadata": {
    "slideshow": {
     "slide_type": "fragment"
    }
   },
   "source": [
    "* Introduction"
   ]
  },
  {
   "cell_type": "markdown",
   "metadata": {
    "slideshow": {
     "slide_type": "fragment"
    }
   },
   "source": [
    "* The Z-Transform"
   ]
  },
  {
   "cell_type": "markdown",
   "metadata": {
    "slideshow": {
     "slide_type": "fragment"
    }
   },
   "source": [
    "* Properties of the Z-Transform"
   ]
  },
  {
   "cell_type": "markdown",
   "metadata": {
    "slideshow": {
     "slide_type": "fragment"
    }
   },
   "source": [
    "* Some Selected Z-Transforms"
   ]
  },
  {
   "cell_type": "markdown",
   "metadata": {
    "slideshow": {
     "slide_type": "fragment"
    }
   },
   "source": [
    "* Relationship between Laplace and Z-Transform"
   ]
  },
  {
   "cell_type": "markdown",
   "metadata": {
    "slideshow": {
     "slide_type": "fragment"
    }
   },
   "source": [
    "* Stability Regions"
   ]
  },
  {
   "cell_type": "markdown",
   "metadata": {
    "slideshow": {
     "slide_type": "slide"
    }
   },
   "source": [
    "## Introduction\n",
    "\n",
    "<img src=\"pictures/ct-to-dt.png\">"
   ]
  },
  {
   "cell_type": "markdown",
   "metadata": {
    "slideshow": {
     "slide_type": "fragment"
    }
   },
   "source": [
    "In the remainder of this course we turn our attention to how we model and analyse the behaviour of the central block in this picture."
   ]
  },
  {
   "cell_type": "markdown",
   "metadata": {
    "slideshow": {
     "slide_type": "subslide"
    }
   },
   "source": [
    "### Nature of the signals\n",
    "\n",
    "<img src=\"pictures/ct-to-dt-to-sequence.png\">"
   ]
  },
  {
   "cell_type": "markdown",
   "metadata": {
    "slideshow": {
     "slide_type": "fragment"
    }
   },
   "source": [
    "* The signals we process in discrete time systems are *sequences* of values $x[n]$ where $n$ is an index."
   ]
  },
  {
   "cell_type": "markdown",
   "metadata": {
    "slideshow": {
     "slide_type": "notes"
    }
   },
   "source": [
    "A sequence can be obtained in real-time, e.g. as the output of a ADC, or can be stored in digital memory; processed and re-stored; or processed and output in real-time, for example in digital music."
   ]
  },
  {
   "cell_type": "markdown",
   "metadata": {
    "slideshow": {
     "slide_type": "subslide"
    }
   },
   "source": [
    "### Nature of the systems\n",
    "\n",
    "* The input to a discrete time system is a squences of values $x[n]$\n",
    "* The output is also a sequence $y[n]$\n",
    "* The block represents the operations that convert $x[n]$ into $y[n]$. \n",
    "* This processing takes the form of a *difference equation* \n",
    "* This is analogous to the representation of continuous-time operations by differential equations."
   ]
  },
  {
   "cell_type": "markdown",
   "metadata": {
    "slideshow": {
     "slide_type": "subslide"
    }
   },
   "source": [
    "### Transfer function model of a DT system\n",
    "\n",
    "* In CT systems we use the Laplace transform to simplify the analysis of the *differential equations*\n",
    "* In DT systems the z-Transform allows us to simplify the analysis of the *difference equations*\n",
    "* In CT systems application of the Laplace transform allows us to represent systems as transfer functions and solve convolution problems by multiplication\n",
    "* The z-transform provides [analogous](https://www.google.co.uk/search?q=define:analogous) tools for the analysis of DT systems."
   ]
  },
  {
   "cell_type": "markdown",
   "metadata": {
    "slideshow": {
     "slide_type": "slide"
    }
   },
   "source": [
    "## The Z-Transform\n",
    "\n",
    "$$\\mathcal{Z}\\left\\{f[n]\\right\\} = F(z) = \\sum_{n=0}^{\\infty} f[n]z^{-n}$$"
   ]
  },
  {
   "cell_type": "markdown",
   "metadata": {
    "slideshow": {
     "slide_type": "fragment"
    }
   },
   "source": [
    "$${{\\cal Z}^{ - 1}}\\left\\{ {F(z)} \\right\\} = f[n] = \\frac{1}{{2\\pi j}}\\oint\\limits_{} {F(z){z^{k - 1}}\\,dz}$$"
   ]
  },
  {
   "cell_type": "markdown",
   "metadata": {
    "slideshow": {
     "slide_type": "subslide"
    }
   },
   "source": [
    "### Sampling and the Z-Transform\n",
    "\n",
    "In the last lecture we showed that sampling could be represented as the multiplication of a CT signal by a periodic train of impulses:\n",
    "\n",
    "$$x_s(t) = x(t)\\sum_{n=0}^{\\infty}\\delta(t-nT_s)$$"
   ]
  },
  {
   "cell_type": "markdown",
   "metadata": {
    "slideshow": {
     "slide_type": "subslide"
    }
   },
   "source": [
    "By the sampling property of $\\delta(t)$\n",
    "\n",
    "$$x_s(t) = \\sum_{n=0}^{\\infty}x(nT_s)\\delta(t-nT_s)$$"
   ]
  },
  {
   "cell_type": "markdown",
   "metadata": {
    "slideshow": {
     "slide_type": "subslide"
    }
   },
   "source": [
    "Using the Laplace transform pairs $\\delta(t) \\Leftrightarrow 1$ and $\\delta(t-T) \\Leftrightarrow e^{-sT}$ we obtain:"
   ]
  },
  {
   "cell_type": "markdown",
   "metadata": {
    "slideshow": {
     "slide_type": "subslide"
    }
   },
   "source": [
    "$$X_s(t) = \\mathcal{L}\\left\\{\\sum_{n=0}^{\\infty}x(nT_s)\\delta(t-nT_s)\\right\\} = \\sum_{n=0}^{\\infty}x(nT_s)e^{-nsT_s}$$"
   ]
  },
  {
   "cell_type": "markdown",
   "metadata": {
    "slideshow": {
     "slide_type": "fragment"
    }
   },
   "source": [
    "By substitution of $z = e^{sT_s}$ and representing samples $x(nT_s)$ as sequence $x[n]$:\n",
    "\n",
    "$$X(z) = \\sum_{n=0}^{\\infty}x[n]z^{-n}$$\n"
   ]
  },
  {
   "cell_type": "markdown",
   "metadata": {
    "slideshow": {
     "slide_type": "subslide"
    }
   },
   "source": [
    "## Properties of the z-Transform\n",
    "\n",
    "<table>\n",
    "<thead>\n",
    "<tr><td>&nbsp;</td><th>Property</th><th>Discrete Time Domain</th><th>$\\mathcal{Z}$ Transform</th></tr></thead>\n",
    "<tbody>\n",
    "<tr><td>1</td><td>Linearity</td><td>$af_1[n]+bf_2[n]+\\cdots$</td><td>$aF_1(z)+bF_2(z)+\\cdots$</td></tr>\n",
    "<tr><td>2</td><td>Shift of $x[n]u_0[n]$</td><td>$f[n-m]u_0[n-m]$</td><td>$z^{-m}F(z)$</td></tr>\n",
    "<tr><td>3</td><td>Left shift</td><td>$f[n-m]$</td><td>$$z^{-m}F(z)+\\sum_{n=0}^{m-1}f[n-m]z^{-n}$$</td></tr>\n",
    "<tr><td>4</td><td>Right shift</td><td>$f[n+m]$</td><td>$$z^{m}F(z)+\\sum_{n=-m}^{-1}f[n+m]z^{-n}$$</td></tr>\n",
    "<tr><td>5</td><td>Multiplication by $a^n$</td><td>$a^nf[n]$</td><td>$$F\\left(\\frac{z}{a}\\right)$$</td></tr>\n",
    "<tr><td>6</td><td>Multiplication by $e^{-nsT_s}$</td><td>$e^{-nsT_s}f[n]$</td><td>$$F\\left(e^{sT_s}z\\right)$$</td></tr>\n",
    "<tr><td>7</td><td>Multiplication by $n$</td><td>$nf[n]$</td><td>$$-z\\frac{d}{dz}F(z)$$</td></tr>\n",
    "<tr><td>8</td><td>Multiplication by $n^2$</td><td>$n^2f[n]$</td><td>$$-z\\frac{d}{dz}F(z)+z^2\\frac{d^2}{dz^2}F(z)$$</td></tr>\n",
    "<tr><td>9</td><td>Summation in time</td><td>$$\\sum_{m=0}^{n}f[m]$$</td><td>$$\\frac{z}{z-1}F(z)$$</td></tr>\n",
    "<tr><td>10</td><td>Time convolution</td><td>$f_1[n]*f_2[n]$</td><td>$F_1(z)F_2(z)$</td></tr>\n",
    "<tr><td>11</td><td>Frequency convolution</td><td>$f_1[n]f_2[n]$</td><td>$$\\frac{1}{{j2\\pi }}\\oint {x{F_1}(v){F_2}\\left( {\\frac{z}{v}} \\right)} {v^{ - 1}}dv$$</td></tr>\n",
    "<tr><td>12</td><td>Initial value theorem</td><td colspan=\"2\">$$f[0]=\\lim_{z\\to\\infty}F(z)$$</td></tr>\n",
    "<tr><td>13</td><td>Final value theorem</td><td colspan=\"2\">$$\\lim_{n\\to\\infty}f[n]=\\lim_{z\\to 1}(z-1)F(z)$$</td></tr>\n",
    "</tbody>\n",
    "</table>\n",
    "\n",
    "For proofs refer to Section 9.2 of Karris."
   ]
  },
  {
   "cell_type": "markdown",
   "metadata": {
    "slideshow": {
     "slide_type": "slide"
    }
   },
   "source": [
    "## Some Selected Common z-Transforms\n",
    "\n",
    "### The Geometric Sequence"
   ]
  },
  {
   "cell_type": "markdown",
   "metadata": {
    "slideshow": {
     "slide_type": "fragment"
    }
   },
   "source": [
    "$$f[n] = \\left\\{ {\\begin{array}{*{20}{c}}\n",
    "0&{n =  - 1, - 2, - 3, \\ldots }\\\\\n",
    "{{a^n}}&{n = 0,1,2,3, \\ldots }\n",
    "\\end{array}} \\right.$$"
   ]
  },
  {
   "cell_type": "markdown",
   "metadata": {
    "slideshow": {
     "slide_type": "fragment"
    }
   },
   "source": [
    "$$F(z) = \\sum_{n=0}^{\\infty}f[n]z^{-n} = \\sum_{n=0}^{\\infty}a^n z^{-n} = \\sum_{n=0}^{\\infty}\\left(az^{-1}\\right)^n$$"
   ]
  },
  {
   "cell_type": "markdown",
   "metadata": {
    "slideshow": {
     "slide_type": "fragment"
    }
   },
   "source": [
    "After some analysis<sup>1</sup>, this can be shown to have a *closed-form* expression<sup>2</sup>\n",
    "\n",
    "$$F(z) = \\frac{1}{1-az^{-1}}=\\frac{z}{z -a}$$"
   ]
  },
  {
   "cell_type": "markdown",
   "metadata": {
    "slideshow": {
     "slide_type": "notes"
    }
   },
   "source": [
    "**Notes**\n",
    "\n",
    "1. See Karris pp 9-12&mdash;9-13 for the details\n",
    "\n",
    "2. This function converges only if $|z| < |a|$ and the region of convergence is outside the cicle centred at $z=0$ with radius $r=|a|$"
   ]
  },
  {
   "cell_type": "markdown",
   "metadata": {
    "slideshow": {
     "slide_type": "subslide"
    }
   },
   "source": [
    "### Region of convergence\n",
    "\n",
    "<img src=\"pictures/roc.png\">"
   ]
  },
  {
   "cell_type": "markdown",
   "metadata": {
    "slideshow": {
     "slide_type": "subslide"
    }
   },
   "source": [
    "### The Delta Sequence"
   ]
  },
  {
   "cell_type": "markdown",
   "metadata": {
    "slideshow": {
     "slide_type": "fragment"
    }
   },
   "source": [
    "$$\\delta [n] = \\left\\{ {\\begin{array}{*{20}{c}}\n",
    "1&{n = 0}\\\\\n",
    "0&{{\\rm{otherwise}}}\n",
    "\\end{array}} \\right.$$"
   ]
  },
  {
   "cell_type": "markdown",
   "metadata": {
    "slideshow": {
     "slide_type": "fragment"
    }
   },
   "source": [
    "$$\\mathcal{Z}\\left\\{\\delta [n]\\right\\} = \\Delta(z) = \\sum_{n=0}^{\\infty}\\delta[n]z^{-n} = 1 + \\sum_{n=1}^{\\infty}0z^{-n} =1$$"
   ]
  },
  {
   "cell_type": "markdown",
   "metadata": {
    "slideshow": {
     "slide_type": "fragment"
    }
   },
   "source": [
    "$$\\delta [n] \\Leftrightarrow 1$$"
   ]
  },
  {
   "cell_type": "markdown",
   "metadata": {
    "slideshow": {
     "slide_type": "subslide"
    }
   },
   "source": [
    "### The Unit Step\n",
    "\n",
    "$${u_0}[n] = {\\rm{ }}\\left\\{ {\\begin{array}{*{20}{c}}\n",
    "0&{n < 0}\\\\\n",
    "1&{n \\ge 0}\n",
    "\\end{array}} \\right.$$\n",
    "\n",
    "<img src=\"pictures/unitstep.png\">"
   ]
  },
  {
   "cell_type": "markdown",
   "metadata": {
    "slideshow": {
     "slide_type": "subslide"
    }
   },
   "source": [
    "### Z-Transform of Unit Step"
   ]
  },
  {
   "cell_type": "markdown",
   "metadata": {
    "slideshow": {
     "slide_type": "fragment"
    }
   },
   "source": [
    "$$\\mathcal{Z}\\left\\{u_0 [n]\\right\\} U_0(z) = \\sum_{n=0}^{\\infty}u_0[n]z^{-n} =\\sum_{n=0}^{\\infty}z^{-n}$$"
   ]
  },
  {
   "cell_type": "markdown",
   "metadata": {
    "slideshow": {
     "slide_type": "fragment"
    }
   },
   "source": [
    "This is a special case of the geometric sequence with $a = 1$ so\n",
    "\n",
    "$$U_0(z) = \\frac{1}{1-z^{-1}} = \\frac{z}{z - 1}$$"
   ]
  },
  {
   "cell_type": "markdown",
   "metadata": {
    "slideshow": {
     "slide_type": "fragment"
    }
   },
   "source": [
    "Region of convergence is $|z| > 1$"
   ]
  },
  {
   "cell_type": "markdown",
   "metadata": {
    "slideshow": {
     "slide_type": "subslide"
    }
   },
   "source": [
    "### Exponontial Decay Sequence\n",
    "\n",
    "$$f[n] = e^{naT_s}{u_0}[n]$$"
   ]
  },
  {
   "cell_type": "markdown",
   "metadata": {
    "slideshow": {
     "slide_type": "fragment"
    }
   },
   "source": [
    "$$F(z) = \\sum_{n=0}^{\\infty}e^{-nasT_s}z^{-n} =1+e^{-aT_s}z^{-1}+e^{-2aT_s}z^{-2}+e^{-a3T_s}z^{-3}+\\cdots$$"
   ]
  },
  {
   "cell_type": "markdown",
   "metadata": {
    "slideshow": {
     "slide_type": "fragment"
    }
   },
   "source": [
    "This is a geometric sequence with $a = e^{-aT_s}$, so\n",
    "\n",
    "$$\\mathcal{Z}\\left\\{e^{naT_s}{u_0}[n]\\right\\} = \\frac{1}{1-e^{-aT_s}z^{-1}} = \\frac{z}{z-e^{-aT_s}}$$"
   ]
  },
  {
   "cell_type": "markdown",
   "metadata": {
    "slideshow": {
     "slide_type": "fragment"
    }
   },
   "source": [
    "Region of convergence is $|e^{-aT_s}z^{-1}| < 1$"
   ]
  },
  {
   "cell_type": "markdown",
   "metadata": {
    "slideshow": {
     "slide_type": "subslide"
    }
   },
   "source": [
    "### Ramp Function\n",
    "\n",
    "$$f[n] = nu_0[n]$$"
   ]
  },
  {
   "cell_type": "markdown",
   "metadata": {
    "slideshow": {
     "slide_type": "fragment"
    }
   },
   "source": [
    "$$\\mathcal{Z}\\left\\{nu_0[n]\\right\\}=\\sum_{n=0}^{\\infty} nz^{-n} = 0 + z^{-1}+2z^{-2}+3z^{-3}+\\cdots$$"
   ]
  },
  {
   "cell_type": "markdown",
   "metadata": {
    "slideshow": {
     "slide_type": "fragment"
    }
   },
   "source": [
    "We recognize this as a signal $u_0[n]$ multiplied by $n$ for which we have the property \n",
    "$$nf[n] \\Leftrightarrow -z\\frac{d}{dz}F(z)$$"
   ]
  },
  {
   "cell_type": "markdown",
   "metadata": {
    "slideshow": {
     "slide_type": "fragment"
    }
   },
   "source": [
    "After applying the property and some manipulation, we arrive at:\n",
    "\n",
    "$$nu_0[n] \\Leftrightarrow \\frac{z}{(z-1)^2}$$"
   ]
  },
  {
   "cell_type": "markdown",
   "metadata": {
    "slideshow": {
     "slide_type": "subslide"
    }
   },
   "source": [
    "### z-Transform Tables\n",
    "\n",
    "As usual, we can rely on this and similar analysis to have been tabulated for us and in practice we can rely on tables of transform pairs, such as this one.\n",
    "\n",
    "<table>\n",
    "<thead>\n",
    "<tr><td>&nbsp;</td><th>f[n]</th><th>F(z)</th></tr></thead>\n",
    "<tbody>\n",
    "<tr><td>1</td><td>$$\\delta[n]$$</td><td>$$1$$</td></tr>\n",
    "<tr><td>2</td><td>$$\\delta[n-m]$$</td><td>$$z^{-m}$$</td></tr>\n",
    "<tr><td>3</td><td>$$a^nu_0[n]$$</td><td>$$\\frac{z}{z-a}\\;|z| > a$$</td></tr>\n",
    "<tr><td>4</td><td>$$u_0[n]$$</td><td>$$\\frac{z}{z-1}\\;|z| > 1$$</td></tr>\n",
    "<tr><td>5</td><td>$$(e^{-anT_s})u_0[n]$$</td><td>$$\\frac{z}{z-e^{-aT_s}}\\;|e^{-aT_s}z^{-1}| < 1$$</td></tr>\n",
    "<tr><td>6</td><td>$$(\\cos naT_s)u_0[n]$$</td><td>$$\\frac{z^2 - z\\cos aT_s}{z^2 -2z\\cos aT_s + 1}\\;|z| > 1$$</td></tr>\n",
    "<tr><td>7</td><td>$$(\\sin naT_s)u_0[n]$$</td><td>$$\\frac{z\\sin aT_s}{z^2 -2z\\cos aT_s + 1}\\;|z| > 1$$</td></tr>\n",
    "<tr><td>8</td><td>$$(a^n\\cos naT_s)u_0[n]$$</td><td>$$\\frac{z^2 - az\\cos aT_s}{z^2 -2az\\cos aT_s + a^2}\\;|z| > 1$$</td></tr>\n",
    "<tr><td>9</td><td>$$(a^n\\sin naT_s)u_0[n]$$</td><td>$$\\frac{az\\sin aT_s}{z^2 -2az\\cos aT_s + a^2}\\;|z| > 1$$</td></tr>\n",
    "<tr><td>10</td><td>$$u_0[n]-u_0[n-m]$$</td><td>$$\\frac{z^m-1}{z^{m-1}(z-1)}$$</td></tr>\n",
    "<tr><td>11</td><td>$$nu_0[n]$$</td><td>$$\\frac{z}{(z-1)^2}$$</td></tr>\n",
    "<tr><td>12</td><td>$$n^2u_0[n]$$</td><td>$$\\frac{z(z+1)}{(z-1)^3}$$</td></tr>\n",
    "<tr><td>13</td><td>$$[n+1]u_0[n]$$</td><td>$$\\frac{z^2}{(z-1)^2}$$</td></tr>\n",
    "<tr><td>14</td><td>$$a^n n u_0[n]$$</td><td>$$\\frac{az}{(z-a)^2}$$</td></tr>\n",
    "<tr><td>15</td><td>$$a^n n^2 u_0[n]$$</td><td>$$\\frac{az(z+a)}{(z-a)^3}$$</td></tr>\n",
    "<tr><td>16</td><td>$$a^n n[n+1] u_0[n]$$</td><td>$$\\frac{2az^2}{(z-a)^3}$$</td></tr>\n",
    "\n",
    "</tbody>\n",
    "</table>"
   ]
  },
  {
   "cell_type": "markdown",
   "metadata": {
    "slideshow": {
     "slide_type": "slide"
    }
   },
   "source": [
    "## Relationship Between the Laplace and Z-Transform"
   ]
  },
  {
   "cell_type": "markdown",
   "metadata": {
    "slideshow": {
     "slide_type": "fragment"
    }
   },
   "source": [
    "Given that we can represent a sampled signal in the complex frequency domain as the infinite sum of each sequence value delayed by an integer multiple of the sampling time:\n",
    "\n",
    "$$F(s) = \\sum_{n=0}^{\\infty}f[n]e^{-nsT_s}$$"
   ]
  },
  {
   "cell_type": "markdown",
   "metadata": {
    "slideshow": {
     "slide_type": "fragment"
    }
   },
   "source": [
    "And by definition, the z-transform of such a sequence is:\n",
    "\n",
    "$$F(z) = \\sum_{n=0}^{\\infty}f[n]z^{-n}$$"
   ]
  },
  {
   "cell_type": "markdown",
   "metadata": {
    "slideshow": {
     "slide_type": "subslide"
    }
   },
   "source": [
    "It follows that\n",
    "\n",
    "$$z = e^{sT_s}$$"
   ]
  },
  {
   "cell_type": "markdown",
   "metadata": {
    "slideshow": {
     "slide_type": "fragment"
    }
   },
   "source": [
    "And\n",
    "\n",
    "$$s = \\frac{1}{T_s}\\ln z$$"
   ]
  },
  {
   "cell_type": "markdown",
   "metadata": {
    "slideshow": {
     "slide_type": "subslide"
    }
   },
   "source": [
    "### Mapping of s to z\n",
    "\n",
    "Since $s$ and $z$ are both complex variables, $z=e^{sT_s}$ is a mapping from the $s$-domain to the $z$-domain and $z = \\ln z/T_s$ is a mapping from the $z$ to $s$-domain."
   ]
  },
  {
   "cell_type": "markdown",
   "metadata": {
    "slideshow": {
     "slide_type": "fragment"
    }
   },
   "source": [
    "<img src=\"pictures/mapping-s-to-z.png\"> "
   ]
  },
  {
   "cell_type": "markdown",
   "metadata": {
    "slideshow": {
     "slide_type": "subslide"
    }
   },
   "source": [
    "### Mapping of s to z\n",
    "\n",
    "Now, since\n",
    "\n",
    "$$s = \\sigma + j\\omega$$"
   ]
  },
  {
   "cell_type": "markdown",
   "metadata": {
    "slideshow": {
     "slide_type": "fragment"
    }
   },
   "source": [
    "$$z = e^{\\sigma T_s + j\\omega T_s} = e^{\\sigma T_s}e^{j\\omega T_s} = |z|e^{j\\theta}$$"
   ]
  },
  {
   "cell_type": "markdown",
   "metadata": {
    "slideshow": {
     "slide_type": "fragment"
    }
   },
   "source": [
    "where $|z| = e^{\\sigma Ts}$ and $\\theta = \\omega T_s$."
   ]
  },
  {
   "cell_type": "markdown",
   "metadata": {
    "slideshow": {
     "slide_type": "subslide"
    }
   },
   "source": [
    "### Introduction of sampling frequency\n",
    "\n",
    "Now, since $T_s = 1/f_s$ then $\\omega_s = 2\\pi/f_s$ or $f_s = \\omega_s/(2\\pi)$ and $T_s = 2\\pi/\\omega_s$"
   ]
  },
  {
   "cell_type": "markdown",
   "metadata": {
    "slideshow": {
     "slide_type": "fragment"
    }
   },
   "source": [
    "We let\n",
    "\n",
    "$$\\theta = \\omega T_s = \\omega\\frac{2\\pi}{\\omega_s} = 2\\pi\\frac{\\omega}{\\omega_s}$$"
   ]
  },
  {
   "cell_type": "markdown",
   "metadata": {
    "slideshow": {
     "slide_type": "fragment"
    }
   },
   "source": [
    "Hence by substitution:\n",
    "\n",
    "$$z = e^{\\sigma t}e^{j2\\pi\\omega/\\omega_s}$$"
   ]
  },
  {
   "cell_type": "markdown",
   "metadata": {
    "slideshow": {
     "slide_type": "subslide"
    }
   },
   "source": [
    "### Interpretation of the mapping s to z\n",
    "\n",
    "* The quantity $e^{j2\\pi\\omega/\\omega_s}$ defines a unit-circle in the $z$-plane centred at the origin. \n",
    "\n",
    "* And of course the term $\\sigma$ represents the (stability) boundary between the left- and right-half planes of the $s$-plane.\n",
    "\n",
    "* What are the consequences of this?"
   ]
  },
  {
   "cell_type": "markdown",
   "metadata": {
    "slideshow": {
     "slide_type": "subslide"
    }
   },
   "source": [
    "### Case I: $\\sigma < 0$\n",
    "\n",
    "* When $\\sigma < 0$ we see that from $|z| = e^{\\sigma T_s}$ that $|z| < 1$\n",
    "* The left-half plane of the $s$-domain maps into the unit circle in the $z$-plane.\n",
    "* Different negative values of $\\sigma$ map onto concentric circles with radius less than unity."
   ]
  },
  {
   "cell_type": "markdown",
   "metadata": {
    "slideshow": {
     "slide_type": "subslide"
    }
   },
   "source": [
    "### Case II: $\\sigma > 0$"
   ]
  },
  {
   "cell_type": "markdown",
   "metadata": {
    "slideshow": {
     "slide_type": "fragment"
    }
   },
   "source": [
    "* When $\\sigma > 0$ we see that from $|z| = e^{\\sigma T_s}$ that $|z| > 1$\n",
    "* The right-half plane of the $s$-domain maps outside the unit circle in the $z$-plane.\n",
    "* Different positive values of $\\sigma$ map onto concentric circles with radius greater than unity."
   ]
  },
  {
   "cell_type": "markdown",
   "metadata": {
    "slideshow": {
     "slide_type": "subslide"
    }
   },
   "source": [
    "### Case III: $\\sigma = 0$"
   ]
  },
  {
   "cell_type": "markdown",
   "metadata": {
    "slideshow": {
     "slide_type": "fragment"
    }
   },
   "source": [
    "* When $\\sigma = 0$, $|z| = 1$ and $\\theta = 2\\pi\\omega/\\omega_s$\n",
    "* All values of $\\omega$ lie on the circumference of the unit circle."
   ]
  },
  {
   "cell_type": "markdown",
   "metadata": {
    "slideshow": {
     "slide_type": "subslide"
    }
   },
   "source": [
    "### Stability Region - s-Plane\n",
    "\n",
    "<img src=\"pictures/s-plane.png\">"
   ]
  },
  {
   "cell_type": "markdown",
   "metadata": {
    "slideshow": {
     "slide_type": "subslide"
    }
   },
   "source": [
    "### Stability Region - z-Plane\n",
    "\n",
    "<img src=\"pictures/z-plane.png\">"
   ]
  },
  {
   "cell_type": "markdown",
   "metadata": {
    "slideshow": {
     "slide_type": "subslide"
    }
   },
   "source": [
    "### Frequencies in the z-Domain\n",
    "\n",
    "* As a consequence of the result for **Case III** above, we can explore how frequencies (that is is values of $s=\\pm j\\omega$) map onto the $z$-plane.\n",
    "\n",
    "* We already know that these frequencies will map onto the unit circle and by $\\theta = 2\\pi\\omega/\\omega_s$ the angles are related to the sampling frequency.\n",
    "\n",
    "* Let's see how"
   ]
  },
  {
   "cell_type": "markdown",
   "metadata": {
    "slideshow": {
     "slide_type": "subslide"
    }
   },
   "source": [
    "### Mapping of multiples of sampling frequency"
   ]
  },
  {
   "cell_type": "markdown",
   "metadata": {
    "slideshow": {
     "slide_type": "fragment"
    }
   },
   "source": [
    "<table>\n",
    "<thead><tr><td>$\\omega$ [radians/sec]</td><td>$|z|$</td><td>$\\theta$ [radians]</td></tr>\n",
    "</thead>\n",
    "<tbody>\n",
    "<tr><td>0</td><td>1</td><td>0</td></tr>\n",
    "<tr><td>$\\omega_s/8$</td><td>1</td><td>$\\pi/4$</td></tr>\n",
    "<tr><td>$\\omega_s/4$</td><td>1</td><td>$\\pi/2$</td></tr>\n",
    "<tr><td>$3\\omega_s/8$</td><td>1</td><td>$3\\pi/4$</td></tr>\n",
    "<tr><td>$\\omega_s/2$</td><td>1</td><td>$\\pi$</td></tr>\n",
    "<tr><td>$5\\omega_s/8$</td><td>1</td><td>$5\\pi/4$</td></tr>\n",
    "<tr><td>$3\\omega_s/4$</td><td>1</td><td>$3\\pi/2$</td></tr>\n",
    "<tr><td>$7\\omega_s/8$</td><td>1</td><td>$7\\pi/4$</td></tr>\n",
    "<tr><td>$\\omega_s$</td><td>1</td><td>$2\\pi$</td></tr>\n",
    "</tbody>\n",
    "</table>"
   ]
  },
  {
   "cell_type": "markdown",
   "metadata": {
    "slideshow": {
     "slide_type": "subslide"
    }
   },
   "source": [
    "### Mapping of s-plane to z-plane\n",
    "\n",
    "<img src=\"pictures/s-to-z-mapping.png\">"
   ]
  },
  {
   "cell_type": "markdown",
   "metadata": {
    "slideshow": {
     "slide_type": "subslide"
    }
   },
   "source": [
    "### Mapping z-plane to s-plane\n",
    "\n",
    "There is no unique mapping of $z$ to $s$ since\n",
    "\n",
    "$$s = \\frac{1}{T_s} \\ln z$$\n",
    "\n",
    "but for a complex variable\n",
    "\n",
    "$$\\ln z = \\ln z \\pm j2n\\pi$$\n",
    "\n",
    "This is in agreement with the theoretical idea that in the frequency domain, sampling creates an infinite number of spectra, each of which is centred around $\\pm n\\omega_s$."
   ]
  },
  {
   "cell_type": "markdown",
   "metadata": {
    "slideshow": {
     "slide_type": "subslide"
    }
   },
   "source": [
    "### Frequency aliasing\n",
    "\n",
    "* It's worth observing that any stable complex pole in the $s$-plane $s=-\\sigma + j\\omega$ will have complex conjugate pair $s = -\\sigma - j\\omega$.\n",
    "* Providing $\\omega < \\omega_s/2$ these poles will be mapped to the upper and lower half-plane of the $z$-plane respectively.\n",
    "* If $\\omega > \\omega_s/2$, an upper-half plane pole will be mapped to the lower-half plane and will have an effective frequency of $\\omega_s/2 - \\omega$.\n",
    "* Similarly, its conjugate pair will move into the upper-half plane. \n",
    "\n",
    "This is another way of looking at *aliasing*."
   ]
  },
  {
   "cell_type": "markdown",
   "metadata": {
    "slideshow": {
     "slide_type": "notes"
    }
   },
   "source": [
    "* Also, any poles with frequency $\\omega > \\omega_s$ will also be aliased back into into the unit circle."
   ]
  },
  {
   "cell_type": "markdown",
   "metadata": {
    "slideshow": {
     "slide_type": "slide"
    }
   },
   "source": [
    "## Summary\n",
    "\n",
    "* Introduction\n",
    "* The Z-Transform\n",
    "* Properties of the Z-Transform\n",
    "* Some Selected Z-Transforms\n",
    "* Relationship Between Laplace and Z-Transform\n",
    "* Stability Regions\n",
    "\n",
    "*Next session*\n",
    "\n",
    "* The Inverse Z-Transform &ndash; an examples class"
   ]
  },
  {
   "cell_type": "markdown",
   "metadata": {
    "slideshow": {
     "slide_type": "slide"
    }
   },
   "source": [
    "## Homework"
   ]
  },
  {
   "cell_type": "markdown",
   "metadata": {
    "slideshow": {
     "slide_type": "-"
    }
   },
   "source": [
    "Problems 1 to 3 in **Section 9.10 Exercises** of Karris explore the z-Transform"
   ]
  }
 ],
 "metadata": {
  "anaconda-cloud": {},
  "celltoolbar": "Slideshow",
  "kernelspec": {
   "display_name": "Python 3",
   "language": "python",
   "name": "python3"
  },
  "language_info": {
   "codemirror_mode": {
    "name": "ipython",
    "version": 3
   },
   "file_extension": ".py",
   "mimetype": "text/x-python",
   "name": "python",
   "nbconvert_exporter": "python",
   "pygments_lexer": "ipython3",
   "version": "3.6.5"
  }
 },
 "nbformat": 4,
 "nbformat_minor": 1
}
